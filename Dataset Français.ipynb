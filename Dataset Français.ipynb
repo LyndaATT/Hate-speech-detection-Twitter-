{
 "cells": [
  {
   "cell_type": "code",
   "execution_count": 117,
   "id": "303e1699",
   "metadata": {},
   "outputs": [],
   "source": [
    "import pandas as pd\n",
    "import matplotlib.pyplot as plt\n",
    "import seaborn as sns\n",
    "import warnings\n",
    "warnings.filterwarnings('ignore')\n",
    "import numpy as np\n",
    "import pandas as pd\n",
    "import seaborn as sns\n",
    "import sklearn\n",
    "df = pd.read_csv('fr_dataset.csv')\n",
    "df__ = pd.read_csv('fr_dataset.csv')"
   ]
  },
  {
   "cell_type": "code",
   "execution_count": 2,
   "id": "5508d642",
   "metadata": {},
   "outputs": [
    {
     "data": {
      "text/html": [
       "<div>\n",
       "<style scoped>\n",
       "    .dataframe tbody tr th:only-of-type {\n",
       "        vertical-align: middle;\n",
       "    }\n",
       "\n",
       "    .dataframe tbody tr th {\n",
       "        vertical-align: top;\n",
       "    }\n",
       "\n",
       "    .dataframe thead th {\n",
       "        text-align: right;\n",
       "    }\n",
       "</style>\n",
       "<table border=\"1\" class=\"dataframe\">\n",
       "  <thead>\n",
       "    <tr style=\"text-align: right;\">\n",
       "      <th></th>\n",
       "      <th>HITId</th>\n",
       "      <th>tweet</th>\n",
       "      <th>sentiment</th>\n",
       "      <th>directness</th>\n",
       "      <th>annotator_sentiment</th>\n",
       "      <th>target</th>\n",
       "      <th>group</th>\n",
       "    </tr>\n",
       "  </thead>\n",
       "  <tbody>\n",
       "    <tr>\n",
       "      <th>0</th>\n",
       "      <td>1</td>\n",
       "      <td>rt @user personnage ainsi q tte la clique gauc...</td>\n",
       "      <td>abusive</td>\n",
       "      <td>direct</td>\n",
       "      <td>shock</td>\n",
       "      <td>origin</td>\n",
       "      <td>other</td>\n",
       "    </tr>\n",
       "    <tr>\n",
       "      <th>1</th>\n",
       "      <td>2</td>\n",
       "      <td>@user @user @user bah oui t'as raison l'autre ...</td>\n",
       "      <td>offensive</td>\n",
       "      <td>indirect</td>\n",
       "      <td>shock</td>\n",
       "      <td>other</td>\n",
       "      <td>individual</td>\n",
       "    </tr>\n",
       "    <tr>\n",
       "      <th>2</th>\n",
       "      <td>3</td>\n",
       "      <td>moi j'ai personne à qui m'adresser pour réclam...</td>\n",
       "      <td>hateful</td>\n",
       "      <td>direct</td>\n",
       "      <td>anger_confusion_sadness_fear_disgust</td>\n",
       "      <td>other</td>\n",
       "      <td>women</td>\n",
       "    </tr>\n",
       "    <tr>\n",
       "      <th>3</th>\n",
       "      <td>4</td>\n",
       "      <td>@user @user c...est vrai que les anchois sont ...</td>\n",
       "      <td>normal</td>\n",
       "      <td>indirect</td>\n",
       "      <td>indifference</td>\n",
       "      <td>other</td>\n",
       "      <td>other</td>\n",
       "    </tr>\n",
       "    <tr>\n",
       "      <th>4</th>\n",
       "      <td>5</td>\n",
       "      <td>eh les renois faut se réveiller la @url</td>\n",
       "      <td>normal</td>\n",
       "      <td>direct</td>\n",
       "      <td>sadness</td>\n",
       "      <td>origin</td>\n",
       "      <td>african_descent</td>\n",
       "    </tr>\n",
       "    <tr>\n",
       "      <th>...</th>\n",
       "      <td>...</td>\n",
       "      <td>...</td>\n",
       "      <td>...</td>\n",
       "      <td>...</td>\n",
       "      <td>...</td>\n",
       "      <td>...</td>\n",
       "      <td>...</td>\n",
       "    </tr>\n",
       "    <tr>\n",
       "      <th>4009</th>\n",
       "      <td>4010</td>\n",
       "      <td>@user tres bien. le cinema francais c...est so...</td>\n",
       "      <td>offensive</td>\n",
       "      <td>indirect</td>\n",
       "      <td>sadness</td>\n",
       "      <td>other</td>\n",
       "      <td>left_wing_people</td>\n",
       "    </tr>\n",
       "    <tr>\n",
       "      <th>4010</th>\n",
       "      <td>4011</td>\n",
       "      <td>@user j’ai que des rebeus en demande d’amis aussi</td>\n",
       "      <td>disrespectful_normal</td>\n",
       "      <td>direct</td>\n",
       "      <td>indifference</td>\n",
       "      <td>origin</td>\n",
       "      <td>arabs</td>\n",
       "    </tr>\n",
       "    <tr>\n",
       "      <th>4011</th>\n",
       "      <td>4012</td>\n",
       "      <td>@user sale juif de merde</td>\n",
       "      <td>offensive</td>\n",
       "      <td>direct</td>\n",
       "      <td>fear_shock_indifference_sadness_disgust</td>\n",
       "      <td>religion</td>\n",
       "      <td>jews</td>\n",
       "    </tr>\n",
       "    <tr>\n",
       "      <th>4012</th>\n",
       "      <td>4013</td>\n",
       "      <td>@user pourquoi tant de migrants africains en e...</td>\n",
       "      <td>normal</td>\n",
       "      <td>indirect</td>\n",
       "      <td>indifference</td>\n",
       "      <td>origin</td>\n",
       "      <td>immigrants</td>\n",
       "    </tr>\n",
       "    <tr>\n",
       "      <th>4013</th>\n",
       "      <td>4014</td>\n",
       "      <td>@user mdr c’est un mongol lui en mode lui dema...</td>\n",
       "      <td>offensive</td>\n",
       "      <td>indirect</td>\n",
       "      <td>indifference</td>\n",
       "      <td>disability</td>\n",
       "      <td>individual</td>\n",
       "    </tr>\n",
       "  </tbody>\n",
       "</table>\n",
       "<p>4014 rows × 7 columns</p>\n",
       "</div>"
      ],
      "text/plain": [
       "      HITId                                              tweet  \\\n",
       "0         1  rt @user personnage ainsi q tte la clique gauc...   \n",
       "1         2  @user @user @user bah oui t'as raison l'autre ...   \n",
       "2         3  moi j'ai personne à qui m'adresser pour réclam...   \n",
       "3         4  @user @user c...est vrai que les anchois sont ...   \n",
       "4         5            eh les renois faut se réveiller la @url   \n",
       "...     ...                                                ...   \n",
       "4009   4010  @user tres bien. le cinema francais c...est so...   \n",
       "4010   4011  @user j’ai que des rebeus en demande d’amis aussi   \n",
       "4011   4012                           @user sale juif de merde   \n",
       "4012   4013  @user pourquoi tant de migrants africains en e...   \n",
       "4013   4014  @user mdr c’est un mongol lui en mode lui dema...   \n",
       "\n",
       "                 sentiment directness  \\\n",
       "0                  abusive     direct   \n",
       "1                offensive   indirect   \n",
       "2                  hateful     direct   \n",
       "3                   normal   indirect   \n",
       "4                   normal     direct   \n",
       "...                    ...        ...   \n",
       "4009             offensive   indirect   \n",
       "4010  disrespectful_normal     direct   \n",
       "4011             offensive     direct   \n",
       "4012                normal   indirect   \n",
       "4013             offensive   indirect   \n",
       "\n",
       "                          annotator_sentiment      target             group  \n",
       "0                                       shock      origin             other  \n",
       "1                                       shock       other        individual  \n",
       "2        anger_confusion_sadness_fear_disgust       other             women  \n",
       "3                                indifference       other             other  \n",
       "4                                     sadness      origin   african_descent  \n",
       "...                                       ...         ...               ...  \n",
       "4009                                  sadness       other  left_wing_people  \n",
       "4010                             indifference      origin             arabs  \n",
       "4011  fear_shock_indifference_sadness_disgust    religion              jews  \n",
       "4012                             indifference      origin        immigrants  \n",
       "4013                             indifference  disability        individual  \n",
       "\n",
       "[4014 rows x 7 columns]"
      ]
     },
     "execution_count": 2,
     "metadata": {},
     "output_type": "execute_result"
    }
   ],
   "source": [
    "df__"
   ]
  },
  {
   "cell_type": "code",
   "execution_count": 3,
   "id": "8c1434de",
   "metadata": {},
   "outputs": [
    {
     "data": {
      "text/plain": [
       "4014"
      ]
     },
     "execution_count": 3,
     "metadata": {},
     "output_type": "execute_result"
    }
   ],
   "source": [
    "len(df)"
   ]
  },
  {
   "cell_type": "code",
   "execution_count": 4,
   "id": "a24f1380",
   "metadata": {},
   "outputs": [
    {
     "data": {
      "text/plain": [
       "2628"
      ]
     },
     "execution_count": 4,
     "metadata": {},
     "output_type": "execute_result"
    }
   ],
   "source": [
    "len(df__)\n",
    "df___ = df__.drop(df__[df__.target=='other'].index)\n",
    "df___['target']\n",
    "len(df___)"
   ]
  },
  {
   "cell_type": "code",
   "execution_count": 5,
   "id": "372adf48",
   "metadata": {},
   "outputs": [
    {
     "data": {
      "text/plain": [
       "array(['disability', 'gender', 'origin', 'religion', 'sexual_orientation'],\n",
       "      dtype=object)"
      ]
     },
     "execution_count": 5,
     "metadata": {},
     "output_type": "execute_result"
    }
   ],
   "source": [
    "np.unique(df___['target'].values)"
   ]
  },
  {
   "cell_type": "code",
   "execution_count": 6,
   "id": "133a4fcc",
   "metadata": {},
   "outputs": [
    {
     "data": {
      "text/plain": [
       "array(['abusive', 'abusive_disrespectful',\n",
       "       'abusive_disrespectful_hateful',\n",
       "       'abusive_disrespectful_hateful_normal',\n",
       "       'abusive_disrespectful_normal', 'abusive_hateful',\n",
       "       'abusive_hateful_disrespectful',\n",
       "       'abusive_hateful_disrespectful_normal', 'abusive_hateful_normal',\n",
       "       'abusive_normal', 'abusive_offensive',\n",
       "       'abusive_offensive_disrespectful',\n",
       "       'abusive_offensive_disrespectful_hateful_normal',\n",
       "       'abusive_offensive_disrespectful_normal',\n",
       "       'abusive_offensive_hateful',\n",
       "       'abusive_offensive_hateful_disrespectful',\n",
       "       'abusive_offensive_hateful_disrespectful_normal',\n",
       "       'abusive_offensive_hateful_normal', 'abusive_offensive_normal',\n",
       "       'disrespectful', 'disrespectful_hateful', 'disrespectful_normal',\n",
       "       'fearful', 'fearful_abusive', 'fearful_abusive_disrespectful',\n",
       "       'fearful_abusive_disrespectful_hateful_normal',\n",
       "       'fearful_abusive_disrespectful_normal', 'fearful_abusive_hateful',\n",
       "       'fearful_abusive_hateful_disrespectful',\n",
       "       'fearful_abusive_hateful_disrespectful_normal',\n",
       "       'fearful_abusive_hateful_normal', 'fearful_abusive_normal',\n",
       "       'fearful_abusive_offensive',\n",
       "       'fearful_abusive_offensive_disrespectful',\n",
       "       'fearful_abusive_offensive_disrespectful_normal',\n",
       "       'fearful_abusive_offensive_hateful',\n",
       "       'fearful_abusive_offensive_hateful_disrespectful',\n",
       "       'fearful_abusive_offensive_hateful_normal',\n",
       "       'fearful_abusive_offensive_normal', 'fearful_disrespectful',\n",
       "       'fearful_disrespectful_hateful_normal',\n",
       "       'fearful_disrespectful_normal', 'fearful_hateful',\n",
       "       'fearful_hateful_disrespectful',\n",
       "       'fearful_hateful_disrespectful_normal', 'fearful_hateful_normal',\n",
       "       'fearful_normal', 'fearful_offensive',\n",
       "       'fearful_offensive_disrespectful',\n",
       "       'fearful_offensive_disrespectful_hateful_normal',\n",
       "       'fearful_offensive_disrespectful_normal',\n",
       "       'fearful_offensive_hateful',\n",
       "       'fearful_offensive_hateful_disrespectful',\n",
       "       'fearful_offensive_hateful_disrespectful_normal',\n",
       "       'fearful_offensive_hateful_normal', 'fearful_offensive_normal',\n",
       "       'hateful', 'hateful_disrespectful', 'hateful_disrespectful_normal',\n",
       "       'hateful_normal', 'normal', 'offensive', 'offensive_disrespectful',\n",
       "       'offensive_disrespectful_normal', 'offensive_hateful',\n",
       "       'offensive_hateful_disrespectful',\n",
       "       'offensive_hateful_disrespectful_normal',\n",
       "       'offensive_hateful_normal', 'offensive_normal'], dtype=object)"
      ]
     },
     "execution_count": 6,
     "metadata": {},
     "output_type": "execute_result"
    }
   ],
   "source": [
    "np.unique(df['sentiment'].values)"
   ]
  },
  {
   "cell_type": "code",
   "execution_count": 7,
   "id": "453b38d7",
   "metadata": {},
   "outputs": [
    {
     "data": {
      "text/plain": [
       "Index(['HITId', 'tweet', 'sentiment', 'directness', 'annotator_sentiment',\n",
       "       'target', 'group'],\n",
       "      dtype='object')"
      ]
     },
     "execution_count": 7,
     "metadata": {},
     "output_type": "execute_result"
    }
   ],
   "source": [
    "df.columns"
   ]
  },
  {
   "cell_type": "code",
   "execution_count": 8,
   "id": "2c4d3dc3",
   "metadata": {},
   "outputs": [],
   "source": [
    "#df = df.drop(columns=['directness', 'annotator_sentiment', 'group','tweet'])"
   ]
  },
  {
   "cell_type": "code",
   "execution_count": 9,
   "id": "699271e8",
   "metadata": {},
   "outputs": [
    {
     "data": {
      "text/plain": [
       "0                    abusive\n",
       "1                  offensive\n",
       "2                    hateful\n",
       "5                  offensive\n",
       "8                  offensive\n",
       "                ...         \n",
       "4008               offensive\n",
       "4009               offensive\n",
       "4010    disrespectful_normal\n",
       "4011               offensive\n",
       "4013               offensive\n",
       "Name: sentiment, Length: 3193, dtype: object"
      ]
     },
     "execution_count": 9,
     "metadata": {},
     "output_type": "execute_result"
    }
   ],
   "source": [
    "df.loc[df['sentiment']!='normal','sentiment']"
   ]
  },
  {
   "cell_type": "code",
   "execution_count": 10,
   "id": "5dcc00bb",
   "metadata": {},
   "outputs": [
    {
     "data": {
      "text/html": [
       "<div>\n",
       "<style scoped>\n",
       "    .dataframe tbody tr th:only-of-type {\n",
       "        vertical-align: middle;\n",
       "    }\n",
       "\n",
       "    .dataframe tbody tr th {\n",
       "        vertical-align: top;\n",
       "    }\n",
       "\n",
       "    .dataframe thead th {\n",
       "        text-align: right;\n",
       "    }\n",
       "</style>\n",
       "<table border=\"1\" class=\"dataframe\">\n",
       "  <thead>\n",
       "    <tr style=\"text-align: right;\">\n",
       "      <th></th>\n",
       "      <th>HITId</th>\n",
       "      <th>tweet</th>\n",
       "      <th>sentiment</th>\n",
       "      <th>directness</th>\n",
       "      <th>annotator_sentiment</th>\n",
       "      <th>target</th>\n",
       "      <th>group</th>\n",
       "    </tr>\n",
       "  </thead>\n",
       "  <tbody>\n",
       "    <tr>\n",
       "      <th>3</th>\n",
       "      <td>4</td>\n",
       "      <td>@user @user c...est vrai que les anchois sont ...</td>\n",
       "      <td>normal</td>\n",
       "      <td>indirect</td>\n",
       "      <td>indifference</td>\n",
       "      <td>other</td>\n",
       "      <td>other</td>\n",
       "    </tr>\n",
       "    <tr>\n",
       "      <th>4</th>\n",
       "      <td>5</td>\n",
       "      <td>eh les renois faut se réveiller la @url</td>\n",
       "      <td>normal</td>\n",
       "      <td>direct</td>\n",
       "      <td>sadness</td>\n",
       "      <td>origin</td>\n",
       "      <td>african_descent</td>\n",
       "    </tr>\n",
       "    <tr>\n",
       "      <th>6</th>\n",
       "      <td>7</td>\n",
       "      <td>@user sjw et féministe twitter un sale combo</td>\n",
       "      <td>normal</td>\n",
       "      <td>indirect</td>\n",
       "      <td>sadness_indifference</td>\n",
       "      <td>other</td>\n",
       "      <td>women</td>\n",
       "    </tr>\n",
       "    <tr>\n",
       "      <th>7</th>\n",
       "      <td>8</td>\n",
       "      <td>@user @user tu sais aussi pourquoi est au dess...</td>\n",
       "      <td>normal</td>\n",
       "      <td>indirect</td>\n",
       "      <td>indifference</td>\n",
       "      <td>other</td>\n",
       "      <td>other</td>\n",
       "    </tr>\n",
       "    <tr>\n",
       "      <th>11</th>\n",
       "      <td>12</td>\n",
       "      <td>@user dekoi tu parle jte dis ta ps honte de di...</td>\n",
       "      <td>normal</td>\n",
       "      <td>direct</td>\n",
       "      <td>indifference</td>\n",
       "      <td>origin</td>\n",
       "      <td>indian/hindu</td>\n",
       "    </tr>\n",
       "    <tr>\n",
       "      <th>...</th>\n",
       "      <td>...</td>\n",
       "      <td>...</td>\n",
       "      <td>...</td>\n",
       "      <td>...</td>\n",
       "      <td>...</td>\n",
       "      <td>...</td>\n",
       "      <td>...</td>\n",
       "    </tr>\n",
       "    <tr>\n",
       "      <th>3988</th>\n",
       "      <td>3989</td>\n",
       "      <td>@user ne t'attarde pas là dessus!</td>\n",
       "      <td>normal</td>\n",
       "      <td>indirect</td>\n",
       "      <td>indifference</td>\n",
       "      <td>other</td>\n",
       "      <td>other</td>\n",
       "    </tr>\n",
       "    <tr>\n",
       "      <th>3992</th>\n",
       "      <td>3993</td>\n",
       "      <td>@user quand il n'est plus possible d'établir d...</td>\n",
       "      <td>normal</td>\n",
       "      <td>indirect</td>\n",
       "      <td>indifference</td>\n",
       "      <td>other</td>\n",
       "      <td>other</td>\n",
       "    </tr>\n",
       "    <tr>\n",
       "      <th>3998</th>\n",
       "      <td>3999</td>\n",
       "      <td>@user quand vous prendrez vos sources ailleurs...</td>\n",
       "      <td>normal</td>\n",
       "      <td>indirect</td>\n",
       "      <td>confusion_indifference</td>\n",
       "      <td>other</td>\n",
       "      <td>other</td>\n",
       "    </tr>\n",
       "    <tr>\n",
       "      <th>4001</th>\n",
       "      <td>4002</td>\n",
       "      <td>@user @user je suis actuellement en amerique j...</td>\n",
       "      <td>normal</td>\n",
       "      <td>indirect</td>\n",
       "      <td>indifference</td>\n",
       "      <td>other</td>\n",
       "      <td>other</td>\n",
       "    </tr>\n",
       "    <tr>\n",
       "      <th>4012</th>\n",
       "      <td>4013</td>\n",
       "      <td>@user pourquoi tant de migrants africains en e...</td>\n",
       "      <td>normal</td>\n",
       "      <td>indirect</td>\n",
       "      <td>indifference</td>\n",
       "      <td>origin</td>\n",
       "      <td>immigrants</td>\n",
       "    </tr>\n",
       "  </tbody>\n",
       "</table>\n",
       "<p>821 rows × 7 columns</p>\n",
       "</div>"
      ],
      "text/plain": [
       "      HITId                                              tweet sentiment  \\\n",
       "3         4  @user @user c...est vrai que les anchois sont ...    normal   \n",
       "4         5            eh les renois faut se réveiller la @url    normal   \n",
       "6         7       @user sjw et féministe twitter un sale combo    normal   \n",
       "7         8  @user @user tu sais aussi pourquoi est au dess...    normal   \n",
       "11       12  @user dekoi tu parle jte dis ta ps honte de di...    normal   \n",
       "...     ...                                                ...       ...   \n",
       "3988   3989                  @user ne t'attarde pas là dessus!    normal   \n",
       "3992   3993  @user quand il n'est plus possible d'établir d...    normal   \n",
       "3998   3999  @user quand vous prendrez vos sources ailleurs...    normal   \n",
       "4001   4002  @user @user je suis actuellement en amerique j...    normal   \n",
       "4012   4013  @user pourquoi tant de migrants africains en e...    normal   \n",
       "\n",
       "     directness     annotator_sentiment  target            group  \n",
       "3      indirect            indifference   other            other  \n",
       "4        direct                 sadness  origin  african_descent  \n",
       "6      indirect    sadness_indifference   other            women  \n",
       "7      indirect            indifference   other            other  \n",
       "11       direct            indifference  origin     indian/hindu  \n",
       "...         ...                     ...     ...              ...  \n",
       "3988   indirect            indifference   other            other  \n",
       "3992   indirect            indifference   other            other  \n",
       "3998   indirect  confusion_indifference   other            other  \n",
       "4001   indirect            indifference   other            other  \n",
       "4012   indirect            indifference  origin       immigrants  \n",
       "\n",
       "[821 rows x 7 columns]"
      ]
     },
     "execution_count": 10,
     "metadata": {},
     "output_type": "execute_result"
    }
   ],
   "source": [
    "df.loc[df['sentiment']=='normal']"
   ]
  },
  {
   "cell_type": "code",
   "execution_count": 11,
   "id": "163a3c1b",
   "metadata": {},
   "outputs": [
    {
     "data": {
      "text/html": [
       "<div>\n",
       "<style scoped>\n",
       "    .dataframe tbody tr th:only-of-type {\n",
       "        vertical-align: middle;\n",
       "    }\n",
       "\n",
       "    .dataframe tbody tr th {\n",
       "        vertical-align: top;\n",
       "    }\n",
       "\n",
       "    .dataframe thead th {\n",
       "        text-align: right;\n",
       "    }\n",
       "</style>\n",
       "<table border=\"1\" class=\"dataframe\">\n",
       "  <thead>\n",
       "    <tr style=\"text-align: right;\">\n",
       "      <th></th>\n",
       "      <th>HITId</th>\n",
       "      <th>tweet</th>\n",
       "      <th>sentiment</th>\n",
       "      <th>directness</th>\n",
       "      <th>annotator_sentiment</th>\n",
       "      <th>target</th>\n",
       "      <th>group</th>\n",
       "    </tr>\n",
       "  </thead>\n",
       "  <tbody>\n",
       "    <tr>\n",
       "      <th>0</th>\n",
       "      <td>1</td>\n",
       "      <td>rt @user personnage ainsi q tte la clique gauc...</td>\n",
       "      <td>abusive</td>\n",
       "      <td>direct</td>\n",
       "      <td>shock</td>\n",
       "      <td>origin</td>\n",
       "      <td>other</td>\n",
       "    </tr>\n",
       "    <tr>\n",
       "      <th>1</th>\n",
       "      <td>2</td>\n",
       "      <td>@user @user @user bah oui t'as raison l'autre ...</td>\n",
       "      <td>offensive</td>\n",
       "      <td>indirect</td>\n",
       "      <td>shock</td>\n",
       "      <td>other</td>\n",
       "      <td>individual</td>\n",
       "    </tr>\n",
       "    <tr>\n",
       "      <th>2</th>\n",
       "      <td>3</td>\n",
       "      <td>moi j'ai personne à qui m'adresser pour réclam...</td>\n",
       "      <td>hateful</td>\n",
       "      <td>direct</td>\n",
       "      <td>anger_confusion_sadness_fear_disgust</td>\n",
       "      <td>other</td>\n",
       "      <td>women</td>\n",
       "    </tr>\n",
       "    <tr>\n",
       "      <th>3</th>\n",
       "      <td>4</td>\n",
       "      <td>@user @user c...est vrai que les anchois sont ...</td>\n",
       "      <td>normal</td>\n",
       "      <td>indirect</td>\n",
       "      <td>indifference</td>\n",
       "      <td>other</td>\n",
       "      <td>other</td>\n",
       "    </tr>\n",
       "    <tr>\n",
       "      <th>4</th>\n",
       "      <td>5</td>\n",
       "      <td>eh les renois faut se réveiller la @url</td>\n",
       "      <td>normal</td>\n",
       "      <td>direct</td>\n",
       "      <td>sadness</td>\n",
       "      <td>origin</td>\n",
       "      <td>african_descent</td>\n",
       "    </tr>\n",
       "    <tr>\n",
       "      <th>...</th>\n",
       "      <td>...</td>\n",
       "      <td>...</td>\n",
       "      <td>...</td>\n",
       "      <td>...</td>\n",
       "      <td>...</td>\n",
       "      <td>...</td>\n",
       "      <td>...</td>\n",
       "    </tr>\n",
       "    <tr>\n",
       "      <th>4009</th>\n",
       "      <td>4010</td>\n",
       "      <td>@user tres bien. le cinema francais c...est so...</td>\n",
       "      <td>offensive</td>\n",
       "      <td>indirect</td>\n",
       "      <td>sadness</td>\n",
       "      <td>other</td>\n",
       "      <td>left_wing_people</td>\n",
       "    </tr>\n",
       "    <tr>\n",
       "      <th>4010</th>\n",
       "      <td>4011</td>\n",
       "      <td>@user j’ai que des rebeus en demande d’amis aussi</td>\n",
       "      <td>disrespectful_normal</td>\n",
       "      <td>direct</td>\n",
       "      <td>indifference</td>\n",
       "      <td>origin</td>\n",
       "      <td>arabs</td>\n",
       "    </tr>\n",
       "    <tr>\n",
       "      <th>4011</th>\n",
       "      <td>4012</td>\n",
       "      <td>@user sale juif de merde</td>\n",
       "      <td>offensive</td>\n",
       "      <td>direct</td>\n",
       "      <td>fear_shock_indifference_sadness_disgust</td>\n",
       "      <td>religion</td>\n",
       "      <td>jews</td>\n",
       "    </tr>\n",
       "    <tr>\n",
       "      <th>4012</th>\n",
       "      <td>4013</td>\n",
       "      <td>@user pourquoi tant de migrants africains en e...</td>\n",
       "      <td>normal</td>\n",
       "      <td>indirect</td>\n",
       "      <td>indifference</td>\n",
       "      <td>origin</td>\n",
       "      <td>immigrants</td>\n",
       "    </tr>\n",
       "    <tr>\n",
       "      <th>4013</th>\n",
       "      <td>4014</td>\n",
       "      <td>@user mdr c’est un mongol lui en mode lui dema...</td>\n",
       "      <td>offensive</td>\n",
       "      <td>indirect</td>\n",
       "      <td>indifference</td>\n",
       "      <td>disability</td>\n",
       "      <td>individual</td>\n",
       "    </tr>\n",
       "  </tbody>\n",
       "</table>\n",
       "<p>4014 rows × 7 columns</p>\n",
       "</div>"
      ],
      "text/plain": [
       "      HITId                                              tweet  \\\n",
       "0         1  rt @user personnage ainsi q tte la clique gauc...   \n",
       "1         2  @user @user @user bah oui t'as raison l'autre ...   \n",
       "2         3  moi j'ai personne à qui m'adresser pour réclam...   \n",
       "3         4  @user @user c...est vrai que les anchois sont ...   \n",
       "4         5            eh les renois faut se réveiller la @url   \n",
       "...     ...                                                ...   \n",
       "4009   4010  @user tres bien. le cinema francais c...est so...   \n",
       "4010   4011  @user j’ai que des rebeus en demande d’amis aussi   \n",
       "4011   4012                           @user sale juif de merde   \n",
       "4012   4013  @user pourquoi tant de migrants africains en e...   \n",
       "4013   4014  @user mdr c’est un mongol lui en mode lui dema...   \n",
       "\n",
       "                 sentiment directness  \\\n",
       "0                  abusive     direct   \n",
       "1                offensive   indirect   \n",
       "2                  hateful     direct   \n",
       "3                   normal   indirect   \n",
       "4                   normal     direct   \n",
       "...                    ...        ...   \n",
       "4009             offensive   indirect   \n",
       "4010  disrespectful_normal     direct   \n",
       "4011             offensive     direct   \n",
       "4012                normal   indirect   \n",
       "4013             offensive   indirect   \n",
       "\n",
       "                          annotator_sentiment      target             group  \n",
       "0                                       shock      origin             other  \n",
       "1                                       shock       other        individual  \n",
       "2        anger_confusion_sadness_fear_disgust       other             women  \n",
       "3                                indifference       other             other  \n",
       "4                                     sadness      origin   african_descent  \n",
       "...                                       ...         ...               ...  \n",
       "4009                                  sadness       other  left_wing_people  \n",
       "4010                             indifference      origin             arabs  \n",
       "4011  fear_shock_indifference_sadness_disgust    religion              jews  \n",
       "4012                             indifference      origin        immigrants  \n",
       "4013                             indifference  disability        individual  \n",
       "\n",
       "[4014 rows x 7 columns]"
      ]
     },
     "execution_count": 11,
     "metadata": {},
     "output_type": "execute_result"
    }
   ],
   "source": [
    "df"
   ]
  },
  {
   "cell_type": "code",
   "execution_count": 12,
   "id": "d3d1f20d",
   "metadata": {},
   "outputs": [],
   "source": [
    "df.loc[df['sentiment']!='normal','sentiment'] = 'negative'\n",
    "df.loc[df['sentiment']=='normal','sentiment'] = 'positive'"
   ]
  },
  {
   "cell_type": "code",
   "execution_count": 13,
   "id": "c6285b16",
   "metadata": {},
   "outputs": [
    {
     "data": {
      "text/html": [
       "<div>\n",
       "<style scoped>\n",
       "    .dataframe tbody tr th:only-of-type {\n",
       "        vertical-align: middle;\n",
       "    }\n",
       "\n",
       "    .dataframe tbody tr th {\n",
       "        vertical-align: top;\n",
       "    }\n",
       "\n",
       "    .dataframe thead th {\n",
       "        text-align: right;\n",
       "    }\n",
       "</style>\n",
       "<table border=\"1\" class=\"dataframe\">\n",
       "  <thead>\n",
       "    <tr style=\"text-align: right;\">\n",
       "      <th></th>\n",
       "      <th>HITId</th>\n",
       "      <th>tweet</th>\n",
       "      <th>sentiment</th>\n",
       "      <th>directness</th>\n",
       "      <th>annotator_sentiment</th>\n",
       "      <th>target</th>\n",
       "      <th>group</th>\n",
       "    </tr>\n",
       "  </thead>\n",
       "  <tbody>\n",
       "    <tr>\n",
       "      <th>0</th>\n",
       "      <td>1</td>\n",
       "      <td>rt @user personnage ainsi q tte la clique gauc...</td>\n",
       "      <td>negative</td>\n",
       "      <td>direct</td>\n",
       "      <td>shock</td>\n",
       "      <td>origin</td>\n",
       "      <td>other</td>\n",
       "    </tr>\n",
       "    <tr>\n",
       "      <th>1</th>\n",
       "      <td>2</td>\n",
       "      <td>@user @user @user bah oui t'as raison l'autre ...</td>\n",
       "      <td>negative</td>\n",
       "      <td>indirect</td>\n",
       "      <td>shock</td>\n",
       "      <td>other</td>\n",
       "      <td>individual</td>\n",
       "    </tr>\n",
       "    <tr>\n",
       "      <th>2</th>\n",
       "      <td>3</td>\n",
       "      <td>moi j'ai personne à qui m'adresser pour réclam...</td>\n",
       "      <td>negative</td>\n",
       "      <td>direct</td>\n",
       "      <td>anger_confusion_sadness_fear_disgust</td>\n",
       "      <td>other</td>\n",
       "      <td>women</td>\n",
       "    </tr>\n",
       "    <tr>\n",
       "      <th>3</th>\n",
       "      <td>4</td>\n",
       "      <td>@user @user c...est vrai que les anchois sont ...</td>\n",
       "      <td>positive</td>\n",
       "      <td>indirect</td>\n",
       "      <td>indifference</td>\n",
       "      <td>other</td>\n",
       "      <td>other</td>\n",
       "    </tr>\n",
       "    <tr>\n",
       "      <th>4</th>\n",
       "      <td>5</td>\n",
       "      <td>eh les renois faut se réveiller la @url</td>\n",
       "      <td>positive</td>\n",
       "      <td>direct</td>\n",
       "      <td>sadness</td>\n",
       "      <td>origin</td>\n",
       "      <td>african_descent</td>\n",
       "    </tr>\n",
       "    <tr>\n",
       "      <th>...</th>\n",
       "      <td>...</td>\n",
       "      <td>...</td>\n",
       "      <td>...</td>\n",
       "      <td>...</td>\n",
       "      <td>...</td>\n",
       "      <td>...</td>\n",
       "      <td>...</td>\n",
       "    </tr>\n",
       "    <tr>\n",
       "      <th>4009</th>\n",
       "      <td>4010</td>\n",
       "      <td>@user tres bien. le cinema francais c...est so...</td>\n",
       "      <td>negative</td>\n",
       "      <td>indirect</td>\n",
       "      <td>sadness</td>\n",
       "      <td>other</td>\n",
       "      <td>left_wing_people</td>\n",
       "    </tr>\n",
       "    <tr>\n",
       "      <th>4010</th>\n",
       "      <td>4011</td>\n",
       "      <td>@user j’ai que des rebeus en demande d’amis aussi</td>\n",
       "      <td>negative</td>\n",
       "      <td>direct</td>\n",
       "      <td>indifference</td>\n",
       "      <td>origin</td>\n",
       "      <td>arabs</td>\n",
       "    </tr>\n",
       "    <tr>\n",
       "      <th>4011</th>\n",
       "      <td>4012</td>\n",
       "      <td>@user sale juif de merde</td>\n",
       "      <td>negative</td>\n",
       "      <td>direct</td>\n",
       "      <td>fear_shock_indifference_sadness_disgust</td>\n",
       "      <td>religion</td>\n",
       "      <td>jews</td>\n",
       "    </tr>\n",
       "    <tr>\n",
       "      <th>4012</th>\n",
       "      <td>4013</td>\n",
       "      <td>@user pourquoi tant de migrants africains en e...</td>\n",
       "      <td>positive</td>\n",
       "      <td>indirect</td>\n",
       "      <td>indifference</td>\n",
       "      <td>origin</td>\n",
       "      <td>immigrants</td>\n",
       "    </tr>\n",
       "    <tr>\n",
       "      <th>4013</th>\n",
       "      <td>4014</td>\n",
       "      <td>@user mdr c’est un mongol lui en mode lui dema...</td>\n",
       "      <td>negative</td>\n",
       "      <td>indirect</td>\n",
       "      <td>indifference</td>\n",
       "      <td>disability</td>\n",
       "      <td>individual</td>\n",
       "    </tr>\n",
       "  </tbody>\n",
       "</table>\n",
       "<p>4014 rows × 7 columns</p>\n",
       "</div>"
      ],
      "text/plain": [
       "      HITId                                              tweet sentiment  \\\n",
       "0         1  rt @user personnage ainsi q tte la clique gauc...  negative   \n",
       "1         2  @user @user @user bah oui t'as raison l'autre ...  negative   \n",
       "2         3  moi j'ai personne à qui m'adresser pour réclam...  negative   \n",
       "3         4  @user @user c...est vrai que les anchois sont ...  positive   \n",
       "4         5            eh les renois faut se réveiller la @url  positive   \n",
       "...     ...                                                ...       ...   \n",
       "4009   4010  @user tres bien. le cinema francais c...est so...  negative   \n",
       "4010   4011  @user j’ai que des rebeus en demande d’amis aussi  negative   \n",
       "4011   4012                           @user sale juif de merde  negative   \n",
       "4012   4013  @user pourquoi tant de migrants africains en e...  positive   \n",
       "4013   4014  @user mdr c’est un mongol lui en mode lui dema...  negative   \n",
       "\n",
       "     directness                      annotator_sentiment      target  \\\n",
       "0        direct                                    shock      origin   \n",
       "1      indirect                                    shock       other   \n",
       "2        direct     anger_confusion_sadness_fear_disgust       other   \n",
       "3      indirect                             indifference       other   \n",
       "4        direct                                  sadness      origin   \n",
       "...         ...                                      ...         ...   \n",
       "4009   indirect                                  sadness       other   \n",
       "4010     direct                             indifference      origin   \n",
       "4011     direct  fear_shock_indifference_sadness_disgust    religion   \n",
       "4012   indirect                             indifference      origin   \n",
       "4013   indirect                             indifference  disability   \n",
       "\n",
       "                 group  \n",
       "0                other  \n",
       "1           individual  \n",
       "2                women  \n",
       "3                other  \n",
       "4      african_descent  \n",
       "...                ...  \n",
       "4009  left_wing_people  \n",
       "4010             arabs  \n",
       "4011              jews  \n",
       "4012        immigrants  \n",
       "4013        individual  \n",
       "\n",
       "[4014 rows x 7 columns]"
      ]
     },
     "execution_count": 13,
     "metadata": {},
     "output_type": "execute_result"
    }
   ],
   "source": [
    "df"
   ]
  },
  {
   "cell_type": "code",
   "execution_count": 14,
   "id": "1a9bd5cf",
   "metadata": {},
   "outputs": [
    {
     "data": {
      "text/html": [
       "<div>\n",
       "<style scoped>\n",
       "    .dataframe tbody tr th:only-of-type {\n",
       "        vertical-align: middle;\n",
       "    }\n",
       "\n",
       "    .dataframe tbody tr th {\n",
       "        vertical-align: top;\n",
       "    }\n",
       "\n",
       "    .dataframe thead th {\n",
       "        text-align: right;\n",
       "    }\n",
       "</style>\n",
       "<table border=\"1\" class=\"dataframe\">\n",
       "  <thead>\n",
       "    <tr style=\"text-align: right;\">\n",
       "      <th></th>\n",
       "      <th>count</th>\n",
       "      <th>mean</th>\n",
       "      <th>std</th>\n",
       "      <th>min</th>\n",
       "      <th>25%</th>\n",
       "      <th>50%</th>\n",
       "      <th>75%</th>\n",
       "      <th>max</th>\n",
       "    </tr>\n",
       "  </thead>\n",
       "  <tbody>\n",
       "    <tr>\n",
       "      <th>HITId</th>\n",
       "      <td>4014.0</td>\n",
       "      <td>2007.5</td>\n",
       "      <td>1158.886319</td>\n",
       "      <td>1.0</td>\n",
       "      <td>1004.25</td>\n",
       "      <td>2007.5</td>\n",
       "      <td>3010.75</td>\n",
       "      <td>4014.0</td>\n",
       "    </tr>\n",
       "  </tbody>\n",
       "</table>\n",
       "</div>"
      ],
      "text/plain": [
       "        count    mean          std  min      25%     50%      75%     max\n",
       "HITId  4014.0  2007.5  1158.886319  1.0  1004.25  2007.5  3010.75  4014.0"
      ]
     },
     "execution_count": 14,
     "metadata": {},
     "output_type": "execute_result"
    }
   ],
   "source": [
    "df.describe().transpose()"
   ]
  },
  {
   "cell_type": "code",
   "execution_count": 15,
   "id": "10d2a45a",
   "metadata": {},
   "outputs": [
    {
     "data": {
      "text/plain": [
       "HITId                  0\n",
       "tweet                  0\n",
       "sentiment              0\n",
       "directness             0\n",
       "annotator_sentiment    0\n",
       "target                 0\n",
       "group                  0\n",
       "dtype: int64"
      ]
     },
     "execution_count": 15,
     "metadata": {},
     "output_type": "execute_result"
    }
   ],
   "source": [
    "df.isnull().sum()"
   ]
  },
  {
   "cell_type": "code",
   "execution_count": 16,
   "id": "abd5ef26",
   "metadata": {},
   "outputs": [
    {
     "data": {
      "text/plain": [
       "Index(['HITId', 'tweet', 'sentiment', 'directness', 'annotator_sentiment',\n",
       "       'target', 'group'],\n",
       "      dtype='object')"
      ]
     },
     "execution_count": 16,
     "metadata": {},
     "output_type": "execute_result"
    }
   ],
   "source": [
    "df.columns"
   ]
  },
  {
   "cell_type": "code",
   "execution_count": 17,
   "id": "9cd5a78a",
   "metadata": {},
   "outputs": [
    {
     "name": "stdout",
     "output_type": "stream",
     "text": [
      "<class 'pandas.core.frame.DataFrame'>\n",
      "RangeIndex: 4014 entries, 0 to 4013\n",
      "Data columns (total 7 columns):\n",
      " #   Column               Non-Null Count  Dtype \n",
      "---  ------               --------------  ----- \n",
      " 0   HITId                4014 non-null   int64 \n",
      " 1   tweet                4014 non-null   object\n",
      " 2   sentiment            4014 non-null   object\n",
      " 3   directness           4014 non-null   object\n",
      " 4   annotator_sentiment  4014 non-null   object\n",
      " 5   target               4014 non-null   object\n",
      " 6   group                4014 non-null   object\n",
      "dtypes: int64(1), object(6)\n",
      "memory usage: 219.6+ KB\n"
     ]
    }
   ],
   "source": [
    "df.info()"
   ]
  },
  {
   "cell_type": "code",
   "execution_count": 18,
   "id": "4053b4ed",
   "metadata": {},
   "outputs": [
    {
     "data": {
      "text/plain": [
       "negative    3193\n",
       "positive     821\n",
       "Name: sentiment, dtype: int64"
      ]
     },
     "execution_count": 18,
     "metadata": {},
     "output_type": "execute_result"
    }
   ],
   "source": [
    "df['sentiment'].value_counts()"
   ]
  },
  {
   "cell_type": "code",
   "execution_count": 19,
   "id": "9be77f6e",
   "metadata": {},
   "outputs": [
    {
     "data": {
      "text/plain": [
       "<AxesSubplot:xlabel='HITId', ylabel='target'>"
      ]
     },
     "execution_count": 19,
     "metadata": {},
     "output_type": "execute_result"
    },
    {
     "data": {
      "image/png": "[encoded data removed]",
      "text/plain": [
       "<Figure size 2160x1440 with 1 Axes>"
      ]
     },
     "metadata": {
      "needs_background": "light"
     },
     "output_type": "display_data"
    }
   ],
   "source": [
    "cum = df['target'].value_counts().to_frame()\n",
    "cum['HITId'] = cum.index\n",
    "cumfig, ax = plt.subplots(figsize=(30,20))\n",
    "sns.barplot(data=cum,x='HITId',y='target',ax=ax)"
   ]
  },
  {
   "cell_type": "markdown",
   "id": "4910b3f6",
   "metadata": {},
   "source": [
    "# for i in df.columns:\n",
    "    plt.figure(figsize=(12,6))\n",
    "    g=sns.histplot(data = df,x = df[i], hue = 'target', palette='rocket')\n",
    "    g.set_xlabel(i,fontsize=14)\n",
    "    g.set_ylabel(\"count\",fontsize=12)\n",
    "    title = (\"Distribution de la feature: \"+ str(i))\n",
    "    plt.title(title,fontsize = 20)\n",
    "    #plt.savefig(i)\n",
    "   "
   ]
  },
  {
   "cell_type": "code",
   "execution_count": 20,
   "id": "0e678857",
   "metadata": {},
   "outputs": [
    {
     "data": {
      "text/plain": [
       "Index(['HITId', 'tweet', 'sentiment', 'directness', 'annotator_sentiment',\n",
       "       'target', 'group'],\n",
       "      dtype='object')"
      ]
     },
     "execution_count": 20,
     "metadata": {},
     "output_type": "execute_result"
    }
   ],
   "source": [
    "df.columns"
   ]
  },
  {
   "cell_type": "code",
   "execution_count": 21,
   "id": "d55ee1b3",
   "metadata": {},
   "outputs": [],
   "source": [
    "labels=df['target']"
   ]
  },
  {
   "cell_type": "markdown",
   "id": "3b3151c5",
   "metadata": {},
   "source": [
    "fig=plt.figure(figsize = (10,10))\n",
    "g=sns.heatmap(df.drop(columns='HITId').corr(),annot=True, cmap=\"RdPu\",square=True,linewidth=1.5)\n",
    "g.set_xticklabels(g.get_xmajorticklabels(), fontsize = 12)\n",
    "g.set_yticklabels(g.get_ymajorticklabels(), fontsize = 12)\n",
    "g.set_title('Matrice de corrélation',fontsize=20)"
   ]
  },
  {
   "cell_type": "code",
   "execution_count": 22,
   "id": "6c119230",
   "metadata": {},
   "outputs": [],
   "source": [
    "fr_df2 = pd.read_csv('french_tweets.csv')# this dataset is not interesting for the task!"
   ]
  },
  {
   "cell_type": "code",
   "execution_count": 98,
   "id": "ba8dd904",
   "metadata": {},
   "outputs": [
    {
     "data": {
      "text/plain": [
       "7551"
      ]
     },
     "execution_count": 98,
     "metadata": {},
     "output_type": "execute_result"
    }
   ],
   "source": [
    "positive = fr_df2.loc[fr_df2['label']==1]\n",
    "n = len(positive)\n",
    "positive = positive[0:int(n/100)]\n",
    "len(positive)"
   ]
  },
  {
   "cell_type": "code",
   "execution_count": 99,
   "id": "6aae5a90",
   "metadata": {},
   "outputs": [],
   "source": [
    "negative = df.loc[df['target']!='normal','target'] = 0\n",
    "negative = df"
   ]
  },
  {
   "cell_type": "code",
   "execution_count": 100,
   "id": "abf0f732",
   "metadata": {},
   "outputs": [
    {
     "data": {
      "text/plain": [
       "pandas.core.frame.DataFrame"
      ]
     },
     "execution_count": 100,
     "metadata": {},
     "output_type": "execute_result"
    }
   ],
   "source": [
    "type(negative)"
   ]
  },
  {
   "cell_type": "code",
   "execution_count": 101,
   "id": "5bcf8680",
   "metadata": {},
   "outputs": [
    {
     "data": {
      "text/plain": [
       "4014"
      ]
     },
     "execution_count": 101,
     "metadata": {},
     "output_type": "execute_result"
    }
   ],
   "source": [
    "len(negative)"
   ]
  },
  {
   "cell_type": "code",
   "execution_count": 102,
   "id": "3467bb49",
   "metadata": {},
   "outputs": [
    {
     "data": {
      "text/plain": [
       "Index(['HITId', 'tweet', 'sentiment', 'directness', 'annotator_sentiment',\n",
       "       'target', 'group'],\n",
       "      dtype='object')"
      ]
     },
     "execution_count": 102,
     "metadata": {},
     "output_type": "execute_result"
    }
   ],
   "source": [
    "negative.columns"
   ]
  },
  {
   "cell_type": "code",
   "execution_count": 103,
   "id": "c4c1ff4f",
   "metadata": {},
   "outputs": [
    {
     "data": {
      "text/html": [
       "<div>\n",
       "<style scoped>\n",
       "    .dataframe tbody tr th:only-of-type {\n",
       "        vertical-align: middle;\n",
       "    }\n",
       "\n",
       "    .dataframe tbody tr th {\n",
       "        vertical-align: top;\n",
       "    }\n",
       "\n",
       "    .dataframe thead th {\n",
       "        text-align: right;\n",
       "    }\n",
       "</style>\n",
       "<table border=\"1\" class=\"dataframe\">\n",
       "  <thead>\n",
       "    <tr style=\"text-align: right;\">\n",
       "      <th></th>\n",
       "      <th>tweet</th>\n",
       "      <th>target</th>\n",
       "    </tr>\n",
       "  </thead>\n",
       "  <tbody>\n",
       "    <tr>\n",
       "      <th>0</th>\n",
       "      <td>rt @user personnage ainsi q tte la clique gauc...</td>\n",
       "      <td>0</td>\n",
       "    </tr>\n",
       "    <tr>\n",
       "      <th>1</th>\n",
       "      <td>@user @user @user bah oui t'as raison l'autre ...</td>\n",
       "      <td>0</td>\n",
       "    </tr>\n",
       "    <tr>\n",
       "      <th>2</th>\n",
       "      <td>moi j'ai personne à qui m'adresser pour réclam...</td>\n",
       "      <td>0</td>\n",
       "    </tr>\n",
       "    <tr>\n",
       "      <th>3</th>\n",
       "      <td>@user @user c...est vrai que les anchois sont ...</td>\n",
       "      <td>0</td>\n",
       "    </tr>\n",
       "    <tr>\n",
       "      <th>4</th>\n",
       "      <td>eh les renois faut se réveiller la @url</td>\n",
       "      <td>0</td>\n",
       "    </tr>\n",
       "    <tr>\n",
       "      <th>...</th>\n",
       "      <td>...</td>\n",
       "      <td>...</td>\n",
       "    </tr>\n",
       "    <tr>\n",
       "      <th>4009</th>\n",
       "      <td>@user tres bien. le cinema francais c...est so...</td>\n",
       "      <td>0</td>\n",
       "    </tr>\n",
       "    <tr>\n",
       "      <th>4010</th>\n",
       "      <td>@user j’ai que des rebeus en demande d’amis aussi</td>\n",
       "      <td>0</td>\n",
       "    </tr>\n",
       "    <tr>\n",
       "      <th>4011</th>\n",
       "      <td>@user sale juif de merde</td>\n",
       "      <td>0</td>\n",
       "    </tr>\n",
       "    <tr>\n",
       "      <th>4012</th>\n",
       "      <td>@user pourquoi tant de migrants africains en e...</td>\n",
       "      <td>0</td>\n",
       "    </tr>\n",
       "    <tr>\n",
       "      <th>4013</th>\n",
       "      <td>@user mdr c’est un mongol lui en mode lui dema...</td>\n",
       "      <td>0</td>\n",
       "    </tr>\n",
       "  </tbody>\n",
       "</table>\n",
       "<p>4014 rows × 2 columns</p>\n",
       "</div>"
      ],
      "text/plain": [
       "                                                  tweet target\n",
       "0     rt @user personnage ainsi q tte la clique gauc...      0\n",
       "1     @user @user @user bah oui t'as raison l'autre ...      0\n",
       "2     moi j'ai personne à qui m'adresser pour réclam...      0\n",
       "3     @user @user c...est vrai que les anchois sont ...      0\n",
       "4               eh les renois faut se réveiller la @url      0\n",
       "...                                                 ...    ...\n",
       "4009  @user tres bien. le cinema francais c...est so...      0\n",
       "4010  @user j’ai que des rebeus en demande d’amis aussi      0\n",
       "4011                           @user sale juif de merde      0\n",
       "4012  @user pourquoi tant de migrants africains en e...      0\n",
       "4013  @user mdr c’est un mongol lui en mode lui dema...      0\n",
       "\n",
       "[4014 rows x 2 columns]"
      ]
     },
     "execution_count": 103,
     "metadata": {},
     "output_type": "execute_result"
    }
   ],
   "source": [
    "negative.drop(columns={'HITId', 'sentiment', 'directness', 'annotator_sentiment'\n",
    "       , 'group'})"
   ]
  },
  {
   "cell_type": "code",
   "execution_count": 104,
   "id": "eb78ad17",
   "metadata": {},
   "outputs": [
    {
     "data": {
      "text/plain": [
       "<bound method NDFrame.describe of       HITId                                              tweet sentiment  \\\n",
       "0         1  rt @user personnage ainsi q tte la clique gauc...  negative   \n",
       "1         2  @user @user @user bah oui t'as raison l'autre ...  negative   \n",
       "2         3  moi j'ai personne à qui m'adresser pour réclam...  negative   \n",
       "3         4  @user @user c...est vrai que les anchois sont ...  positive   \n",
       "4         5            eh les renois faut se réveiller la @url  positive   \n",
       "...     ...                                                ...       ...   \n",
       "4009   4010  @user tres bien. le cinema francais c...est so...  negative   \n",
       "4010   4011  @user j’ai que des rebeus en demande d’amis aussi  negative   \n",
       "4011   4012                           @user sale juif de merde  negative   \n",
       "4012   4013  @user pourquoi tant de migrants africains en e...  positive   \n",
       "4013   4014  @user mdr c’est un mongol lui en mode lui dema...  negative   \n",
       "\n",
       "     directness                      annotator_sentiment target  \\\n",
       "0        direct                                    shock      0   \n",
       "1      indirect                                    shock      0   \n",
       "2        direct     anger_confusion_sadness_fear_disgust      0   \n",
       "3      indirect                             indifference      0   \n",
       "4        direct                                  sadness      0   \n",
       "...         ...                                      ...    ...   \n",
       "4009   indirect                                  sadness      0   \n",
       "4010     direct                             indifference      0   \n",
       "4011     direct  fear_shock_indifference_sadness_disgust      0   \n",
       "4012   indirect                             indifference      0   \n",
       "4013   indirect                             indifference      0   \n",
       "\n",
       "                 group  \n",
       "0                other  \n",
       "1           individual  \n",
       "2                women  \n",
       "3                other  \n",
       "4      african_descent  \n",
       "...                ...  \n",
       "4009  left_wing_people  \n",
       "4010             arabs  \n",
       "4011              jews  \n",
       "4012        immigrants  \n",
       "4013        individual  \n",
       "\n",
       "[4014 rows x 7 columns]>"
      ]
     },
     "execution_count": 104,
     "metadata": {},
     "output_type": "execute_result"
    }
   ],
   "source": [
    "negative.describe"
   ]
  },
  {
   "cell_type": "code",
   "execution_count": 105,
   "id": "63876dea",
   "metadata": {},
   "outputs": [
    {
     "data": {
      "text/plain": [
       "0"
      ]
     },
     "execution_count": 105,
     "metadata": {},
     "output_type": "execute_result"
    }
   ],
   "source": [
    "negative.isnull().values.sum()"
   ]
  },
  {
   "cell_type": "code",
   "execution_count": 106,
   "id": "4bd3f92f",
   "metadata": {},
   "outputs": [
    {
     "data": {
      "text/plain": [
       "0"
      ]
     },
     "execution_count": 106,
     "metadata": {},
     "output_type": "execute_result"
    }
   ],
   "source": [
    "positive.isnull().values.sum()"
   ]
  },
  {
   "cell_type": "markdown",
   "id": "1963a8dd",
   "metadata": {},
   "source": [
    "    Here the two dtaframe don't contain null and nan values. \n",
    "    \n",
    "    So, \n",
    "    can be used directly, no prepro to do on that"
   ]
  },
  {
   "cell_type": "code",
   "execution_count": 107,
   "id": "29e260f4",
   "metadata": {},
   "outputs": [],
   "source": [
    "positive = positive.rename(columns={'label':'target','text':'tweet'})"
   ]
  },
  {
   "cell_type": "code",
   "execution_count": 108,
   "id": "fdf44878",
   "metadata": {},
   "outputs": [
    {
     "data": {
      "text/plain": [
       "3775.5"
      ]
     },
     "execution_count": 108,
     "metadata": {},
     "output_type": "execute_result"
    }
   ],
   "source": [
    "0.5*len(positive)"
   ]
  },
  {
   "cell_type": "code",
   "execution_count": 109,
   "id": "1d9375f2",
   "metadata": {},
   "outputs": [
    {
     "data": {
      "text/plain": [
       "Index(['target', 'tweet'], dtype='object')"
      ]
     },
     "execution_count": 109,
     "metadata": {},
     "output_type": "execute_result"
    }
   ],
   "source": [
    "positive.columns"
   ]
  },
  {
   "cell_type": "markdown",
   "id": "8adbfd52",
   "metadata": {},
   "source": [
    "To make a good concatenation and avoid NAN values, we should add the columns : sentiment"
   ]
  },
  {
   "cell_type": "code",
   "execution_count": 110,
   "id": "82596f15",
   "metadata": {},
   "outputs": [
    {
     "data": {
      "text/plain": [
       "Index(['HITId', 'tweet', 'sentiment', 'directness', 'annotator_sentiment',\n",
       "       'target', 'group'],\n",
       "      dtype='object')"
      ]
     },
     "execution_count": 110,
     "metadata": {},
     "output_type": "execute_result"
    }
   ],
   "source": [
    "negative.columns"
   ]
  },
  {
   "cell_type": "code",
   "execution_count": 111,
   "id": "71c7a4c9",
   "metadata": {},
   "outputs": [
    {
     "data": {
      "text/html": [
       "<div>\n",
       "<style scoped>\n",
       "    .dataframe tbody tr th:only-of-type {\n",
       "        vertical-align: middle;\n",
       "    }\n",
       "\n",
       "    .dataframe tbody tr th {\n",
       "        vertical-align: top;\n",
       "    }\n",
       "\n",
       "    .dataframe thead th {\n",
       "        text-align: right;\n",
       "    }\n",
       "</style>\n",
       "<table border=\"1\" class=\"dataframe\">\n",
       "  <thead>\n",
       "    <tr style=\"text-align: right;\">\n",
       "      <th></th>\n",
       "      <th>HITId</th>\n",
       "      <th>tweet</th>\n",
       "      <th>sentiment</th>\n",
       "      <th>directness</th>\n",
       "      <th>annotator_sentiment</th>\n",
       "      <th>target</th>\n",
       "      <th>group</th>\n",
       "    </tr>\n",
       "  </thead>\n",
       "  <tbody>\n",
       "    <tr>\n",
       "      <th>0</th>\n",
       "      <td>1.0</td>\n",
       "      <td>rt @user personnage ainsi q tte la clique gauc...</td>\n",
       "      <td>negative</td>\n",
       "      <td>direct</td>\n",
       "      <td>shock</td>\n",
       "      <td>0</td>\n",
       "      <td>other</td>\n",
       "    </tr>\n",
       "    <tr>\n",
       "      <th>1</th>\n",
       "      <td>2.0</td>\n",
       "      <td>@user @user @user bah oui t'as raison l'autre ...</td>\n",
       "      <td>negative</td>\n",
       "      <td>indirect</td>\n",
       "      <td>shock</td>\n",
       "      <td>0</td>\n",
       "      <td>individual</td>\n",
       "    </tr>\n",
       "    <tr>\n",
       "      <th>2</th>\n",
       "      <td>3.0</td>\n",
       "      <td>moi j'ai personne à qui m'adresser pour réclam...</td>\n",
       "      <td>negative</td>\n",
       "      <td>direct</td>\n",
       "      <td>anger_confusion_sadness_fear_disgust</td>\n",
       "      <td>0</td>\n",
       "      <td>women</td>\n",
       "    </tr>\n",
       "    <tr>\n",
       "      <th>3</th>\n",
       "      <td>4.0</td>\n",
       "      <td>@user @user c...est vrai que les anchois sont ...</td>\n",
       "      <td>positive</td>\n",
       "      <td>indirect</td>\n",
       "      <td>indifference</td>\n",
       "      <td>0</td>\n",
       "      <td>other</td>\n",
       "    </tr>\n",
       "    <tr>\n",
       "      <th>4</th>\n",
       "      <td>5.0</td>\n",
       "      <td>eh les renois faut se réveiller la @url</td>\n",
       "      <td>positive</td>\n",
       "      <td>direct</td>\n",
       "      <td>sadness</td>\n",
       "      <td>0</td>\n",
       "      <td>african_descent</td>\n",
       "    </tr>\n",
       "    <tr>\n",
       "      <th>...</th>\n",
       "      <td>...</td>\n",
       "      <td>...</td>\n",
       "      <td>...</td>\n",
       "      <td>...</td>\n",
       "      <td>...</td>\n",
       "      <td>...</td>\n",
       "      <td>...</td>\n",
       "    </tr>\n",
       "    <tr>\n",
       "      <th>11560</th>\n",
       "      <td>NaN</td>\n",
       "      <td>À l'époque, c'était plus $. Mais probablement ...</td>\n",
       "      <td>NaN</td>\n",
       "      <td>NaN</td>\n",
       "      <td>NaN</td>\n",
       "      <td>1</td>\n",
       "      <td>NaN</td>\n",
       "    </tr>\n",
       "    <tr>\n",
       "      <th>11561</th>\n",
       "      <td>NaN</td>\n",
       "      <td>Elle habite à Denver, mais elle arrive dans un...</td>\n",
       "      <td>NaN</td>\n",
       "      <td>NaN</td>\n",
       "      <td>NaN</td>\n",
       "      <td>1</td>\n",
       "      <td>NaN</td>\n",
       "    </tr>\n",
       "    <tr>\n",
       "      <th>11562</th>\n",
       "      <td>NaN</td>\n",
       "      <td>Fraises fraîches, mûres et un biscuit au poule...</td>\n",
       "      <td>NaN</td>\n",
       "      <td>NaN</td>\n",
       "      <td>NaN</td>\n",
       "      <td>1</td>\n",
       "      <td>NaN</td>\n",
       "    </tr>\n",
       "    <tr>\n",
       "      <th>11563</th>\n",
       "      <td>NaN</td>\n",
       "      <td>Finis presque tout ... alors je ne peux pas at...</td>\n",
       "      <td>NaN</td>\n",
       "      <td>NaN</td>\n",
       "      <td>NaN</td>\n",
       "      <td>1</td>\n",
       "      <td>NaN</td>\n",
       "    </tr>\n",
       "    <tr>\n",
       "      <th>11564</th>\n",
       "      <td>NaN</td>\n",
       "      <td>Merci mon pote</td>\n",
       "      <td>NaN</td>\n",
       "      <td>NaN</td>\n",
       "      <td>NaN</td>\n",
       "      <td>1</td>\n",
       "      <td>NaN</td>\n",
       "    </tr>\n",
       "  </tbody>\n",
       "</table>\n",
       "<p>11565 rows × 7 columns</p>\n",
       "</div>"
      ],
      "text/plain": [
       "       HITId                                              tweet sentiment  \\\n",
       "0        1.0  rt @user personnage ainsi q tte la clique gauc...  negative   \n",
       "1        2.0  @user @user @user bah oui t'as raison l'autre ...  negative   \n",
       "2        3.0  moi j'ai personne à qui m'adresser pour réclam...  negative   \n",
       "3        4.0  @user @user c...est vrai que les anchois sont ...  positive   \n",
       "4        5.0            eh les renois faut se réveiller la @url  positive   \n",
       "...      ...                                                ...       ...   \n",
       "11560    NaN  À l'époque, c'était plus $. Mais probablement ...       NaN   \n",
       "11561    NaN  Elle habite à Denver, mais elle arrive dans un...       NaN   \n",
       "11562    NaN  Fraises fraîches, mûres et un biscuit au poule...       NaN   \n",
       "11563    NaN  Finis presque tout ... alors je ne peux pas at...       NaN   \n",
       "11564    NaN                                     Merci mon pote       NaN   \n",
       "\n",
       "      directness                   annotator_sentiment target            group  \n",
       "0         direct                                 shock      0            other  \n",
       "1       indirect                                 shock      0       individual  \n",
       "2         direct  anger_confusion_sadness_fear_disgust      0            women  \n",
       "3       indirect                          indifference      0            other  \n",
       "4         direct                               sadness      0  african_descent  \n",
       "...          ...                                   ...    ...              ...  \n",
       "11560        NaN                                   NaN      1              NaN  \n",
       "11561        NaN                                   NaN      1              NaN  \n",
       "11562        NaN                                   NaN      1              NaN  \n",
       "11563        NaN                                   NaN      1              NaN  \n",
       "11564        NaN                                   NaN      1              NaN  \n",
       "\n",
       "[11565 rows x 7 columns]"
      ]
     },
     "execution_count": 111,
     "metadata": {},
     "output_type": "execute_result"
    }
   ],
   "source": [
    "all_ = pd.concat([negative,positive], ignore_index=True, sort=False)\n",
    "all_"
   ]
  },
  {
   "cell_type": "code",
   "execution_count": 133,
   "id": "e9c5a4c4",
   "metadata": {},
   "outputs": [],
   "source": [
    "all_.loc[all_['sentiment'].isnull().values==True,'sentiment'] = 'normal'\n",
    "all_.loc[all_['directness'].isnull().values==True,'directness'] = 'direct'\n",
    "all_.loc[all_['group'].isnull().values==True,'group'] = 'nothing'\n",
    "all_.loc[all_['annotator_sentiment'].isnull().values==True,'annotator_sentiment'] = 'indifference'\n",
    "all_ = sklearn.utils.shuffle(all_)"
   ]
  },
  {
   "cell_type": "code",
   "execution_count": 136,
   "id": "497a28c6",
   "metadata": {},
   "outputs": [
    {
     "data": {
      "text/html": [
       "<div>\n",
       "<style scoped>\n",
       "    .dataframe tbody tr th:only-of-type {\n",
       "        vertical-align: middle;\n",
       "    }\n",
       "\n",
       "    .dataframe tbody tr th {\n",
       "        vertical-align: top;\n",
       "    }\n",
       "\n",
       "    .dataframe thead th {\n",
       "        text-align: right;\n",
       "    }\n",
       "</style>\n",
       "<table border=\"1\" class=\"dataframe\">\n",
       "  <thead>\n",
       "    <tr style=\"text-align: right;\">\n",
       "      <th></th>\n",
       "      <th>tweet</th>\n",
       "      <th>sentiment</th>\n",
       "      <th>directness</th>\n",
       "      <th>annotator_sentiment</th>\n",
       "      <th>target</th>\n",
       "      <th>group</th>\n",
       "    </tr>\n",
       "  </thead>\n",
       "  <tbody>\n",
       "    <tr>\n",
       "      <th>1590</th>\n",
       "      <td>grace aux rageux de ton cc aura peut etre des ...</td>\n",
       "      <td>negative</td>\n",
       "      <td>direct</td>\n",
       "      <td>indifference</td>\n",
       "      <td>0</td>\n",
       "      <td>african_descent</td>\n",
       "    </tr>\n",
       "    <tr>\n",
       "      <th>1640</th>\n",
       "      <td>#lejouroujaibrulemoncoeur mon dieu ce que cet ...</td>\n",
       "      <td>negative</td>\n",
       "      <td>direct</td>\n",
       "      <td>sadness</td>\n",
       "      <td>0</td>\n",
       "      <td>other</td>\n",
       "    </tr>\n",
       "    <tr>\n",
       "      <th>3626</th>\n",
       "      <td>@user @user faut-il arrêter de subventionner l...</td>\n",
       "      <td>negative</td>\n",
       "      <td>indirect</td>\n",
       "      <td>indifference</td>\n",
       "      <td>0</td>\n",
       "      <td>other</td>\n",
       "    </tr>\n",
       "    <tr>\n",
       "      <th>8253</th>\n",
       "      <td>Oh, c'est comme ça que tu vas manquer! Hehe! P...</td>\n",
       "      <td>normal</td>\n",
       "      <td>direct</td>\n",
       "      <td>indifference</td>\n",
       "      <td>1</td>\n",
       "      <td>nothing</td>\n",
       "    </tr>\n",
       "    <tr>\n",
       "      <th>383</th>\n",
       "      <td>@user @user @user nan c’est pas à cause de cla...</td>\n",
       "      <td>negative</td>\n",
       "      <td>indirect</td>\n",
       "      <td>anger_sadness_shock_indifference_disgust</td>\n",
       "      <td>0</td>\n",
       "      <td>arabs</td>\n",
       "    </tr>\n",
       "    <tr>\n",
       "      <th>...</th>\n",
       "      <td>...</td>\n",
       "      <td>...</td>\n",
       "      <td>...</td>\n",
       "      <td>...</td>\n",
       "      <td>...</td>\n",
       "      <td>...</td>\n",
       "    </tr>\n",
       "    <tr>\n",
       "      <th>6035</th>\n",
       "      <td>N'ont pas pu dormir du tout. Je pense que je v...</td>\n",
       "      <td>normal</td>\n",
       "      <td>direct</td>\n",
       "      <td>indifference</td>\n",
       "      <td>1</td>\n",
       "      <td>nothing</td>\n",
       "    </tr>\n",
       "    <tr>\n",
       "      <th>6352</th>\n",
       "      <td>Crier quelque chose comme Angelina Jolie's sur...</td>\n",
       "      <td>normal</td>\n",
       "      <td>direct</td>\n",
       "      <td>indifference</td>\n",
       "      <td>1</td>\n",
       "      <td>nothing</td>\n",
       "    </tr>\n",
       "    <tr>\n",
       "      <th>9240</th>\n",
       "      <td>Tu paries! La semaine prochaine, je vais frapp...</td>\n",
       "      <td>normal</td>\n",
       "      <td>direct</td>\n",
       "      <td>indifference</td>\n",
       "      <td>1</td>\n",
       "      <td>nothing</td>\n",
       "    </tr>\n",
       "    <tr>\n",
       "      <th>8762</th>\n",
       "      <td>Merci de répondre à ma question.</td>\n",
       "      <td>normal</td>\n",
       "      <td>direct</td>\n",
       "      <td>indifference</td>\n",
       "      <td>1</td>\n",
       "      <td>nothing</td>\n",
       "    </tr>\n",
       "    <tr>\n",
       "      <th>3967</th>\n",
       "      <td>@user ils te pensent seulement gauchiste et fé...</td>\n",
       "      <td>positive</td>\n",
       "      <td>indirect</td>\n",
       "      <td>indifference</td>\n",
       "      <td>0</td>\n",
       "      <td>other</td>\n",
       "    </tr>\n",
       "  </tbody>\n",
       "</table>\n",
       "<p>11565 rows × 6 columns</p>\n",
       "</div>"
      ],
      "text/plain": [
       "                                                  tweet sentiment directness  \\\n",
       "1590  grace aux rageux de ton cc aura peut etre des ...  negative     direct   \n",
       "1640  #lejouroujaibrulemoncoeur mon dieu ce que cet ...  negative     direct   \n",
       "3626  @user @user faut-il arrêter de subventionner l...  negative   indirect   \n",
       "8253  Oh, c'est comme ça que tu vas manquer! Hehe! P...    normal     direct   \n",
       "383   @user @user @user nan c’est pas à cause de cla...  negative   indirect   \n",
       "...                                                 ...       ...        ...   \n",
       "6035  N'ont pas pu dormir du tout. Je pense que je v...    normal     direct   \n",
       "6352  Crier quelque chose comme Angelina Jolie's sur...    normal     direct   \n",
       "9240  Tu paries! La semaine prochaine, je vais frapp...    normal     direct   \n",
       "8762                   Merci de répondre à ma question.    normal     direct   \n",
       "3967  @user ils te pensent seulement gauchiste et fé...  positive   indirect   \n",
       "\n",
       "                           annotator_sentiment target            group  \n",
       "1590                              indifference      0  african_descent  \n",
       "1640                                   sadness      0            other  \n",
       "3626                              indifference      0            other  \n",
       "8253                              indifference      1          nothing  \n",
       "383   anger_sadness_shock_indifference_disgust      0            arabs  \n",
       "...                                        ...    ...              ...  \n",
       "6035                              indifference      1          nothing  \n",
       "6352                              indifference      1          nothing  \n",
       "9240                              indifference      1          nothing  \n",
       "8762                              indifference      1          nothing  \n",
       "3967                              indifference      0            other  \n",
       "\n",
       "[11565 rows x 6 columns]"
      ]
     },
     "execution_count": 136,
     "metadata": {},
     "output_type": "execute_result"
    }
   ],
   "source": [
    "all_.drop(columns='HITId')"
   ]
  },
  {
   "cell_type": "code",
   "execution_count": 122,
   "id": "056a075a",
   "metadata": {},
   "outputs": [
    {
     "data": {
      "text/plain": [
       "<AxesSubplot:xlabel='tweet', ylabel='target'>"
      ]
     },
     "execution_count": 122,
     "metadata": {},
     "output_type": "execute_result"
    },
    {
     "data": {
      "image/png": "[encoded data removed]",
      "text/plain": [
       "<Figure size 2160x1440 with 1 Axes>"
      ]
     },
     "metadata": {
      "needs_background": "light"
     },
     "output_type": "display_data"
    }
   ],
   "source": [
    "cum = all_['target'].value_counts().to_frame()\n",
    "cum['tweet'] = cum.index\n",
    "cumfig, ax = plt.subplots(figsize=(30,20))\n",
    "sns.barplot(data=cum,x='tweet',y='target',ax=ax)"
   ]
  },
  {
   "cell_type": "markdown",
   "id": "355a6d9e",
   "metadata": {},
   "source": [
    "## NOTE:\n",
    "I merged two datasets, one contains only negative tweets with multi-classes, the other one contains only \"normal\" tweets. While merging, this later as it didn't contain the columns : HTDID, sentiment, directness, annotator_sentiment and group, I've gt some NaN values. To avoid them I replaced the Nan values in each column with an appripriate value, for instance:\n",
    "sentiment-> 'normal', directness->'direct', groupe-> 'nothing' and annotator_sentiment->'indifference'"
   ]
  },
  {
   "cell_type": "code",
   "execution_count": null,
   "id": "bcf2bd6c",
   "metadata": {},
   "outputs": [],
   "source": []
  }
 ],
 "metadata": {
  "kernelspec": {
   "display_name": "Python 3",
   "language": "python",
   "name": "python3"
  },
  "language_info": {
   "codemirror_mode": {
    "name": "ipython",
    "version": 3
   },
   "file_extension": ".py",
   "mimetype": "text/x-python",
   "name": "python",
   "nbconvert_exporter": "python",
   "pygments_lexer": "ipython3",
   "version": "3.8.8"
  }
 },
 "nbformat": 4,
 "nbformat_minor": 5
}
