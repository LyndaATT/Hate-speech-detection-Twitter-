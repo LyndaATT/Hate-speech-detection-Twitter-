{
 "cells": [
  {
   "cell_type": "markdown",
   "metadata": {},
   "source": [
    "## 1. Installing needed libraries"
   ]
  },
  {
   "cell_type": "code",
   "execution_count": 1,
   "metadata": {
    "_kg_hide-output": false,
    "execution": {
     "iopub.execute_input": "2022-02-22T08:12:17.779577Z",
     "iopub.status.busy": "2022-02-22T08:12:17.779237Z",
     "iopub.status.idle": "2022-02-22T08:14:04.765050Z",
     "shell.execute_reply": "2022-02-22T08:14:04.764234Z",
     "shell.execute_reply.started": "2022-02-22T08:12:17.779490Z"
    },
    "scrolled": true
   },
   "outputs": [
    {
     "name": "stdout",
     "output_type": "stream",
     "text": [
      "Collecting openpyxl\n",
      "  Downloading openpyxl-3.0.9-py2.py3-none-any.whl (242 kB)\n",
      "     |████████████████████████████████| 242 kB 804 kB/s            \n",
      "\u001b[?25hCollecting et-xmlfile\n",
      "  Downloading et_xmlfile-1.1.0-py3-none-any.whl (4.7 kB)\n",
      "Installing collected packages: et-xmlfile, openpyxl\n",
      "Successfully installed et-xmlfile-1.1.0 openpyxl-3.0.9\n",
      "\u001b[33mWARNING: Running pip as the 'root' user can result in broken permissions and conflicting behaviour with the system package manager. It is recommended to use a virtual environment instead: https://pip.pypa.io/warnings/venv\u001b[0m\n",
      "Requirement already satisfied: PyArabic in /opt/conda/lib/python3.7/site-packages (0.6.14)\n",
      "Requirement already satisfied: six>=1.14.0 in /opt/conda/lib/python3.7/site-packages (from PyArabic) (1.16.0)\n",
      "\u001b[33mWARNING: Running pip as the 'root' user can result in broken permissions and conflicting behaviour with the system package manager. It is recommended to use a virtual environment instead: https://pip.pypa.io/warnings/venv\u001b[0m\n",
      "Requirement already satisfied: emoji in /opt/conda/lib/python3.7/site-packages (1.6.3)\n",
      "\u001b[33mWARNING: Running pip as the 'root' user can result in broken permissions and conflicting behaviour with the system package manager. It is recommended to use a virtual environment instead: https://pip.pypa.io/warnings/venv\u001b[0m\n",
      "Collecting Arabic-Stopwords\n",
      "  Downloading Arabic_Stopwords-0.3-py3-none-any.whl (353 kB)\n",
      "     |████████████████████████████████| 353 kB 780 kB/s            \n",
      "\u001b[?25hRequirement already satisfied: pyarabic>=0.6.2 in /opt/conda/lib/python3.7/site-packages (from Arabic-Stopwords) (0.6.14)\n",
      "Requirement already satisfied: six>=1.14.0 in /opt/conda/lib/python3.7/site-packages (from pyarabic>=0.6.2->Arabic-Stopwords) (1.16.0)\n",
      "Installing collected packages: Arabic-Stopwords\n",
      "Successfully installed Arabic-Stopwords-0.3\n",
      "\u001b[33mWARNING: Running pip as the 'root' user can result in broken permissions and conflicting behaviour with the system package manager. It is recommended to use a virtual environment instead: https://pip.pypa.io/warnings/venv\u001b[0m\n",
      "Collecting tkseem\n",
      "  Downloading tkseem-0.0.3-py3-none-any.whl (30.9 MB)\n",
      "     |████████████████████████████████| 30.9 MB 890 kB/s            \n",
      "\u001b[?25hRequirement already satisfied: numpy in /opt/conda/lib/python3.7/site-packages (from tkseem) (1.20.3)\n",
      "Requirement already satisfied: black in /opt/conda/lib/python3.7/site-packages (from tkseem) (21.12b0)\n",
      "Collecting farasapy\n",
      "  Downloading farasapy-0.0.14-py3-none-any.whl (11 kB)\n",
      "Requirement already satisfied: tqdm in /opt/conda/lib/python3.7/site-packages (from tkseem) (4.62.3)\n",
      "Requirement already satisfied: sentencepiece in /opt/conda/lib/python3.7/site-packages (from tkseem) (0.1.96)\n",
      "Requirement already satisfied: tomli<2.0.0,>=0.2.6 in /opt/conda/lib/python3.7/site-packages (from black->tkseem) (1.2.2)\n",
      "Requirement already satisfied: mypy-extensions>=0.4.3 in /opt/conda/lib/python3.7/site-packages (from black->tkseem) (0.4.3)\n",
      "Requirement already satisfied: platformdirs>=2 in /opt/conda/lib/python3.7/site-packages (from black->tkseem) (2.3.0)\n",
      "Requirement already satisfied: pathspec<1,>=0.9.0 in /opt/conda/lib/python3.7/site-packages (from black->tkseem) (0.9.0)\n",
      "Requirement already satisfied: typed-ast>=1.4.2 in /opt/conda/lib/python3.7/site-packages (from black->tkseem) (1.5.1)\n",
      "Requirement already satisfied: typing-extensions>=3.10.0.0 in /opt/conda/lib/python3.7/site-packages (from black->tkseem) (4.0.1)\n",
      "Requirement already satisfied: click>=7.1.2 in /opt/conda/lib/python3.7/site-packages (from black->tkseem) (8.0.3)\n",
      "Requirement already satisfied: requests in /opt/conda/lib/python3.7/site-packages (from farasapy->tkseem) (2.26.0)\n",
      "Requirement already satisfied: importlib-metadata in /opt/conda/lib/python3.7/site-packages (from click>=7.1.2->black->tkseem) (4.10.1)\n",
      "Requirement already satisfied: idna<4,>=2.5 in /opt/conda/lib/python3.7/site-packages (from requests->farasapy->tkseem) (3.1)\n",
      "Requirement already satisfied: certifi>=2017.4.17 in /opt/conda/lib/python3.7/site-packages (from requests->farasapy->tkseem) (2021.10.8)\n",
      "Requirement already satisfied: urllib3<1.27,>=1.21.1 in /opt/conda/lib/python3.7/site-packages (from requests->farasapy->tkseem) (1.26.7)\n",
      "Requirement already satisfied: charset-normalizer~=2.0.0 in /opt/conda/lib/python3.7/site-packages (from requests->farasapy->tkseem) (2.0.9)\n",
      "Requirement already satisfied: zipp>=0.5 in /opt/conda/lib/python3.7/site-packages (from importlib-metadata->click>=7.1.2->black->tkseem) (3.6.0)\n",
      "Installing collected packages: farasapy, tkseem\n",
      "Successfully installed farasapy-0.0.14 tkseem-0.0.3\n",
      "\u001b[33mWARNING: Running pip as the 'root' user can result in broken permissions and conflicting behaviour with the system package manager. It is recommended to use a virtual environment instead: https://pip.pypa.io/warnings/venv\u001b[0m\n",
      "Collecting tnkeeh\n",
      "  Downloading tnkeeh-0.0.9-py3-none-any.whl (8.6 kB)\n",
      "Collecting datasets\n",
      "  Downloading datasets-1.18.3-py3-none-any.whl (311 kB)\n",
      "     |████████████████████████████████| 311 kB 889 kB/s            \n",
      "\u001b[?25hRequirement already satisfied: farasapy in /opt/conda/lib/python3.7/site-packages (from tnkeeh) (0.0.14)\n",
      "Requirement already satisfied: numpy>=1.17 in /opt/conda/lib/python3.7/site-packages (from datasets->tnkeeh) (1.20.3)\n",
      "Requirement already satisfied: multiprocess in /opt/conda/lib/python3.7/site-packages (from datasets->tnkeeh) (0.70.12.2)\n",
      "Requirement already satisfied: dill in /opt/conda/lib/python3.7/site-packages (from datasets->tnkeeh) (0.3.4)\n",
      "Requirement already satisfied: importlib-metadata in /opt/conda/lib/python3.7/site-packages (from datasets->tnkeeh) (4.10.1)\n",
      "Requirement already satisfied: pyarrow!=4.0.0,>=3.0.0 in /opt/conda/lib/python3.7/site-packages (from datasets->tnkeeh) (6.0.1)\n",
      "Collecting xxhash\n",
      "  Downloading xxhash-2.0.2-cp37-cp37m-manylinux2010_x86_64.whl (243 kB)\n",
      "     |████████████████████████████████| 243 kB 14.8 MB/s            \n",
      "\u001b[?25hRequirement already satisfied: pandas in /opt/conda/lib/python3.7/site-packages (from datasets->tnkeeh) (1.3.5)\n",
      "Requirement already satisfied: aiohttp in /opt/conda/lib/python3.7/site-packages (from datasets->tnkeeh) (3.8.1)\n",
      "Requirement already satisfied: requests>=2.19.0 in /opt/conda/lib/python3.7/site-packages (from datasets->tnkeeh) (2.26.0)\n",
      "Requirement already satisfied: packaging in /opt/conda/lib/python3.7/site-packages (from datasets->tnkeeh) (21.3)\n",
      "Requirement already satisfied: huggingface-hub<1.0.0,>=0.1.0 in /opt/conda/lib/python3.7/site-packages (from datasets->tnkeeh) (0.2.1)\n",
      "Requirement already satisfied: tqdm>=4.62.1 in /opt/conda/lib/python3.7/site-packages (from datasets->tnkeeh) (4.62.3)\n",
      "Requirement already satisfied: fsspec[http]>=2021.05.0 in /opt/conda/lib/python3.7/site-packages (from datasets->tnkeeh) (2022.1.0)\n",
      "Requirement already satisfied: pyyaml in /opt/conda/lib/python3.7/site-packages (from huggingface-hub<1.0.0,>=0.1.0->datasets->tnkeeh) (6.0)\n",
      "Requirement already satisfied: filelock in /opt/conda/lib/python3.7/site-packages (from huggingface-hub<1.0.0,>=0.1.0->datasets->tnkeeh) (3.4.0)\n",
      "Requirement already satisfied: typing-extensions>=3.7.4.3 in /opt/conda/lib/python3.7/site-packages (from huggingface-hub<1.0.0,>=0.1.0->datasets->tnkeeh) (4.0.1)\n",
      "Requirement already satisfied: pyparsing!=3.0.5,>=2.0.2 in /opt/conda/lib/python3.7/site-packages (from packaging->datasets->tnkeeh) (3.0.6)\n",
      "Requirement already satisfied: idna<4,>=2.5 in /opt/conda/lib/python3.7/site-packages (from requests>=2.19.0->datasets->tnkeeh) (3.1)\n",
      "Requirement already satisfied: urllib3<1.27,>=1.21.1 in /opt/conda/lib/python3.7/site-packages (from requests>=2.19.0->datasets->tnkeeh) (1.26.7)\n",
      "Requirement already satisfied: charset-normalizer~=2.0.0 in /opt/conda/lib/python3.7/site-packages (from requests>=2.19.0->datasets->tnkeeh) (2.0.9)\n",
      "Requirement already satisfied: certifi>=2017.4.17 in /opt/conda/lib/python3.7/site-packages (from requests>=2.19.0->datasets->tnkeeh) (2021.10.8)\n",
      "Requirement already satisfied: attrs>=17.3.0 in /opt/conda/lib/python3.7/site-packages (from aiohttp->datasets->tnkeeh) (21.2.0)\n",
      "Requirement already satisfied: aiosignal>=1.1.2 in /opt/conda/lib/python3.7/site-packages (from aiohttp->datasets->tnkeeh) (1.2.0)\n",
      "Requirement already satisfied: yarl<2.0,>=1.0 in /opt/conda/lib/python3.7/site-packages (from aiohttp->datasets->tnkeeh) (1.7.2)\n",
      "Requirement already satisfied: frozenlist>=1.1.1 in /opt/conda/lib/python3.7/site-packages (from aiohttp->datasets->tnkeeh) (1.2.0)\n",
      "Requirement already satisfied: multidict<7.0,>=4.5 in /opt/conda/lib/python3.7/site-packages (from aiohttp->datasets->tnkeeh) (5.2.0)\n",
      "Requirement already satisfied: async-timeout<5.0,>=4.0.0a3 in /opt/conda/lib/python3.7/site-packages (from aiohttp->datasets->tnkeeh) (4.0.1)\n",
      "Requirement already satisfied: asynctest==0.13.0 in /opt/conda/lib/python3.7/site-packages (from aiohttp->datasets->tnkeeh) (0.13.0)\n",
      "Requirement already satisfied: zipp>=0.5 in /opt/conda/lib/python3.7/site-packages (from importlib-metadata->datasets->tnkeeh) (3.6.0)\n",
      "Requirement already satisfied: python-dateutil>=2.7.3 in /opt/conda/lib/python3.7/site-packages (from pandas->datasets->tnkeeh) (2.8.2)\n",
      "Requirement already satisfied: pytz>=2017.3 in /opt/conda/lib/python3.7/site-packages (from pandas->datasets->tnkeeh) (2021.3)\n",
      "Requirement already satisfied: six>=1.5 in /opt/conda/lib/python3.7/site-packages (from python-dateutil>=2.7.3->pandas->datasets->tnkeeh) (1.16.0)\n",
      "Installing collected packages: xxhash, datasets, tnkeeh\n",
      "Successfully installed datasets-1.18.3 tnkeeh-0.0.9 xxhash-2.0.2\n",
      "\u001b[33mWARNING: Running pip as the 'root' user can result in broken permissions and conflicting behaviour with the system package manager. It is recommended to use a virtual environment instead: https://pip.pypa.io/warnings/venv\u001b[0m\n",
      "Collecting fr-word-segment\n",
      "  Downloading fr_word_segment-0.1.3-py3-none-any.whl (9.0 kB)\n",
      "Requirement already satisfied: spacy in /opt/conda/lib/python3.7/site-packages (from fr-word-segment) (3.2.1)\n",
      "Requirement already satisfied: thinc<8.1.0,>=8.0.12 in /opt/conda/lib/python3.7/site-packages (from spacy->fr-word-segment) (8.0.13)\n",
      "Requirement already satisfied: requests<3.0.0,>=2.13.0 in /opt/conda/lib/python3.7/site-packages (from spacy->fr-word-segment) (2.26.0)\n",
      "Requirement already satisfied: catalogue<2.1.0,>=2.0.6 in /opt/conda/lib/python3.7/site-packages (from spacy->fr-word-segment) (2.0.6)\n",
      "Requirement already satisfied: spacy-legacy<3.1.0,>=3.0.8 in /opt/conda/lib/python3.7/site-packages (from spacy->fr-word-segment) (3.0.8)\n",
      "Requirement already satisfied: murmurhash<1.1.0,>=0.28.0 in /opt/conda/lib/python3.7/site-packages (from spacy->fr-word-segment) (1.0.6)\n",
      "Requirement already satisfied: srsly<3.0.0,>=2.4.1 in /opt/conda/lib/python3.7/site-packages (from spacy->fr-word-segment) (2.4.2)\n",
      "Requirement already satisfied: pathy>=0.3.5 in /opt/conda/lib/python3.7/site-packages (from spacy->fr-word-segment) (0.6.1)\n",
      "Requirement already satisfied: typer<0.5.0,>=0.3.0 in /opt/conda/lib/python3.7/site-packages (from spacy->fr-word-segment) (0.4.0)\n",
      "Requirement already satisfied: blis<0.8.0,>=0.4.0 in /opt/conda/lib/python3.7/site-packages (from spacy->fr-word-segment) (0.7.5)\n",
      "Requirement already satisfied: preshed<3.1.0,>=3.0.2 in /opt/conda/lib/python3.7/site-packages (from spacy->fr-word-segment) (3.0.6)\n",
      "Requirement already satisfied: packaging>=20.0 in /opt/conda/lib/python3.7/site-packages (from spacy->fr-word-segment) (21.3)\n",
      "Requirement already satisfied: tqdm<5.0.0,>=4.38.0 in /opt/conda/lib/python3.7/site-packages (from spacy->fr-word-segment) (4.62.3)\n",
      "Requirement already satisfied: cymem<2.1.0,>=2.0.2 in /opt/conda/lib/python3.7/site-packages (from spacy->fr-word-segment) (2.0.6)\n",
      "Requirement already satisfied: spacy-loggers<2.0.0,>=1.0.0 in /opt/conda/lib/python3.7/site-packages (from spacy->fr-word-segment) (1.0.1)\n",
      "Requirement already satisfied: pydantic!=1.8,!=1.8.1,<1.9.0,>=1.7.4 in /opt/conda/lib/python3.7/site-packages (from spacy->fr-word-segment) (1.8.2)\n",
      "Requirement already satisfied: numpy>=1.15.0 in /opt/conda/lib/python3.7/site-packages (from spacy->fr-word-segment) (1.20.3)\n",
      "Requirement already satisfied: jinja2 in /opt/conda/lib/python3.7/site-packages (from spacy->fr-word-segment) (3.0.3)\n",
      "Collecting typing-extensions<4.0.0.0,>=3.7.4\n",
      "  Downloading typing_extensions-3.10.0.2-py3-none-any.whl (26 kB)\n",
      "Requirement already satisfied: langcodes<4.0.0,>=3.2.0 in /opt/conda/lib/python3.7/site-packages (from spacy->fr-word-segment) (3.3.0)\n",
      "Requirement already satisfied: wasabi<1.1.0,>=0.8.1 in /opt/conda/lib/python3.7/site-packages (from spacy->fr-word-segment) (0.9.0)\n",
      "Requirement already satisfied: setuptools in /opt/conda/lib/python3.7/site-packages (from spacy->fr-word-segment) (59.5.0)\n",
      "Requirement already satisfied: zipp>=0.5 in /opt/conda/lib/python3.7/site-packages (from catalogue<2.1.0,>=2.0.6->spacy->fr-word-segment) (3.6.0)\n",
      "Requirement already satisfied: pyparsing!=3.0.5,>=2.0.2 in /opt/conda/lib/python3.7/site-packages (from packaging>=20.0->spacy->fr-word-segment) (3.0.6)\n",
      "Requirement already satisfied: smart-open<6.0.0,>=5.0.0 in /opt/conda/lib/python3.7/site-packages (from pathy>=0.3.5->spacy->fr-word-segment) (5.2.1)\n",
      "Requirement already satisfied: certifi>=2017.4.17 in /opt/conda/lib/python3.7/site-packages (from requests<3.0.0,>=2.13.0->spacy->fr-word-segment) (2021.10.8)\n",
      "Requirement already satisfied: charset-normalizer~=2.0.0 in /opt/conda/lib/python3.7/site-packages (from requests<3.0.0,>=2.13.0->spacy->fr-word-segment) (2.0.9)\n",
      "Requirement already satisfied: urllib3<1.27,>=1.21.1 in /opt/conda/lib/python3.7/site-packages (from requests<3.0.0,>=2.13.0->spacy->fr-word-segment) (1.26.7)\n",
      "Requirement already satisfied: idna<4,>=2.5 in /opt/conda/lib/python3.7/site-packages (from requests<3.0.0,>=2.13.0->spacy->fr-word-segment) (3.1)\n",
      "Requirement already satisfied: click<9.0.0,>=7.1.1 in /opt/conda/lib/python3.7/site-packages (from typer<0.5.0,>=0.3.0->spacy->fr-word-segment) (8.0.3)\n",
      "Requirement already satisfied: MarkupSafe>=2.0 in /opt/conda/lib/python3.7/site-packages (from jinja2->spacy->fr-word-segment) (2.0.1)\n",
      "Requirement already satisfied: importlib-metadata in /opt/conda/lib/python3.7/site-packages (from click<9.0.0,>=7.1.1->typer<0.5.0,>=0.3.0->spacy->fr-word-segment) (4.10.1)\n",
      "Installing collected packages: typing-extensions, fr-word-segment\n",
      "  Attempting uninstall: typing-extensions\n",
      "    Found existing installation: typing-extensions 4.0.1\n",
      "    Uninstalling typing-extensions-4.0.1:\n",
      "      Successfully uninstalled typing-extensions-4.0.1\n",
      "\u001b[31mERROR: pip's dependency resolver does not currently take into account all the packages that are installed. This behaviour is the source of the following dependency conflicts.\n",
      "tensorflow-io 0.21.0 requires tensorflow-io-gcs-filesystem==0.21.0, which is not installed.\n",
      "explainable-ai-sdk 1.3.2 requires xai-image-widget, which is not installed.\n",
      "tensorflow 2.6.2 requires numpy~=1.19.2, but you have numpy 1.20.3 which is incompatible.\n",
      "tensorflow 2.6.2 requires six~=1.15.0, but you have six 1.16.0 which is incompatible.\n",
      "tensorflow 2.6.2 requires typing-extensions~=3.7.4, but you have typing-extensions 3.10.0.2 which is incompatible.\n",
      "tensorflow 2.6.2 requires wrapt~=1.12.1, but you have wrapt 1.13.3 which is incompatible.\n",
      "tensorflow-transform 1.5.0 requires absl-py<0.13,>=0.9, but you have absl-py 0.15.0 which is incompatible.\n",
      "tensorflow-transform 1.5.0 requires numpy<1.20,>=1.16, but you have numpy 1.20.3 which is incompatible.\n",
      "tensorflow-transform 1.5.0 requires pyarrow<6,>=1, but you have pyarrow 6.0.1 which is incompatible.\n",
      "tensorflow-transform 1.5.0 requires tensorflow!=2.0.*,!=2.1.*,!=2.2.*,!=2.3.*,!=2.4.*,!=2.5.*,!=2.6.*,<2.8,>=1.15.2, but you have tensorflow 2.6.2 which is incompatible.\n",
      "tensorflow-serving-api 2.7.0 requires tensorflow<3,>=2.7.0, but you have tensorflow 2.6.2 which is incompatible.\n",
      "flake8 4.0.1 requires importlib-metadata<4.3; python_version < \"3.8\", but you have importlib-metadata 4.10.1 which is incompatible.\n",
      "apache-beam 2.34.0 requires dill<0.3.2,>=0.3.1.1, but you have dill 0.3.4 which is incompatible.\n",
      "apache-beam 2.34.0 requires httplib2<0.20.0,>=0.8, but you have httplib2 0.20.2 which is incompatible.\n",
      "apache-beam 2.34.0 requires pyarrow<6.0.0,>=0.15.1, but you have pyarrow 6.0.1 which is incompatible.\n",
      "aioitertools 0.9.0 requires typing_extensions>=4.0; python_version < \"3.10\", but you have typing-extensions 3.10.0.2 which is incompatible.\n",
      "aiobotocore 2.1.0 requires botocore<1.23.25,>=1.23.24, but you have botocore 1.23.51 which is incompatible.\u001b[0m\n",
      "Successfully installed fr-word-segment-0.1.3 typing-extensions-3.10.0.2\n",
      "\u001b[33mWARNING: Running pip as the 'root' user can result in broken permissions and conflicting behaviour with the system package manager. It is recommended to use a virtual environment instead: https://pip.pypa.io/warnings/venv\u001b[0m\n",
      "Collecting pyspellchecker\n",
      "  Downloading pyspellchecker-0.6.3-py3-none-any.whl (2.7 MB)\n",
      "     |████████████████████████████████| 2.7 MB 892 kB/s            \n",
      "\u001b[?25hInstalling collected packages: pyspellchecker\n",
      "Successfully installed pyspellchecker-0.6.3\n",
      "\u001b[33mWARNING: Running pip as the 'root' user can result in broken permissions and conflicting behaviour with the system package manager. It is recommended to use a virtual environment instead: https://pip.pypa.io/warnings/venv\u001b[0m\n"
     ]
    }
   ],
   "source": [
    "!pip install openpyxl\n",
    "!pip install PyArabic\n",
    "!pip install git+https://github.com/ClaudeCoulombe/FrenchLefffLemmatizer.git &> /dev/null\n",
    "!pip install emoji \n",
    "!pip install Arabic-Stopwords\n",
    "!pip install tkseem\n",
    "!pip install tnkeeh\n",
    "!pip3 install fr-word-segment\n",
    "!pip install pyspellchecker"
   ]
  },
  {
   "cell_type": "markdown",
   "metadata": {},
   "source": [
    "## 2. Imports"
   ]
  },
  {
   "cell_type": "code",
   "execution_count": 2,
   "metadata": {
    "execution": {
     "iopub.execute_input": "2022-02-22T08:14:04.767212Z",
     "iopub.status.busy": "2022-02-22T08:14:04.766963Z",
     "iopub.status.idle": "2022-02-22T08:14:17.046264Z",
     "shell.execute_reply": "2022-02-22T08:14:17.045220Z",
     "shell.execute_reply.started": "2022-02-22T08:14:04.767184Z"
    }
   },
   "outputs": [],
   "source": [
    "from tqdm.notebook import tqdm\n",
    "import matplotlib.pyplot as plt\n",
    "import numpy as np\n",
    "\n",
    "import pandas as pd\n",
    "from keras.preprocessing.text import Tokenizer\n",
    "\n",
    "import nltk\n",
    "import string\n",
    "from french_lefff_lemmatizer.french_lefff_lemmatizer import FrenchLefffLemmatizer\n",
    "from fastai.text.all import *\n",
    "\n",
    "import sklearn\n",
    "import regex as re\n",
    "from unicodedata import normalize\n",
    "\n",
    "import torch\n",
    "from sklearn.model_selection import train_test_split\n",
    "from keras.preprocessing.sequence import pad_sequences\n",
    "from torch.utils.data import TensorDataset, DataLoader, RandomSampler, SequentialSampler\n",
    "from transformers import AdamW\n",
    "import torch.nn as nn\n",
    "import torch.nn.functional as F\n",
    "import torch.optim as optim\n",
    "import torchvision\n",
    "import torchvision.transforms as transforms\n",
    "from torchvision.transforms import ToTensor\n",
    "from torch.autograd import Variable\n",
    "from torch.optim.lr_scheduler import CyclicLR\n",
    "from torchvision import models\n",
    "\n",
    "from sklearn.metrics import accuracy_score, confusion_matrix,precision_score,recall_score,f1_score\n",
    "import os\n",
    "import gensim\n",
    "\n",
    "\n",
    "# keras\n",
    "from keras.preprocessing.text import Tokenizer\n",
    "from keras.preprocessing.sequence import pad_sequences\n",
    "from keras.layers import GRU,MaxPooling1D,GlobalMaxPooling1D,GlobalAveragePooling1D,Conv1D, Dense, Input, LSTM, Embedding, Dropout, Activation, Flatten, Bidirectional, GlobalMaxPool1D\n",
    "from keras import callbacks\n",
    "from keras.utils.vis_utils import plot_model\n",
    "\n",
    "# sklearn\n",
    "from sklearn.model_selection import train_test_split\n",
    "from sklearn.feature_extraction.text import TfidfVectorizer,CountVectorizer,TfidfTransformer \n",
    "from sklearn.metrics import roc_auc_score, accuracy_score,roc_curve, auc, plot_confusion_matrix, confusion_matrix\n",
    "from sklearn.svm import LinearSVC\n",
    "from sklearn import model_selection\n",
    "from sklearn import preprocessing\n",
    "from sklearn.linear_model import LogisticRegression\n",
    "from tensorflow.keras.models import Sequential\n",
    "from sklearn.manifold import TSNE\n",
    "from sklearn.naive_bayes import MultinomialNB\n",
    "from keras.preprocessing.text import Tokenizer\n",
    "import emoji\n",
    "from keras.models import Model\n",
    "import seaborn as sn\n",
    "import pyarabic.araby as ar\n",
    "import tkseem as tk\n",
    "import tnkeeh as tn\n",
    "from nltk.stem.isri import ISRIStemmer\n",
    "from spellchecker import SpellChecker\n",
    "from wordsegment import load,segment\n",
    "from keras.layers.merge import Concatenate\n",
    "import tensorflow as tf\n",
    "load()"
   ]
  },
  {
   "cell_type": "markdown",
   "metadata": {},
   "source": [
    "## 3. Loading Data"
   ]
  },
  {
   "cell_type": "code",
   "execution_count": 3,
   "metadata": {
    "execution": {
     "iopub.execute_input": "2022-02-22T08:14:17.047669Z",
     "iopub.status.busy": "2022-02-22T08:14:17.047448Z",
     "iopub.status.idle": "2022-02-22T08:14:22.136396Z",
     "shell.execute_reply": "2022-02-22T08:14:22.135546Z",
     "shell.execute_reply.started": "2022-02-22T08:14:17.047644Z"
    }
   },
   "outputs": [],
   "source": [
    "df_ar = pd.read_csv('/kaggle/input/twitter/ar_dataset.csv')\n",
    "df_ar2 = pd.read_excel('/kaggle/input/twitter/arr.xlsx')\n",
    "\n",
    "df_fr = pd.read_csv('/kaggle/input/twitter/fr_dataset.csv')\n",
    "df_fr2 = pd.read_csv('/kaggle/input/twitter/french_tweets.csv')"
   ]
  },
  {
   "cell_type": "markdown",
   "metadata": {},
   "source": [
    "## 4. Exploring data"
   ]
  },
  {
   "cell_type": "markdown",
   "metadata": {},
   "source": [
    "### 4.1 French Dataset"
   ]
  },
  {
   "cell_type": "markdown",
   "metadata": {},
   "source": [
    "#### 4.1.1 Main dataset"
   ]
  },
  {
   "cell_type": "code",
   "execution_count": 4,
   "metadata": {
    "execution": {
     "iopub.execute_input": "2022-02-22T08:14:22.138550Z",
     "iopub.status.busy": "2022-02-22T08:14:22.138301Z",
     "iopub.status.idle": "2022-02-22T08:14:22.162216Z",
     "shell.execute_reply": "2022-02-22T08:14:22.161122Z",
     "shell.execute_reply.started": "2022-02-22T08:14:22.138518Z"
    }
   },
   "outputs": [
    {
     "data": {
      "text/html": [
       "<div>\n",
       "<style scoped>\n",
       "    .dataframe tbody tr th:only-of-type {\n",
       "        vertical-align: middle;\n",
       "    }\n",
       "\n",
       "    .dataframe tbody tr th {\n",
       "        vertical-align: top;\n",
       "    }\n",
       "\n",
       "    .dataframe thead th {\n",
       "        text-align: right;\n",
       "    }\n",
       "</style>\n",
       "<table border=\"1\" class=\"dataframe\">\n",
       "  <thead>\n",
       "    <tr style=\"text-align: right;\">\n",
       "      <th></th>\n",
       "      <th>HITId</th>\n",
       "      <th>tweet</th>\n",
       "      <th>sentiment</th>\n",
       "      <th>directness</th>\n",
       "      <th>annotator_sentiment</th>\n",
       "      <th>target</th>\n",
       "      <th>group</th>\n",
       "    </tr>\n",
       "  </thead>\n",
       "  <tbody>\n",
       "    <tr>\n",
       "      <th>0</th>\n",
       "      <td>1</td>\n",
       "      <td>rt @user personnage ainsi q tte la clique gauchiste deguise 1 macronistes !!ont ttes ls qualites requises qui ont etaient inculq</td>\n",
       "      <td>abusive</td>\n",
       "      <td>direct</td>\n",
       "      <td>shock</td>\n",
       "      <td>origin</td>\n",
       "      <td>other</td>\n",
       "    </tr>\n",
       "    <tr>\n",
       "      <th>1</th>\n",
       "      <td>2</td>\n",
       "      <td>@user @user @user bah oui t'as raison l'autre c'est un mongol.</td>\n",
       "      <td>offensive</td>\n",
       "      <td>indirect</td>\n",
       "      <td>shock</td>\n",
       "      <td>other</td>\n",
       "      <td>individual</td>\n",
       "    </tr>\n",
       "    <tr>\n",
       "      <th>2</th>\n",
       "      <td>3</td>\n",
       "      <td>moi j'ai personne à qui m'adresser pour réclamer. le voisin c'est un attardé puant et bruyant dans les administrat… @url</td>\n",
       "      <td>hateful</td>\n",
       "      <td>direct</td>\n",
       "      <td>anger_confusion_sadness_fear_disgust</td>\n",
       "      <td>other</td>\n",
       "      <td>women</td>\n",
       "    </tr>\n",
       "    <tr>\n",
       "      <th>3</th>\n",
       "      <td>4</td>\n",
       "      <td>@user @user c...est vrai que les anchois sont aller sur la lune et invente de million de technologie !</td>\n",
       "      <td>normal</td>\n",
       "      <td>indirect</td>\n",
       "      <td>indifference</td>\n",
       "      <td>other</td>\n",
       "      <td>other</td>\n",
       "    </tr>\n",
       "    <tr>\n",
       "      <th>4</th>\n",
       "      <td>5</td>\n",
       "      <td>eh les renois faut se réveiller la @url</td>\n",
       "      <td>normal</td>\n",
       "      <td>direct</td>\n",
       "      <td>sadness</td>\n",
       "      <td>origin</td>\n",
       "      <td>african_descent</td>\n",
       "    </tr>\n",
       "  </tbody>\n",
       "</table>\n",
       "</div>"
      ],
      "text/plain": [
       "   HITId  \\\n",
       "0      1   \n",
       "1      2   \n",
       "2      3   \n",
       "3      4   \n",
       "4      5   \n",
       "\n",
       "                                                                                                                              tweet  \\\n",
       "0  rt @user personnage ainsi q tte la clique gauchiste deguise 1 macronistes !!ont ttes ls qualites requises qui ont etaient inculq   \n",
       "1                                                                    @user @user @user bah oui t'as raison l'autre c'est un mongol.   \n",
       "2          moi j'ai personne à qui m'adresser pour réclamer. le voisin c'est un attardé puant et bruyant dans les administrat… @url   \n",
       "3                            @user @user c...est vrai que les anchois sont aller sur la lune et invente de million de technologie !   \n",
       "4                                                                                           eh les renois faut se réveiller la @url   \n",
       "\n",
       "   sentiment directness                   annotator_sentiment  target  \\\n",
       "0    abusive     direct                                 shock  origin   \n",
       "1  offensive   indirect                                 shock   other   \n",
       "2    hateful     direct  anger_confusion_sadness_fear_disgust   other   \n",
       "3     normal   indirect                          indifference   other   \n",
       "4     normal     direct                               sadness  origin   \n",
       "\n",
       "             group  \n",
       "0            other  \n",
       "1       individual  \n",
       "2            women  \n",
       "3            other  \n",
       "4  african_descent  "
      ]
     },
     "execution_count": 4,
     "metadata": {},
     "output_type": "execute_result"
    }
   ],
   "source": [
    "df_fr.head()"
   ]
  },
  {
   "cell_type": "code",
   "execution_count": 5,
   "metadata": {
    "execution": {
     "iopub.execute_input": "2022-02-22T08:14:22.163984Z",
     "iopub.status.busy": "2022-02-22T08:14:22.163591Z",
     "iopub.status.idle": "2022-02-22T08:14:22.189801Z",
     "shell.execute_reply": "2022-02-22T08:14:22.188975Z",
     "shell.execute_reply.started": "2022-02-22T08:14:22.163925Z"
    }
   },
   "outputs": [
    {
     "data": {
      "text/html": [
       "<div>\n",
       "<style scoped>\n",
       "    .dataframe tbody tr th:only-of-type {\n",
       "        vertical-align: middle;\n",
       "    }\n",
       "\n",
       "    .dataframe tbody tr th {\n",
       "        vertical-align: top;\n",
       "    }\n",
       "\n",
       "    .dataframe thead th {\n",
       "        text-align: right;\n",
       "    }\n",
       "</style>\n",
       "<table border=\"1\" class=\"dataframe\">\n",
       "  <thead>\n",
       "    <tr style=\"text-align: right;\">\n",
       "      <th></th>\n",
       "      <th>HITId</th>\n",
       "    </tr>\n",
       "  </thead>\n",
       "  <tbody>\n",
       "    <tr>\n",
       "      <th>count</th>\n",
       "      <td>4014.000000</td>\n",
       "    </tr>\n",
       "    <tr>\n",
       "      <th>mean</th>\n",
       "      <td>2007.500000</td>\n",
       "    </tr>\n",
       "    <tr>\n",
       "      <th>std</th>\n",
       "      <td>1158.886319</td>\n",
       "    </tr>\n",
       "    <tr>\n",
       "      <th>min</th>\n",
       "      <td>1.000000</td>\n",
       "    </tr>\n",
       "    <tr>\n",
       "      <th>25%</th>\n",
       "      <td>1004.250000</td>\n",
       "    </tr>\n",
       "    <tr>\n",
       "      <th>50%</th>\n",
       "      <td>2007.500000</td>\n",
       "    </tr>\n",
       "    <tr>\n",
       "      <th>75%</th>\n",
       "      <td>3010.750000</td>\n",
       "    </tr>\n",
       "    <tr>\n",
       "      <th>max</th>\n",
       "      <td>4014.000000</td>\n",
       "    </tr>\n",
       "  </tbody>\n",
       "</table>\n",
       "</div>"
      ],
      "text/plain": [
       "             HITId\n",
       "count  4014.000000\n",
       "mean   2007.500000\n",
       "std    1158.886319\n",
       "min       1.000000\n",
       "25%    1004.250000\n",
       "50%    2007.500000\n",
       "75%    3010.750000\n",
       "max    4014.000000"
      ]
     },
     "execution_count": 5,
     "metadata": {},
     "output_type": "execute_result"
    }
   ],
   "source": [
    "df_fr.describe()"
   ]
  },
  {
   "cell_type": "code",
   "execution_count": 6,
   "metadata": {
    "execution": {
     "iopub.execute_input": "2022-02-22T08:14:22.191234Z",
     "iopub.status.busy": "2022-02-22T08:14:22.190985Z",
     "iopub.status.idle": "2022-02-22T08:14:22.197434Z",
     "shell.execute_reply": "2022-02-22T08:14:22.196526Z",
     "shell.execute_reply.started": "2022-02-22T08:14:22.191204Z"
    }
   },
   "outputs": [
    {
     "name": "stdout",
     "output_type": "stream",
     "text": [
      "Size of the dataset:\n"
     ]
    },
    {
     "data": {
      "text/plain": [
       "4014"
      ]
     },
     "execution_count": 6,
     "metadata": {},
     "output_type": "execute_result"
    }
   ],
   "source": [
    "print('Size of the dataset:')\n",
    "len(df_fr)"
   ]
  },
  {
   "cell_type": "code",
   "execution_count": 7,
   "metadata": {
    "execution": {
     "iopub.execute_input": "2022-02-22T08:14:22.198973Z",
     "iopub.status.busy": "2022-02-22T08:14:22.198690Z",
     "iopub.status.idle": "2022-02-22T08:14:22.214831Z",
     "shell.execute_reply": "2022-02-22T08:14:22.214063Z",
     "shell.execute_reply.started": "2022-02-22T08:14:22.198946Z"
    }
   },
   "outputs": [
    {
     "name": "stdout",
     "output_type": "stream",
     "text": [
      "Nan value HITId                  0\n",
      "tweet                  0\n",
      "sentiment              0\n",
      "directness             0\n",
      "annotator_sentiment    0\n",
      "target                 0\n",
      "group                  0\n",
      "dtype: int64\n"
     ]
    }
   ],
   "source": [
    "#test if the data contains null values\n",
    "print('Nan value',df_fr.isnull().sum())"
   ]
  },
  {
   "cell_type": "code",
   "execution_count": 8,
   "metadata": {
    "execution": {
     "iopub.execute_input": "2022-02-22T08:14:22.216702Z",
     "iopub.status.busy": "2022-02-22T08:14:22.215838Z",
     "iopub.status.idle": "2022-02-22T08:14:22.224876Z",
     "shell.execute_reply": "2022-02-22T08:14:22.223937Z",
     "shell.execute_reply.started": "2022-02-22T08:14:22.216656Z"
    }
   },
   "outputs": [
    {
     "data": {
      "text/plain": [
       "Index(['HITId', 'tweet', 'sentiment', 'directness', 'annotator_sentiment',\n",
       "       'target', 'group'],\n",
       "      dtype='object')"
      ]
     },
     "execution_count": 8,
     "metadata": {},
     "output_type": "execute_result"
    }
   ],
   "source": [
    "#take a look at the column of the dataframe to see the features\n",
    "df_fr.columns"
   ]
  },
  {
   "cell_type": "code",
   "execution_count": 9,
   "metadata": {
    "execution": {
     "iopub.execute_input": "2022-02-22T08:14:22.226554Z",
     "iopub.status.busy": "2022-02-22T08:14:22.226208Z",
     "iopub.status.idle": "2022-02-22T08:14:22.474399Z",
     "shell.execute_reply": "2022-02-22T08:14:22.472557Z",
     "shell.execute_reply.started": "2022-02-22T08:14:22.226525Z"
    }
   },
   "outputs": [
    {
     "data": {
      "text/plain": [
       "<AxesSubplot:xlabel='HITId', ylabel='target'>"
      ]
     },
     "execution_count": 9,
     "metadata": {},
     "output_type": "execute_result"
    },
    {
     "data": {
      "image/png": "[encoded data removed]",
      "text/plain": [
       "<Figure size 360x360 with 1 Axes>"
      ]
     },
     "metadata": {
      "needs_background": "light"
     },
     "output_type": "display_data"
    }
   ],
   "source": [
    "#### Class distribution \n",
    "cum = df_fr['target'].value_counts().to_frame()\n",
    "cum['HITId'] = cum.index\n",
    "cumfig, ax = plt.subplots(figsize=(5,5))\n",
    "sn.barplot(data=cum,x='HITId',y='target',ax=ax)"
   ]
  },
  {
   "cell_type": "markdown",
   "metadata": {},
   "source": [
    "#### 4.1.2 Assest dataset"
   ]
  },
  {
   "cell_type": "code",
   "execution_count": 10,
   "metadata": {
    "execution": {
     "iopub.execute_input": "2022-02-22T08:14:22.477892Z",
     "iopub.status.busy": "2022-02-22T08:14:22.477652Z",
     "iopub.status.idle": "2022-02-22T08:14:22.487113Z",
     "shell.execute_reply": "2022-02-22T08:14:22.486194Z",
     "shell.execute_reply.started": "2022-02-22T08:14:22.477863Z"
    }
   },
   "outputs": [
    {
     "data": {
      "text/html": [
       "<div>\n",
       "<style scoped>\n",
       "    .dataframe tbody tr th:only-of-type {\n",
       "        vertical-align: middle;\n",
       "    }\n",
       "\n",
       "    .dataframe tbody tr th {\n",
       "        vertical-align: top;\n",
       "    }\n",
       "\n",
       "    .dataframe thead th {\n",
       "        text-align: right;\n",
       "    }\n",
       "</style>\n",
       "<table border=\"1\" class=\"dataframe\">\n",
       "  <thead>\n",
       "    <tr style=\"text-align: right;\">\n",
       "      <th></th>\n",
       "      <th>label</th>\n",
       "      <th>text</th>\n",
       "    </tr>\n",
       "  </thead>\n",
       "  <tbody>\n",
       "    <tr>\n",
       "      <th>0</th>\n",
       "      <td>0</td>\n",
       "      <td>- Awww, c'est un bummer. Tu devrais avoir david carr du troisième jour pour le faire. ;ré</td>\n",
       "    </tr>\n",
       "    <tr>\n",
       "      <th>1</th>\n",
       "      <td>0</td>\n",
       "      <td>Est contrarié qu'il ne puisse pas mettre à jour son facebook en le télémaignant ... et peut-être pleurer en conséquence, l'école aujourd'hui aussi. blabla!</td>\n",
       "    </tr>\n",
       "    <tr>\n",
       "      <th>2</th>\n",
       "      <td>0</td>\n",
       "      <td>J'ai plongé plusieurs fois pour la balle. A réussi à économiser 50% le reste sort de limites</td>\n",
       "    </tr>\n",
       "    <tr>\n",
       "      <th>3</th>\n",
       "      <td>0</td>\n",
       "      <td>Tout mon corps a des démangeaisons et comme si c'était en feu</td>\n",
       "    </tr>\n",
       "    <tr>\n",
       "      <th>4</th>\n",
       "      <td>0</td>\n",
       "      <td>Non, il ne se comporte pas du tout. je suis en colère. pourquoi suis-je ici? Parce que je ne peux pas vous voir partout.</td>\n",
       "    </tr>\n",
       "  </tbody>\n",
       "</table>\n",
       "</div>"
      ],
      "text/plain": [
       "   label  \\\n",
       "0      0   \n",
       "1      0   \n",
       "2      0   \n",
       "3      0   \n",
       "4      0   \n",
       "\n",
       "                                                                                                                                                          text  \n",
       "0                                                                    - Awww, c'est un bummer. Tu devrais avoir david carr du troisième jour pour le faire. ;ré  \n",
       "1  Est contrarié qu'il ne puisse pas mettre à jour son facebook en le télémaignant ... et peut-être pleurer en conséquence, l'école aujourd'hui aussi. blabla!  \n",
       "2                                                                 J'ai plongé plusieurs fois pour la balle. A réussi à économiser 50% le reste sort de limites  \n",
       "3                                                                                                Tout mon corps a des démangeaisons et comme si c'était en feu  \n",
       "4                                     Non, il ne se comporte pas du tout. je suis en colère. pourquoi suis-je ici? Parce que je ne peux pas vous voir partout.  "
      ]
     },
     "execution_count": 10,
     "metadata": {},
     "output_type": "execute_result"
    }
   ],
   "source": [
    "df_fr2.head()"
   ]
  },
  {
   "cell_type": "code",
   "execution_count": 11,
   "metadata": {
    "execution": {
     "iopub.execute_input": "2022-02-22T08:14:22.489182Z",
     "iopub.status.busy": "2022-02-22T08:14:22.488526Z",
     "iopub.status.idle": "2022-02-22T08:14:22.500466Z",
     "shell.execute_reply": "2022-02-22T08:14:22.499356Z",
     "shell.execute_reply.started": "2022-02-22T08:14:22.489147Z"
    }
   },
   "outputs": [
    {
     "name": "stdout",
     "output_type": "stream",
     "text": [
      "Size of the dataset:\n"
     ]
    },
    {
     "data": {
      "text/plain": [
       "1526724"
      ]
     },
     "execution_count": 11,
     "metadata": {},
     "output_type": "execute_result"
    }
   ],
   "source": [
    "print('Size of the dataset:')\n",
    "len(df_fr2)"
   ]
  },
  {
   "cell_type": "code",
   "execution_count": 12,
   "metadata": {
    "execution": {
     "iopub.execute_input": "2022-02-22T08:14:22.502194Z",
     "iopub.status.busy": "2022-02-22T08:14:22.501862Z",
     "iopub.status.idle": "2022-02-22T08:14:22.698031Z",
     "shell.execute_reply": "2022-02-22T08:14:22.696967Z",
     "shell.execute_reply.started": "2022-02-22T08:14:22.502162Z"
    }
   },
   "outputs": [
    {
     "name": "stdout",
     "output_type": "stream",
     "text": [
      "Nan value label    0\n",
      "text     0\n",
      "dtype: int64\n"
     ]
    }
   ],
   "source": [
    "#test if the data contains null values\n",
    "print('Nan value',df_fr2.isnull().sum())"
   ]
  },
  {
   "cell_type": "markdown",
   "metadata": {},
   "source": [
    "### 4.2 Arabic dataset"
   ]
  },
  {
   "cell_type": "markdown",
   "metadata": {},
   "source": [
    "#### 4.2.1 Main dataset"
   ]
  },
  {
   "cell_type": "code",
   "execution_count": 13,
   "metadata": {
    "execution": {
     "iopub.execute_input": "2022-02-22T08:14:22.699890Z",
     "iopub.status.busy": "2022-02-22T08:14:22.699521Z",
     "iopub.status.idle": "2022-02-22T08:14:22.714088Z",
     "shell.execute_reply": "2022-02-22T08:14:22.713226Z",
     "shell.execute_reply.started": "2022-02-22T08:14:22.699845Z"
    }
   },
   "outputs": [
    {
     "data": {
      "text/html": [
       "<div>\n",
       "<style scoped>\n",
       "    .dataframe tbody tr th:only-of-type {\n",
       "        vertical-align: middle;\n",
       "    }\n",
       "\n",
       "    .dataframe tbody tr th {\n",
       "        vertical-align: top;\n",
       "    }\n",
       "\n",
       "    .dataframe thead th {\n",
       "        text-align: right;\n",
       "    }\n",
       "</style>\n",
       "<table border=\"1\" class=\"dataframe\">\n",
       "  <thead>\n",
       "    <tr style=\"text-align: right;\">\n",
       "      <th></th>\n",
       "      <th>HITId</th>\n",
       "      <th>tweet</th>\n",
       "      <th>sentiment</th>\n",
       "      <th>directness</th>\n",
       "      <th>annotator_sentiment</th>\n",
       "      <th>target</th>\n",
       "      <th>group</th>\n",
       "    </tr>\n",
       "  </thead>\n",
       "  <tbody>\n",
       "    <tr>\n",
       "      <th>0</th>\n",
       "      <td>1</td>\n",
       "      <td>صلاة الفجر خير لك من ترديد بول البعير وسبي النساء واغتصاب طفلة نظافة ونشاط وحيوية #عقلانيون</td>\n",
       "      <td>hateful_normal</td>\n",
       "      <td>indirect</td>\n",
       "      <td>shock</td>\n",
       "      <td>gender</td>\n",
       "      <td>individual</td>\n",
       "    </tr>\n",
       "    <tr>\n",
       "      <th>1</th>\n",
       "      <td>2</td>\n",
       "      <td>صراحة نفسي اشوف ولاد الوسخة اللي قالوا مدرب اجنبي منك لله ربنا ياخدك ي… @url</td>\n",
       "      <td>offensive</td>\n",
       "      <td>indirect</td>\n",
       "      <td>anger_confusion_sadness_indifference_disgust</td>\n",
       "      <td>other</td>\n",
       "      <td>other</td>\n",
       "    </tr>\n",
       "    <tr>\n",
       "      <th>2</th>\n",
       "      <td>3</td>\n",
       "      <td>طيب! هي متبرجة وعبايتها ملونه وطالعة من بيتهم بدون ....... @url</td>\n",
       "      <td>offensive</td>\n",
       "      <td>indirect</td>\n",
       "      <td>indifference</td>\n",
       "      <td>other</td>\n",
       "      <td>individual</td>\n",
       "    </tr>\n",
       "    <tr>\n",
       "      <th>3</th>\n",
       "      <td>4</td>\n",
       "      <td>@user @user انا اوافقك بخصوص السوريين و العراقيين اما بخصوص السعودي مو بحاجه انه يقعد بالكويت بدو… @url</td>\n",
       "      <td>normal</td>\n",
       "      <td>direct</td>\n",
       "      <td>indifference</td>\n",
       "      <td>origin</td>\n",
       "      <td>other</td>\n",
       "    </tr>\n",
       "    <tr>\n",
       "      <th>4</th>\n",
       "      <td>5</td>\n",
       "      <td>هذه السعودية التي شعبها شعب الخيم و بول البعير  الذي يستهزأ بها الناس</td>\n",
       "      <td>normal</td>\n",
       "      <td>indirect</td>\n",
       "      <td>indifference</td>\n",
       "      <td>origin</td>\n",
       "      <td>other</td>\n",
       "    </tr>\n",
       "  </tbody>\n",
       "</table>\n",
       "</div>"
      ],
      "text/plain": [
       "   HITId  \\\n",
       "0      1   \n",
       "1      2   \n",
       "2      3   \n",
       "3      4   \n",
       "4      5   \n",
       "\n",
       "                                                                                                     tweet  \\\n",
       "0              صلاة الفجر خير لك من ترديد بول البعير وسبي النساء واغتصاب طفلة نظافة ونشاط وحيوية #عقلانيون   \n",
       "1                             صراحة نفسي اشوف ولاد الوسخة اللي قالوا مدرب اجنبي منك لله ربنا ياخدك ي… @url   \n",
       "2                                          طيب! هي متبرجة وعبايتها ملونه وطالعة من بيتهم بدون ....... @url   \n",
       "3  @user @user انا اوافقك بخصوص السوريين و العراقيين اما بخصوص السعودي مو بحاجه انه يقعد بالكويت بدو… @url   \n",
       "4                                    هذه السعودية التي شعبها شعب الخيم و بول البعير  الذي يستهزأ بها الناس   \n",
       "\n",
       "        sentiment directness                           annotator_sentiment  \\\n",
       "0  hateful_normal   indirect                                         shock   \n",
       "1       offensive   indirect  anger_confusion_sadness_indifference_disgust   \n",
       "2       offensive   indirect                                  indifference   \n",
       "3          normal     direct                                  indifference   \n",
       "4          normal   indirect                                  indifference   \n",
       "\n",
       "   target       group  \n",
       "0  gender  individual  \n",
       "1   other       other  \n",
       "2   other  individual  \n",
       "3  origin       other  \n",
       "4  origin       other  "
      ]
     },
     "execution_count": 13,
     "metadata": {},
     "output_type": "execute_result"
    }
   ],
   "source": [
    "df_ar.head()"
   ]
  },
  {
   "cell_type": "code",
   "execution_count": 14,
   "metadata": {
    "execution": {
     "iopub.execute_input": "2022-02-22T08:14:22.716596Z",
     "iopub.status.busy": "2022-02-22T08:14:22.715990Z",
     "iopub.status.idle": "2022-02-22T08:14:22.731780Z",
     "shell.execute_reply": "2022-02-22T08:14:22.731214Z",
     "shell.execute_reply.started": "2022-02-22T08:14:22.716549Z"
    }
   },
   "outputs": [
    {
     "data": {
      "text/html": [
       "<div>\n",
       "<style scoped>\n",
       "    .dataframe tbody tr th:only-of-type {\n",
       "        vertical-align: middle;\n",
       "    }\n",
       "\n",
       "    .dataframe tbody tr th {\n",
       "        vertical-align: top;\n",
       "    }\n",
       "\n",
       "    .dataframe thead th {\n",
       "        text-align: right;\n",
       "    }\n",
       "</style>\n",
       "<table border=\"1\" class=\"dataframe\">\n",
       "  <thead>\n",
       "    <tr style=\"text-align: right;\">\n",
       "      <th></th>\n",
       "      <th>HITId</th>\n",
       "    </tr>\n",
       "  </thead>\n",
       "  <tbody>\n",
       "    <tr>\n",
       "      <th>count</th>\n",
       "      <td>3353.000000</td>\n",
       "    </tr>\n",
       "    <tr>\n",
       "      <th>mean</th>\n",
       "      <td>1677.000000</td>\n",
       "    </tr>\n",
       "    <tr>\n",
       "      <th>std</th>\n",
       "      <td>968.072053</td>\n",
       "    </tr>\n",
       "    <tr>\n",
       "      <th>min</th>\n",
       "      <td>1.000000</td>\n",
       "    </tr>\n",
       "    <tr>\n",
       "      <th>25%</th>\n",
       "      <td>839.000000</td>\n",
       "    </tr>\n",
       "    <tr>\n",
       "      <th>50%</th>\n",
       "      <td>1677.000000</td>\n",
       "    </tr>\n",
       "    <tr>\n",
       "      <th>75%</th>\n",
       "      <td>2515.000000</td>\n",
       "    </tr>\n",
       "    <tr>\n",
       "      <th>max</th>\n",
       "      <td>3353.000000</td>\n",
       "    </tr>\n",
       "  </tbody>\n",
       "</table>\n",
       "</div>"
      ],
      "text/plain": [
       "             HITId\n",
       "count  3353.000000\n",
       "mean   1677.000000\n",
       "std     968.072053\n",
       "min       1.000000\n",
       "25%     839.000000\n",
       "50%    1677.000000\n",
       "75%    2515.000000\n",
       "max    3353.000000"
      ]
     },
     "execution_count": 14,
     "metadata": {},
     "output_type": "execute_result"
    }
   ],
   "source": [
    "df_ar.describe()"
   ]
  },
  {
   "cell_type": "code",
   "execution_count": 15,
   "metadata": {
    "execution": {
     "iopub.execute_input": "2022-02-22T08:14:22.733445Z",
     "iopub.status.busy": "2022-02-22T08:14:22.732698Z",
     "iopub.status.idle": "2022-02-22T08:14:22.738142Z",
     "shell.execute_reply": "2022-02-22T08:14:22.737580Z",
     "shell.execute_reply.started": "2022-02-22T08:14:22.733412Z"
    }
   },
   "outputs": [
    {
     "name": "stdout",
     "output_type": "stream",
     "text": [
      "Size of the dataset:\n"
     ]
    },
    {
     "data": {
      "text/plain": [
       "3353"
      ]
     },
     "execution_count": 15,
     "metadata": {},
     "output_type": "execute_result"
    }
   ],
   "source": [
    "print('Size of the dataset:')\n",
    "len(df_ar)"
   ]
  },
  {
   "cell_type": "code",
   "execution_count": 16,
   "metadata": {
    "execution": {
     "iopub.execute_input": "2022-02-22T08:14:22.739745Z",
     "iopub.status.busy": "2022-02-22T08:14:22.739122Z",
     "iopub.status.idle": "2022-02-22T08:14:22.753273Z",
     "shell.execute_reply": "2022-02-22T08:14:22.752173Z",
     "shell.execute_reply.started": "2022-02-22T08:14:22.739712Z"
    }
   },
   "outputs": [
    {
     "name": "stdout",
     "output_type": "stream",
     "text": [
      "Nan value HITId                  0\n",
      "tweet                  0\n",
      "sentiment              0\n",
      "directness             0\n",
      "annotator_sentiment    0\n",
      "target                 0\n",
      "group                  0\n",
      "dtype: int64\n"
     ]
    }
   ],
   "source": [
    "#test if the data contains null values\n",
    "print('Nan value',df_ar.isnull().sum())"
   ]
  },
  {
   "cell_type": "code",
   "execution_count": 17,
   "metadata": {
    "execution": {
     "iopub.execute_input": "2022-02-22T08:14:22.754844Z",
     "iopub.status.busy": "2022-02-22T08:14:22.754357Z",
     "iopub.status.idle": "2022-02-22T08:14:22.966605Z",
     "shell.execute_reply": "2022-02-22T08:14:22.965722Z",
     "shell.execute_reply.started": "2022-02-22T08:14:22.754809Z"
    }
   },
   "outputs": [
    {
     "data": {
      "text/plain": [
       "<AxesSubplot:xlabel='HITId', ylabel='target'>"
      ]
     },
     "execution_count": 17,
     "metadata": {},
     "output_type": "execute_result"
    },
    {
     "data": {
      "image/png": "[encoded data removed]",
      "text/plain": [
       "<Figure size 360x360 with 1 Axes>"
      ]
     },
     "metadata": {
      "needs_background": "light"
     },
     "output_type": "display_data"
    }
   ],
   "source": [
    "#### Class distribution \n",
    "cum = df_ar['target'].value_counts().to_frame()\n",
    "cum['HITId'] = cum.index\n",
    "cumfig, ax = plt.subplots(figsize=(5,5))\n",
    "sn.barplot(data=cum,x='HITId',y='target',ax=ax)"
   ]
  },
  {
   "cell_type": "markdown",
   "metadata": {},
   "source": [
    "#### 4.2.2 Assest dataset"
   ]
  },
  {
   "cell_type": "code",
   "execution_count": 18,
   "metadata": {
    "execution": {
     "iopub.execute_input": "2022-02-22T08:14:22.968190Z",
     "iopub.status.busy": "2022-02-22T08:14:22.967900Z",
     "iopub.status.idle": "2022-02-22T08:14:22.979007Z",
     "shell.execute_reply": "2022-02-22T08:14:22.978145Z",
     "shell.execute_reply.started": "2022-02-22T08:14:22.968149Z"
    }
   },
   "outputs": [
    {
     "data": {
      "text/html": [
       "<div>\n",
       "<style scoped>\n",
       "    .dataframe tbody tr th:only-of-type {\n",
       "        vertical-align: middle;\n",
       "    }\n",
       "\n",
       "    .dataframe tbody tr th {\n",
       "        vertical-align: top;\n",
       "    }\n",
       "\n",
       "    .dataframe thead th {\n",
       "        text-align: right;\n",
       "    }\n",
       "</style>\n",
       "<table border=\"1\" class=\"dataframe\">\n",
       "  <thead>\n",
       "    <tr style=\"text-align: right;\">\n",
       "      <th></th>\n",
       "      <th>ID</th>\n",
       "      <th>Feed</th>\n",
       "      <th>Sentiment</th>\n",
       "    </tr>\n",
       "  </thead>\n",
       "  <tbody>\n",
       "    <tr>\n",
       "      <th>0</th>\n",
       "      <td>1</td>\n",
       "      <td>اربد فيها جامعات اكثر من عمان ... وفيها قد عمان ونص لعيبه المنتخب منها ... و 80 % من مطربين الاردن منها</td>\n",
       "      <td>Positive</td>\n",
       "    </tr>\n",
       "    <tr>\n",
       "      <th>1</th>\n",
       "      <td>2</td>\n",
       "      <td>الحلو انكم بتحكوا على اساس انو الاردن ما فيه فساد سرقات</td>\n",
       "      <td>Negative</td>\n",
       "    </tr>\n",
       "    <tr>\n",
       "      <th>2</th>\n",
       "      <td>3</td>\n",
       "      <td>كله رائع بجد ربنا يكرمك</td>\n",
       "      <td>Positive</td>\n",
       "    </tr>\n",
       "    <tr>\n",
       "      <th>3</th>\n",
       "      <td>4</td>\n",
       "      <td>لسانك قذر يا قمامه</td>\n",
       "      <td>Negative</td>\n",
       "    </tr>\n",
       "    <tr>\n",
       "      <th>4</th>\n",
       "      <td>5</td>\n",
       "      <td>​انا داشره وغير متزوجه ولدي علاقات مشبوه واحشش واحيانا اهرب مخدرات و اجيد التسليك احب ان انكب نفسي وعلاقتي بالمنزل متوتره جد</td>\n",
       "      <td>Negative</td>\n",
       "    </tr>\n",
       "  </tbody>\n",
       "</table>\n",
       "</div>"
      ],
      "text/plain": [
       "   ID  \\\n",
       "0   1   \n",
       "1   2   \n",
       "2   3   \n",
       "3   4   \n",
       "4   5   \n",
       "\n",
       "                                                                                                                           Feed  \\\n",
       "0                       اربد فيها جامعات اكثر من عمان ... وفيها قد عمان ونص لعيبه المنتخب منها ... و 80 % من مطربين الاردن منها   \n",
       "1                                                                       الحلو انكم بتحكوا على اساس انو الاردن ما فيه فساد سرقات   \n",
       "2                                                                                                       كله رائع بجد ربنا يكرمك   \n",
       "3                                                                                                            لسانك قذر يا قمامه   \n",
       "4  ​انا داشره وغير متزوجه ولدي علاقات مشبوه واحشش واحيانا اهرب مخدرات و اجيد التسليك احب ان انكب نفسي وعلاقتي بالمنزل متوتره جد   \n",
       "\n",
       "  Sentiment  \n",
       "0  Positive  \n",
       "1  Negative  \n",
       "2  Positive  \n",
       "3  Negative  \n",
       "4  Negative  "
      ]
     },
     "execution_count": 18,
     "metadata": {},
     "output_type": "execute_result"
    }
   ],
   "source": [
    "df_ar2.head()"
   ]
  },
  {
   "cell_type": "code",
   "execution_count": 19,
   "metadata": {
    "execution": {
     "iopub.execute_input": "2022-02-22T08:14:22.980470Z",
     "iopub.status.busy": "2022-02-22T08:14:22.980246Z",
     "iopub.status.idle": "2022-02-22T08:14:22.991338Z",
     "shell.execute_reply": "2022-02-22T08:14:22.990476Z",
     "shell.execute_reply.started": "2022-02-22T08:14:22.980438Z"
    }
   },
   "outputs": [
    {
     "name": "stdout",
     "output_type": "stream",
     "text": [
      "Size of the dataset:\n"
     ]
    },
    {
     "data": {
      "text/plain": [
       "1800"
      ]
     },
     "execution_count": 19,
     "metadata": {},
     "output_type": "execute_result"
    }
   ],
   "source": [
    "print('Size of the dataset:')\n",
    "len(df_ar2)"
   ]
  },
  {
   "cell_type": "code",
   "execution_count": 20,
   "metadata": {
    "execution": {
     "iopub.execute_input": "2022-02-22T08:14:22.993702Z",
     "iopub.status.busy": "2022-02-22T08:14:22.992940Z",
     "iopub.status.idle": "2022-02-22T08:14:23.004519Z",
     "shell.execute_reply": "2022-02-22T08:14:23.003612Z",
     "shell.execute_reply.started": "2022-02-22T08:14:22.993656Z"
    }
   },
   "outputs": [
    {
     "name": "stdout",
     "output_type": "stream",
     "text": [
      "Nan value ID           0\n",
      "Feed         0\n",
      "Sentiment    0\n",
      "dtype: int64\n"
     ]
    }
   ],
   "source": [
    "#test if the data contains null values\n",
    "print('Nan value',df_ar2.isnull().sum())"
   ]
  },
  {
   "cell_type": "markdown",
   "metadata": {},
   "source": [
    "## 5. Preprocessing on the datasets"
   ]
  },
  {
   "cell_type": "markdown",
   "metadata": {},
   "source": [
    "### 5.1 French Dataset"
   ]
  },
  {
   "cell_type": "markdown",
   "metadata": {},
   "source": [
    "#### 5.1.1 Hateful tweets"
   ]
  },
  {
   "cell_type": "code",
   "execution_count": 21,
   "metadata": {
    "execution": {
     "iopub.execute_input": "2022-02-22T08:14:23.006735Z",
     "iopub.status.busy": "2022-02-22T08:14:23.006140Z",
     "iopub.status.idle": "2022-02-22T08:14:23.014417Z",
     "shell.execute_reply": "2022-02-22T08:14:23.013654Z",
     "shell.execute_reply.started": "2022-02-22T08:14:23.006688Z"
    }
   },
   "outputs": [],
   "source": [
    "# negative tweets contained\n",
    "# we put target = 0 negative\n",
    "neg = df_fr.loc[df_fr['target']!='normal','target'] = 0\n",
    "neg = df_fr"
   ]
  },
  {
   "cell_type": "markdown",
   "metadata": {},
   "source": [
    "#### 5.1.1 No hateful tweets"
   ]
  },
  {
   "cell_type": "code",
   "execution_count": 22,
   "metadata": {
    "execution": {
     "iopub.execute_input": "2022-02-22T08:14:23.015837Z",
     "iopub.status.busy": "2022-02-22T08:14:23.015607Z",
     "iopub.status.idle": "2022-02-22T08:14:23.099976Z",
     "shell.execute_reply": "2022-02-22T08:14:23.099146Z",
     "shell.execute_reply.started": "2022-02-22T08:14:23.015809Z"
    }
   },
   "outputs": [],
   "source": [
    "#positive tweets contained in the assest dataset\n",
    "pos = df_fr2.loc[df_fr2['label']==1]\n",
    "#since we have a several amount of data, we take a part of it\n",
    "pos= pos.rename(columns={'label':'target','text':'tweet'})\n",
    "n = len(pos)\n",
    "pos= pos[0:int(n/100)]"
   ]
  },
  {
   "cell_type": "markdown",
   "metadata": {},
   "source": [
    "#### 5.1.3 Merging "
   ]
  },
  {
   "cell_type": "code",
   "execution_count": 23,
   "metadata": {
    "execution": {
     "iopub.execute_input": "2022-02-22T08:14:23.101376Z",
     "iopub.status.busy": "2022-02-22T08:14:23.101128Z",
     "iopub.status.idle": "2022-02-22T08:14:23.120497Z",
     "shell.execute_reply": "2022-02-22T08:14:23.119799Z",
     "shell.execute_reply.started": "2022-02-22T08:14:23.101347Z"
    }
   },
   "outputs": [
    {
     "data": {
      "text/html": [
       "<div>\n",
       "<style scoped>\n",
       "    .dataframe tbody tr th:only-of-type {\n",
       "        vertical-align: middle;\n",
       "    }\n",
       "\n",
       "    .dataframe tbody tr th {\n",
       "        vertical-align: top;\n",
       "    }\n",
       "\n",
       "    .dataframe thead th {\n",
       "        text-align: right;\n",
       "    }\n",
       "</style>\n",
       "<table border=\"1\" class=\"dataframe\">\n",
       "  <thead>\n",
       "    <tr style=\"text-align: right;\">\n",
       "      <th></th>\n",
       "      <th>HITId</th>\n",
       "      <th>tweet</th>\n",
       "      <th>sentiment</th>\n",
       "      <th>directness</th>\n",
       "      <th>annotator_sentiment</th>\n",
       "      <th>target</th>\n",
       "      <th>group</th>\n",
       "    </tr>\n",
       "  </thead>\n",
       "  <tbody>\n",
       "    <tr>\n",
       "      <th>0</th>\n",
       "      <td>1.0</td>\n",
       "      <td>rt @user personnage ainsi q tte la clique gauchiste deguise 1 macronistes !!ont ttes ls qualites requises qui ont etaient inculq</td>\n",
       "      <td>abusive</td>\n",
       "      <td>direct</td>\n",
       "      <td>shock</td>\n",
       "      <td>0</td>\n",
       "      <td>other</td>\n",
       "    </tr>\n",
       "    <tr>\n",
       "      <th>1</th>\n",
       "      <td>2.0</td>\n",
       "      <td>@user @user @user bah oui t'as raison l'autre c'est un mongol.</td>\n",
       "      <td>offensive</td>\n",
       "      <td>indirect</td>\n",
       "      <td>shock</td>\n",
       "      <td>0</td>\n",
       "      <td>individual</td>\n",
       "    </tr>\n",
       "    <tr>\n",
       "      <th>2</th>\n",
       "      <td>3.0</td>\n",
       "      <td>moi j'ai personne à qui m'adresser pour réclamer. le voisin c'est un attardé puant et bruyant dans les administrat… @url</td>\n",
       "      <td>hateful</td>\n",
       "      <td>direct</td>\n",
       "      <td>anger_confusion_sadness_fear_disgust</td>\n",
       "      <td>0</td>\n",
       "      <td>women</td>\n",
       "    </tr>\n",
       "    <tr>\n",
       "      <th>3</th>\n",
       "      <td>4.0</td>\n",
       "      <td>@user @user c...est vrai que les anchois sont aller sur la lune et invente de million de technologie !</td>\n",
       "      <td>normal</td>\n",
       "      <td>indirect</td>\n",
       "      <td>indifference</td>\n",
       "      <td>0</td>\n",
       "      <td>other</td>\n",
       "    </tr>\n",
       "    <tr>\n",
       "      <th>4</th>\n",
       "      <td>5.0</td>\n",
       "      <td>eh les renois faut se réveiller la @url</td>\n",
       "      <td>normal</td>\n",
       "      <td>direct</td>\n",
       "      <td>sadness</td>\n",
       "      <td>0</td>\n",
       "      <td>african_descent</td>\n",
       "    </tr>\n",
       "  </tbody>\n",
       "</table>\n",
       "</div>"
      ],
      "text/plain": [
       "   HITId  \\\n",
       "0    1.0   \n",
       "1    2.0   \n",
       "2    3.0   \n",
       "3    4.0   \n",
       "4    5.0   \n",
       "\n",
       "                                                                                                                              tweet  \\\n",
       "0  rt @user personnage ainsi q tte la clique gauchiste deguise 1 macronistes !!ont ttes ls qualites requises qui ont etaient inculq   \n",
       "1                                                                    @user @user @user bah oui t'as raison l'autre c'est un mongol.   \n",
       "2          moi j'ai personne à qui m'adresser pour réclamer. le voisin c'est un attardé puant et bruyant dans les administrat… @url   \n",
       "3                            @user @user c...est vrai que les anchois sont aller sur la lune et invente de million de technologie !   \n",
       "4                                                                                           eh les renois faut se réveiller la @url   \n",
       "\n",
       "   sentiment directness                   annotator_sentiment target  \\\n",
       "0    abusive     direct                                 shock      0   \n",
       "1  offensive   indirect                                 shock      0   \n",
       "2    hateful     direct  anger_confusion_sadness_fear_disgust      0   \n",
       "3     normal   indirect                          indifference      0   \n",
       "4     normal     direct                               sadness      0   \n",
       "\n",
       "             group  \n",
       "0            other  \n",
       "1       individual  \n",
       "2            women  \n",
       "3            other  \n",
       "4  african_descent  "
      ]
     },
     "execution_count": 23,
     "metadata": {},
     "output_type": "execute_result"
    }
   ],
   "source": [
    "# merging the two dataframes\n",
    "data_fr = pd.concat([neg,pos], ignore_index=True, sort=False)\n",
    "data_fr.head()"
   ]
  },
  {
   "cell_type": "code",
   "execution_count": 24,
   "metadata": {
    "execution": {
     "iopub.execute_input": "2022-02-22T08:14:23.122141Z",
     "iopub.status.busy": "2022-02-22T08:14:23.121936Z",
     "iopub.status.idle": "2022-02-22T08:14:23.150428Z",
     "shell.execute_reply": "2022-02-22T08:14:23.149526Z",
     "shell.execute_reply.started": "2022-02-22T08:14:23.122116Z"
    }
   },
   "outputs": [
    {
     "data": {
      "text/html": [
       "<div>\n",
       "<style scoped>\n",
       "    .dataframe tbody tr th:only-of-type {\n",
       "        vertical-align: middle;\n",
       "    }\n",
       "\n",
       "    .dataframe tbody tr th {\n",
       "        vertical-align: top;\n",
       "    }\n",
       "\n",
       "    .dataframe thead th {\n",
       "        text-align: right;\n",
       "    }\n",
       "</style>\n",
       "<table border=\"1\" class=\"dataframe\">\n",
       "  <thead>\n",
       "    <tr style=\"text-align: right;\">\n",
       "      <th></th>\n",
       "      <th>tweet</th>\n",
       "      <th>sentiment</th>\n",
       "      <th>directness</th>\n",
       "      <th>annotator_sentiment</th>\n",
       "      <th>target</th>\n",
       "      <th>group</th>\n",
       "    </tr>\n",
       "  </thead>\n",
       "  <tbody>\n",
       "    <tr>\n",
       "      <th>8521</th>\n",
       "      <td>impressionnant!! Peux pas attendre de voir ça!!</td>\n",
       "      <td>normal</td>\n",
       "      <td>direct</td>\n",
       "      <td>indifference</td>\n",
       "      <td>1</td>\n",
       "      <td>nothing</td>\n",
       "    </tr>\n",
       "    <tr>\n",
       "      <th>7439</th>\n",
       "      <td>Fait réserver des vols pour retourner à la maison</td>\n",
       "      <td>normal</td>\n",
       "      <td>direct</td>\n",
       "      <td>indifference</td>\n",
       "      <td>1</td>\n",
       "      <td>nothing</td>\n",
       "    </tr>\n",
       "    <tr>\n",
       "      <th>8237</th>\n",
       "      <td>Brrrr .... j'ai tellement froid, mais je l'aime</td>\n",
       "      <td>normal</td>\n",
       "      <td>direct</td>\n",
       "      <td>indifference</td>\n",
       "      <td>1</td>\n",
       "      <td>nothing</td>\n",
       "    </tr>\n",
       "    <tr>\n",
       "      <th>8047</th>\n",
       "      <td>Www.youtube.com/titomi15..Vérifiez les vidéos, les commentaires et les présentations! &amp; Amp; Suivez moi, encouragez x</td>\n",
       "      <td>normal</td>\n",
       "      <td>direct</td>\n",
       "      <td>indifference</td>\n",
       "      <td>1</td>\n",
       "      <td>nothing</td>\n",
       "    </tr>\n",
       "    <tr>\n",
       "      <th>3461</th>\n",
       "      <td>@user @user j’ai rien contre lui j’rigolais mongol va</td>\n",
       "      <td>offensive_disrespectful</td>\n",
       "      <td>direct</td>\n",
       "      <td>sadness</td>\n",
       "      <td>0</td>\n",
       "      <td>individual</td>\n",
       "    </tr>\n",
       "  </tbody>\n",
       "</table>\n",
       "</div>"
      ],
      "text/plain": [
       "                                                                                                                      tweet  \\\n",
       "8521                                                                        impressionnant!! Peux pas attendre de voir ça!!   \n",
       "7439                                                                      Fait réserver des vols pour retourner à la maison   \n",
       "8237                                                                        Brrrr .... j'ai tellement froid, mais je l'aime   \n",
       "8047  Www.youtube.com/titomi15..Vérifiez les vidéos, les commentaires et les présentations! & Amp; Suivez moi, encouragez x   \n",
       "3461                                                                  @user @user j’ai rien contre lui j’rigolais mongol va   \n",
       "\n",
       "                    sentiment directness annotator_sentiment target  \\\n",
       "8521                   normal     direct        indifference      1   \n",
       "7439                   normal     direct        indifference      1   \n",
       "8237                   normal     direct        indifference      1   \n",
       "8047                   normal     direct        indifference      1   \n",
       "3461  offensive_disrespectful     direct             sadness      0   \n",
       "\n",
       "           group  \n",
       "8521     nothing  \n",
       "7439     nothing  \n",
       "8237     nothing  \n",
       "8047     nothing  \n",
       "3461  individual  "
      ]
     },
     "execution_count": 24,
     "metadata": {},
     "output_type": "execute_result"
    }
   ],
   "source": [
    "# fixing nan values\n",
    "data_fr.loc[data_fr['sentiment'].isnull().values==True,'sentiment'] = 'normal'\n",
    "data_fr.loc[data_fr['directness'].isnull().values==True,'directness'] = 'direct'\n",
    "data_fr.loc[data_fr['group'].isnull().values==True,'group'] = 'nothing'\n",
    "data_fr.loc[data_fr['annotator_sentiment'].isnull().values==True,'annotator_sentiment'] = 'indifference'\n",
    "data_fr = data_fr.sample(frac = 1)\n",
    "data_fr.reindex().head()\n",
    "data_fr = data_fr.drop(columns={'HITId'})\n",
    "data_fr.head()"
   ]
  },
  {
   "cell_type": "markdown",
   "metadata": {},
   "source": [
    "#### 5.1.4 Distribution of data "
   ]
  },
  {
   "cell_type": "code",
   "execution_count": 25,
   "metadata": {
    "execution": {
     "iopub.execute_input": "2022-02-22T08:14:23.151954Z",
     "iopub.status.busy": "2022-02-22T08:14:23.151749Z",
     "iopub.status.idle": "2022-02-22T08:14:23.334991Z",
     "shell.execute_reply": "2022-02-22T08:14:23.334238Z",
     "shell.execute_reply.started": "2022-02-22T08:14:23.151929Z"
    }
   },
   "outputs": [
    {
     "data": {
      "text/plain": [
       "<AxesSubplot:xlabel='tweet', ylabel='target'>"
      ]
     },
     "execution_count": 25,
     "metadata": {},
     "output_type": "execute_result"
    },
    {
     "data": {
      "image/png": "[encoded data removed]",
      "text/plain": [
       "<Figure size 360x360 with 1 Axes>"
      ]
     },
     "metadata": {
      "needs_background": "light"
     },
     "output_type": "display_data"
    }
   ],
   "source": [
    "# distribution of classes: 0,1\n",
    "cum = data_fr['target'].value_counts().to_frame()\n",
    "cum['tweet'] = cum.index\n",
    "cumfig, ax = plt.subplots(figsize=(5,5))\n",
    "sn.barplot(data=cum,x='tweet',y='target',ax=ax)"
   ]
  },
  {
   "cell_type": "code",
   "execution_count": 26,
   "metadata": {
    "execution": {
     "iopub.execute_input": "2022-02-22T08:14:23.336722Z",
     "iopub.status.busy": "2022-02-22T08:14:23.336491Z",
     "iopub.status.idle": "2022-02-22T08:14:23.483807Z",
     "shell.execute_reply": "2022-02-22T08:14:23.482890Z",
     "shell.execute_reply.started": "2022-02-22T08:14:23.336693Z"
    }
   },
   "outputs": [
    {
     "data": {
      "image/png": "[encoded data removed]",
      "text/plain": [
       "<Figure size 360x360 with 1 Axes>"
      ]
     },
     "metadata": {},
     "output_type": "display_data"
    }
   ],
   "source": [
    "plt.figure(figsize=(5,5))\n",
    "plt.pie(data_fr[\"target\"].value_counts(),labels=data_fr[\"target\"].value_counts().index,autopct=lambda p:f'{p:.2f}%',\n",
    "        shadow=True,colors=['mediumvioletred','darkturquoise'],labeldistance = 1.1,textprops={'fontsize': 14})\n",
    "\n",
    "plt.savefig(\"distribution des données dans les différentes classes.png\")\n",
    "plt.show()"
   ]
  },
  {
   "cell_type": "markdown",
   "metadata": {},
   "source": [
    "#### 5.1.5 Encoding columns"
   ]
  },
  {
   "cell_type": "code",
   "execution_count": 27,
   "metadata": {
    "execution": {
     "iopub.execute_input": "2022-02-22T08:14:23.486068Z",
     "iopub.status.busy": "2022-02-22T08:14:23.485552Z",
     "iopub.status.idle": "2022-02-22T08:14:23.549437Z",
     "shell.execute_reply": "2022-02-22T08:14:23.548473Z",
     "shell.execute_reply.started": "2022-02-22T08:14:23.486023Z"
    }
   },
   "outputs": [
    {
     "data": {
      "text/html": [
       "<div>\n",
       "<style scoped>\n",
       "    .dataframe tbody tr th:only-of-type {\n",
       "        vertical-align: middle;\n",
       "    }\n",
       "\n",
       "    .dataframe tbody tr th {\n",
       "        vertical-align: top;\n",
       "    }\n",
       "\n",
       "    .dataframe thead th {\n",
       "        text-align: right;\n",
       "    }\n",
       "</style>\n",
       "<table border=\"1\" class=\"dataframe\">\n",
       "  <thead>\n",
       "    <tr style=\"text-align: right;\">\n",
       "      <th></th>\n",
       "      <th>tweet</th>\n",
       "      <th>sentiment</th>\n",
       "      <th>directness</th>\n",
       "      <th>annotator_sentiment</th>\n",
       "      <th>target</th>\n",
       "      <th>group</th>\n",
       "    </tr>\n",
       "  </thead>\n",
       "  <tbody>\n",
       "    <tr>\n",
       "      <th>5740</th>\n",
       "      <td>bonne nuit!</td>\n",
       "      <td>60</td>\n",
       "      <td>0</td>\n",
       "      <td>88</td>\n",
       "      <td>1</td>\n",
       "      <td>12</td>\n",
       "    </tr>\n",
       "    <tr>\n",
       "      <th>9265</th>\n",
       "      <td>Je déteste également travailler, mais nous devons le faire pour avoir l'air bien! Il suffit de garder à l'esprit qu'il en vaut la peine !!!</td>\n",
       "      <td>60</td>\n",
       "      <td>0</td>\n",
       "      <td>88</td>\n",
       "      <td>1</td>\n",
       "      <td>12</td>\n",
       "    </tr>\n",
       "    <tr>\n",
       "      <th>11200</th>\n",
       "      <td>Super ici, j'espère que vous êtes le même et que les chansons sont incroyables, ce que je pense que ça va arriver</td>\n",
       "      <td>60</td>\n",
       "      <td>0</td>\n",
       "      <td>88</td>\n",
       "      <td>1</td>\n",
       "      <td>12</td>\n",
       "    </tr>\n",
       "    <tr>\n",
       "      <th>9556</th>\n",
       "      <td>Oui, j'adore les Caramellow! Seulement deux jours de plus jusqu'à la pause de Pâques ... je suis tellement excité, le stress de l'école laissé derrière!</td>\n",
       "      <td>60</td>\n",
       "      <td>0</td>\n",
       "      <td>88</td>\n",
       "      <td>1</td>\n",
       "      <td>12</td>\n",
       "    </tr>\n",
       "    <tr>\n",
       "      <th>10161</th>\n",
       "      <td>Cor my new custom rig juste rire face à gauche 4 morts et jeux similaires</td>\n",
       "      <td>60</td>\n",
       "      <td>0</td>\n",
       "      <td>88</td>\n",
       "      <td>1</td>\n",
       "      <td>12</td>\n",
       "    </tr>\n",
       "    <tr>\n",
       "      <th>...</th>\n",
       "      <td>...</td>\n",
       "      <td>...</td>\n",
       "      <td>...</td>\n",
       "      <td>...</td>\n",
       "      <td>...</td>\n",
       "      <td>...</td>\n",
       "    </tr>\n",
       "    <tr>\n",
       "      <th>7704</th>\n",
       "      <td>Oui, et ça ne tardera pas à jouer de lapin de Pâques aussi! C'est tellement amusant. As-tu été bien?</td>\n",
       "      <td>60</td>\n",
       "      <td>0</td>\n",
       "      <td>88</td>\n",
       "      <td>1</td>\n",
       "      <td>12</td>\n",
       "    </tr>\n",
       "    <tr>\n",
       "      <th>2810</th>\n",
       "      <td>manœuvre gauchiste habituelle : @user essaye de détourner l'attention portée sur #nickconrad en utilisant… @url</td>\n",
       "      <td>56</td>\n",
       "      <td>0</td>\n",
       "      <td>100</td>\n",
       "      <td>0</td>\n",
       "      <td>10</td>\n",
       "    </tr>\n",
       "    <tr>\n",
       "      <th>11422</th>\n",
       "      <td>J'aime penser à cela plus comme une décharge de masse. Mais oui, je pense ne plus suivre, c'est le terme technique</td>\n",
       "      <td>60</td>\n",
       "      <td>0</td>\n",
       "      <td>88</td>\n",
       "      <td>1</td>\n",
       "      <td>12</td>\n",
       "    </tr>\n",
       "    <tr>\n",
       "      <th>1278</th>\n",
       "      <td>des meufs : « mon style de gars c’est les renois » un mois après elle sorte avec des jérémy #cesoirtribunal</td>\n",
       "      <td>57</td>\n",
       "      <td>0</td>\n",
       "      <td>89</td>\n",
       "      <td>0</td>\n",
       "      <td>0</td>\n",
       "    </tr>\n",
       "    <tr>\n",
       "      <th>11313</th>\n",
       "      <td>J'espère que vous irez mieux bientôt. Ne laissez pas ceux qui commencent tôt à vous connaître</td>\n",
       "      <td>60</td>\n",
       "      <td>0</td>\n",
       "      <td>88</td>\n",
       "      <td>1</td>\n",
       "      <td>12</td>\n",
       "    </tr>\n",
       "  </tbody>\n",
       "</table>\n",
       "<p>11565 rows × 6 columns</p>\n",
       "</div>"
      ],
      "text/plain": [
       "                                                                                                                                                          tweet  \\\n",
       "5740                                                                                                                                                bonne nuit!   \n",
       "9265                Je déteste également travailler, mais nous devons le faire pour avoir l'air bien! Il suffit de garder à l'esprit qu'il en vaut la peine !!!   \n",
       "11200                                         Super ici, j'espère que vous êtes le même et que les chansons sont incroyables, ce que je pense que ça va arriver   \n",
       "9556   Oui, j'adore les Caramellow! Seulement deux jours de plus jusqu'à la pause de Pâques ... je suis tellement excité, le stress de l'école laissé derrière!   \n",
       "10161                                                                                 Cor my new custom rig juste rire face à gauche 4 morts et jeux similaires   \n",
       "...                                                                                                                                                         ...   \n",
       "7704                                                       Oui, et ça ne tardera pas à jouer de lapin de Pâques aussi! C'est tellement amusant. As-tu été bien?   \n",
       "2810                                            manœuvre gauchiste habituelle : @user essaye de détourner l'attention portée sur #nickconrad en utilisant… @url   \n",
       "11422                                        J'aime penser à cela plus comme une décharge de masse. Mais oui, je pense ne plus suivre, c'est le terme technique   \n",
       "1278                                                des meufs : « mon style de gars c’est les renois » un mois après elle sorte avec des jérémy #cesoirtribunal   \n",
       "11313                                                             J'espère que vous irez mieux bientôt. Ne laissez pas ceux qui commencent tôt à vous connaître   \n",
       "\n",
       "       sentiment  directness  annotator_sentiment target  group  \n",
       "5740          60           0                   88      1     12  \n",
       "9265          60           0                   88      1     12  \n",
       "11200         60           0                   88      1     12  \n",
       "9556          60           0                   88      1     12  \n",
       "10161         60           0                   88      1     12  \n",
       "...          ...         ...                  ...    ...    ...  \n",
       "7704          60           0                   88      1     12  \n",
       "2810          56           0                  100      0     10  \n",
       "11422         60           0                   88      1     12  \n",
       "1278          57           0                   89      0      0  \n",
       "11313         60           0                   88      1     12  \n",
       "\n",
       "[11565 rows x 6 columns]"
      ]
     },
     "execution_count": 27,
     "metadata": {},
     "output_type": "execute_result"
    }
   ],
   "source": [
    "#encoding labels\n",
    "le = preprocessing.LabelEncoder()\n",
    "data_fr.sentiment = le.fit_transform(data_fr.sentiment)\n",
    "data_fr.directness = le.fit_transform(data_fr.directness)\n",
    "data_fr.annotator_sentiment = le.fit_transform(data_fr.annotator_sentiment)\n",
    "data_fr.group = le.fit_transform(data_fr.group)\n",
    "data_fr = data_fr.sample(frac = 1)\n",
    "data_fr"
   ]
  },
  {
   "cell_type": "markdown",
   "metadata": {},
   "source": [
    "### 5.2 Arabic dataset"
   ]
  },
  {
   "cell_type": "markdown",
   "metadata": {},
   "source": [
    "#### 5.2.1 Hateful tweets"
   ]
  },
  {
   "cell_type": "code",
   "execution_count": 28,
   "metadata": {
    "execution": {
     "iopub.execute_input": "2022-02-22T08:14:23.559399Z",
     "iopub.status.busy": "2022-02-22T08:14:23.558628Z",
     "iopub.status.idle": "2022-02-22T08:14:23.577700Z",
     "shell.execute_reply": "2022-02-22T08:14:23.577105Z",
     "shell.execute_reply.started": "2022-02-22T08:14:23.559341Z"
    }
   },
   "outputs": [
    {
     "data": {
      "text/html": [
       "<div>\n",
       "<style scoped>\n",
       "    .dataframe tbody tr th:only-of-type {\n",
       "        vertical-align: middle;\n",
       "    }\n",
       "\n",
       "    .dataframe tbody tr th {\n",
       "        vertical-align: top;\n",
       "    }\n",
       "\n",
       "    .dataframe thead th {\n",
       "        text-align: right;\n",
       "    }\n",
       "</style>\n",
       "<table border=\"1\" class=\"dataframe\">\n",
       "  <thead>\n",
       "    <tr style=\"text-align: right;\">\n",
       "      <th></th>\n",
       "      <th>HITId</th>\n",
       "      <th>tweet</th>\n",
       "      <th>sentiment</th>\n",
       "      <th>directness</th>\n",
       "      <th>annotator_sentiment</th>\n",
       "      <th>target</th>\n",
       "      <th>group</th>\n",
       "    </tr>\n",
       "  </thead>\n",
       "  <tbody>\n",
       "    <tr>\n",
       "      <th>0</th>\n",
       "      <td>1</td>\n",
       "      <td>صلاة الفجر خير لك من ترديد بول البعير وسبي النساء واغتصاب طفلة نظافة ونشاط وحيوية #عقلانيون</td>\n",
       "      <td>hateful_normal</td>\n",
       "      <td>indirect</td>\n",
       "      <td>shock</td>\n",
       "      <td>0</td>\n",
       "      <td>individual</td>\n",
       "    </tr>\n",
       "    <tr>\n",
       "      <th>1</th>\n",
       "      <td>2</td>\n",
       "      <td>صراحة نفسي اشوف ولاد الوسخة اللي قالوا مدرب اجنبي منك لله ربنا ياخدك ي… @url</td>\n",
       "      <td>offensive</td>\n",
       "      <td>indirect</td>\n",
       "      <td>anger_confusion_sadness_indifference_disgust</td>\n",
       "      <td>0</td>\n",
       "      <td>other</td>\n",
       "    </tr>\n",
       "    <tr>\n",
       "      <th>2</th>\n",
       "      <td>3</td>\n",
       "      <td>طيب! هي متبرجة وعبايتها ملونه وطالعة من بيتهم بدون ....... @url</td>\n",
       "      <td>offensive</td>\n",
       "      <td>indirect</td>\n",
       "      <td>indifference</td>\n",
       "      <td>0</td>\n",
       "      <td>individual</td>\n",
       "    </tr>\n",
       "    <tr>\n",
       "      <th>3</th>\n",
       "      <td>4</td>\n",
       "      <td>@user @user انا اوافقك بخصوص السوريين و العراقيين اما بخصوص السعودي مو بحاجه انه يقعد بالكويت بدو… @url</td>\n",
       "      <td>normal</td>\n",
       "      <td>direct</td>\n",
       "      <td>indifference</td>\n",
       "      <td>0</td>\n",
       "      <td>other</td>\n",
       "    </tr>\n",
       "    <tr>\n",
       "      <th>4</th>\n",
       "      <td>5</td>\n",
       "      <td>هذه السعودية التي شعبها شعب الخيم و بول البعير  الذي يستهزأ بها الناس</td>\n",
       "      <td>normal</td>\n",
       "      <td>indirect</td>\n",
       "      <td>indifference</td>\n",
       "      <td>0</td>\n",
       "      <td>other</td>\n",
       "    </tr>\n",
       "  </tbody>\n",
       "</table>\n",
       "</div>"
      ],
      "text/plain": [
       "   HITId  \\\n",
       "0      1   \n",
       "1      2   \n",
       "2      3   \n",
       "3      4   \n",
       "4      5   \n",
       "\n",
       "                                                                                                     tweet  \\\n",
       "0              صلاة الفجر خير لك من ترديد بول البعير وسبي النساء واغتصاب طفلة نظافة ونشاط وحيوية #عقلانيون   \n",
       "1                             صراحة نفسي اشوف ولاد الوسخة اللي قالوا مدرب اجنبي منك لله ربنا ياخدك ي… @url   \n",
       "2                                          طيب! هي متبرجة وعبايتها ملونه وطالعة من بيتهم بدون ....... @url   \n",
       "3  @user @user انا اوافقك بخصوص السوريين و العراقيين اما بخصوص السعودي مو بحاجه انه يقعد بالكويت بدو… @url   \n",
       "4                                    هذه السعودية التي شعبها شعب الخيم و بول البعير  الذي يستهزأ بها الناس   \n",
       "\n",
       "        sentiment directness                           annotator_sentiment  \\\n",
       "0  hateful_normal   indirect                                         shock   \n",
       "1       offensive   indirect  anger_confusion_sadness_indifference_disgust   \n",
       "2       offensive   indirect                                  indifference   \n",
       "3          normal     direct                                  indifference   \n",
       "4          normal   indirect                                  indifference   \n",
       "\n",
       "  target       group  \n",
       "0      0  individual  \n",
       "1      0       other  \n",
       "2      0  individual  \n",
       "3      0       other  \n",
       "4      0       other  "
      ]
     },
     "execution_count": 28,
     "metadata": {},
     "output_type": "execute_result"
    }
   ],
   "source": [
    "neg = df_ar.loc[df_ar['target']!='normal','target'] = 0\n",
    "neg = df_ar\n",
    "neg.head()"
   ]
  },
  {
   "cell_type": "markdown",
   "metadata": {},
   "source": [
    "#### 5.2.2 No Hateful tweets"
   ]
  },
  {
   "cell_type": "code",
   "execution_count": 29,
   "metadata": {
    "execution": {
     "iopub.execute_input": "2022-02-22T08:14:23.579404Z",
     "iopub.status.busy": "2022-02-22T08:14:23.578976Z",
     "iopub.status.idle": "2022-02-22T08:14:23.602836Z",
     "shell.execute_reply": "2022-02-22T08:14:23.601871Z",
     "shell.execute_reply.started": "2022-02-22T08:14:23.579369Z"
    }
   },
   "outputs": [],
   "source": [
    "#positive tweets contained in the assest dataset\n",
    "df_ar2.loc[df_ar2['Sentiment']=='Positive']\n",
    "df_ar2.loc[df_ar2['Sentiment']=='Positive','Sentiment'] = 1\n",
    "pos = df_ar2.loc[df_ar2[\"Sentiment\"]==1]\n",
    "pos= pos.rename(columns={'Sentiment':'target','Feed':'tweet'})\n",
    "pos = pos.drop(columns={'ID'})"
   ]
  },
  {
   "cell_type": "markdown",
   "metadata": {},
   "source": [
    "#### 5.2.3 Merging"
   ]
  },
  {
   "cell_type": "code",
   "execution_count": 30,
   "metadata": {
    "execution": {
     "iopub.execute_input": "2022-02-22T08:14:23.605014Z",
     "iopub.status.busy": "2022-02-22T08:14:23.604695Z",
     "iopub.status.idle": "2022-02-22T08:14:23.623338Z",
     "shell.execute_reply": "2022-02-22T08:14:23.622489Z",
     "shell.execute_reply.started": "2022-02-22T08:14:23.604973Z"
    }
   },
   "outputs": [
    {
     "data": {
      "text/html": [
       "<div>\n",
       "<style scoped>\n",
       "    .dataframe tbody tr th:only-of-type {\n",
       "        vertical-align: middle;\n",
       "    }\n",
       "\n",
       "    .dataframe tbody tr th {\n",
       "        vertical-align: top;\n",
       "    }\n",
       "\n",
       "    .dataframe thead th {\n",
       "        text-align: right;\n",
       "    }\n",
       "</style>\n",
       "<table border=\"1\" class=\"dataframe\">\n",
       "  <thead>\n",
       "    <tr style=\"text-align: right;\">\n",
       "      <th></th>\n",
       "      <th>HITId</th>\n",
       "      <th>tweet</th>\n",
       "      <th>sentiment</th>\n",
       "      <th>directness</th>\n",
       "      <th>annotator_sentiment</th>\n",
       "      <th>target</th>\n",
       "      <th>group</th>\n",
       "    </tr>\n",
       "  </thead>\n",
       "  <tbody>\n",
       "    <tr>\n",
       "      <th>0</th>\n",
       "      <td>1.0</td>\n",
       "      <td>صلاة الفجر خير لك من ترديد بول البعير وسبي النساء واغتصاب طفلة نظافة ونشاط وحيوية #عقلانيون</td>\n",
       "      <td>hateful_normal</td>\n",
       "      <td>indirect</td>\n",
       "      <td>shock</td>\n",
       "      <td>0</td>\n",
       "      <td>individual</td>\n",
       "    </tr>\n",
       "    <tr>\n",
       "      <th>1</th>\n",
       "      <td>2.0</td>\n",
       "      <td>صراحة نفسي اشوف ولاد الوسخة اللي قالوا مدرب اجنبي منك لله ربنا ياخدك ي… @url</td>\n",
       "      <td>offensive</td>\n",
       "      <td>indirect</td>\n",
       "      <td>anger_confusion_sadness_indifference_disgust</td>\n",
       "      <td>0</td>\n",
       "      <td>other</td>\n",
       "    </tr>\n",
       "    <tr>\n",
       "      <th>2</th>\n",
       "      <td>3.0</td>\n",
       "      <td>طيب! هي متبرجة وعبايتها ملونه وطالعة من بيتهم بدون ....... @url</td>\n",
       "      <td>offensive</td>\n",
       "      <td>indirect</td>\n",
       "      <td>indifference</td>\n",
       "      <td>0</td>\n",
       "      <td>individual</td>\n",
       "    </tr>\n",
       "    <tr>\n",
       "      <th>3</th>\n",
       "      <td>4.0</td>\n",
       "      <td>@user @user انا اوافقك بخصوص السوريين و العراقيين اما بخصوص السعودي مو بحاجه انه يقعد بالكويت بدو… @url</td>\n",
       "      <td>normal</td>\n",
       "      <td>direct</td>\n",
       "      <td>indifference</td>\n",
       "      <td>0</td>\n",
       "      <td>other</td>\n",
       "    </tr>\n",
       "    <tr>\n",
       "      <th>4</th>\n",
       "      <td>5.0</td>\n",
       "      <td>هذه السعودية التي شعبها شعب الخيم و بول البعير  الذي يستهزأ بها الناس</td>\n",
       "      <td>normal</td>\n",
       "      <td>indirect</td>\n",
       "      <td>indifference</td>\n",
       "      <td>0</td>\n",
       "      <td>other</td>\n",
       "    </tr>\n",
       "  </tbody>\n",
       "</table>\n",
       "</div>"
      ],
      "text/plain": [
       "   HITId  \\\n",
       "0    1.0   \n",
       "1    2.0   \n",
       "2    3.0   \n",
       "3    4.0   \n",
       "4    5.0   \n",
       "\n",
       "                                                                                                     tweet  \\\n",
       "0              صلاة الفجر خير لك من ترديد بول البعير وسبي النساء واغتصاب طفلة نظافة ونشاط وحيوية #عقلانيون   \n",
       "1                             صراحة نفسي اشوف ولاد الوسخة اللي قالوا مدرب اجنبي منك لله ربنا ياخدك ي… @url   \n",
       "2                                          طيب! هي متبرجة وعبايتها ملونه وطالعة من بيتهم بدون ....... @url   \n",
       "3  @user @user انا اوافقك بخصوص السوريين و العراقيين اما بخصوص السعودي مو بحاجه انه يقعد بالكويت بدو… @url   \n",
       "4                                    هذه السعودية التي شعبها شعب الخيم و بول البعير  الذي يستهزأ بها الناس   \n",
       "\n",
       "        sentiment directness                           annotator_sentiment  \\\n",
       "0  hateful_normal   indirect                                         shock   \n",
       "1       offensive   indirect  anger_confusion_sadness_indifference_disgust   \n",
       "2       offensive   indirect                                  indifference   \n",
       "3          normal     direct                                  indifference   \n",
       "4          normal   indirect                                  indifference   \n",
       "\n",
       "  target       group  \n",
       "0      0  individual  \n",
       "1      0       other  \n",
       "2      0  individual  \n",
       "3      0       other  \n",
       "4      0       other  "
      ]
     },
     "execution_count": 30,
     "metadata": {},
     "output_type": "execute_result"
    }
   ],
   "source": [
    "# merging the two dataframes\n",
    "data_ar = pd.concat([neg[0:int(len(pos)/1.5)],pos], ignore_index=True, sort=False)\n",
    "data_ar.head()"
   ]
  },
  {
   "cell_type": "code",
   "execution_count": 31,
   "metadata": {
    "execution": {
     "iopub.execute_input": "2022-02-22T08:14:23.624756Z",
     "iopub.status.busy": "2022-02-22T08:14:23.624520Z",
     "iopub.status.idle": "2022-02-22T08:14:23.650932Z",
     "shell.execute_reply": "2022-02-22T08:14:23.650133Z",
     "shell.execute_reply.started": "2022-02-22T08:14:23.624727Z"
    }
   },
   "outputs": [
    {
     "data": {
      "text/html": [
       "<div>\n",
       "<style scoped>\n",
       "    .dataframe tbody tr th:only-of-type {\n",
       "        vertical-align: middle;\n",
       "    }\n",
       "\n",
       "    .dataframe tbody tr th {\n",
       "        vertical-align: top;\n",
       "    }\n",
       "\n",
       "    .dataframe thead th {\n",
       "        text-align: right;\n",
       "    }\n",
       "</style>\n",
       "<table border=\"1\" class=\"dataframe\">\n",
       "  <thead>\n",
       "    <tr style=\"text-align: right;\">\n",
       "      <th></th>\n",
       "      <th>tweet</th>\n",
       "      <th>sentiment</th>\n",
       "      <th>directness</th>\n",
       "      <th>annotator_sentiment</th>\n",
       "      <th>target</th>\n",
       "      <th>group</th>\n",
       "    </tr>\n",
       "  </thead>\n",
       "  <tbody>\n",
       "    <tr>\n",
       "      <th>1029</th>\n",
       "      <td>ربك دايما جنبك لو نديته هتلاقيه</td>\n",
       "      <td>normal</td>\n",
       "      <td>direct</td>\n",
       "      <td>indifference</td>\n",
       "      <td>1</td>\n",
       "      <td>nothing</td>\n",
       "    </tr>\n",
       "    <tr>\n",
       "      <th>33</th>\n",
       "      <td>@user @user كلهم خنازير المجوس</td>\n",
       "      <td>abusive_hateful</td>\n",
       "      <td>indirect</td>\n",
       "      <td>anger_disgust</td>\n",
       "      <td>0</td>\n",
       "      <td>other</td>\n",
       "    </tr>\n",
       "    <tr>\n",
       "      <th>258</th>\n",
       "      <td>@user @user @user @user عايزه تخصى العالم كله عشان متجوزتيش يا بايره</td>\n",
       "      <td>hateful</td>\n",
       "      <td>direct</td>\n",
       "      <td>disgust</td>\n",
       "      <td>0</td>\n",
       "      <td>individual</td>\n",
       "    </tr>\n",
       "    <tr>\n",
       "      <th>1475</th>\n",
       "      <td>يارب دعوناك فستجب لنا وحقق لنا ماهو اصلح وافضل لنا</td>\n",
       "      <td>normal</td>\n",
       "      <td>direct</td>\n",
       "      <td>indifference</td>\n",
       "      <td>1</td>\n",
       "      <td>nothing</td>\n",
       "    </tr>\n",
       "    <tr>\n",
       "      <th>856</th>\n",
       "      <td>اللهم ثبتنا بالقول الثابت في الحياه الدنيا وفي الاخره</td>\n",
       "      <td>normal</td>\n",
       "      <td>direct</td>\n",
       "      <td>indifference</td>\n",
       "      <td>1</td>\n",
       "      <td>nothing</td>\n",
       "    </tr>\n",
       "    <tr>\n",
       "      <th>...</th>\n",
       "      <td>...</td>\n",
       "      <td>...</td>\n",
       "      <td>...</td>\n",
       "      <td>...</td>\n",
       "      <td>...</td>\n",
       "      <td>...</td>\n",
       "    </tr>\n",
       "    <tr>\n",
       "      <th>336</th>\n",
       "      <td>@user @user @user فعلاً من ديت لي ديت والله بايره انا دي ي مونياه</td>\n",
       "      <td>abusive_offensive</td>\n",
       "      <td>indirect</td>\n",
       "      <td>indifference_disgust</td>\n",
       "      <td>0</td>\n",
       "      <td>women</td>\n",
       "    </tr>\n",
       "    <tr>\n",
       "      <th>250</th>\n",
       "      <td>حوادث التحرش تحدث كثيراً في السودان وغيره، مسارها الطبيعي أن يتجه الطرفان إلى القانون وأحياناً تأخذ الفتاة حقها في… @url</td>\n",
       "      <td>normal</td>\n",
       "      <td>indirect</td>\n",
       "      <td>indifference</td>\n",
       "      <td>0</td>\n",
       "      <td>women</td>\n",
       "    </tr>\n",
       "    <tr>\n",
       "      <th>570</th>\n",
       "      <td>ما انصح بزيارة اوربا بشكل عام بشهر فبراير بسبب الاجواء الشتوية القارصة..لاسيما وانت تتلكم عن شهر عسل</td>\n",
       "      <td>normal</td>\n",
       "      <td>indirect</td>\n",
       "      <td>indifference</td>\n",
       "      <td>0</td>\n",
       "      <td>other</td>\n",
       "    </tr>\n",
       "    <tr>\n",
       "      <th>705</th>\n",
       "      <td>الدعوه مش بالكلام بس ممكن نكون دعاه باخلاقنا اسلوبنا تعاملنا</td>\n",
       "      <td>normal</td>\n",
       "      <td>direct</td>\n",
       "      <td>indifference</td>\n",
       "      <td>1</td>\n",
       "      <td>nothing</td>\n",
       "    </tr>\n",
       "    <tr>\n",
       "      <th>1353</th>\n",
       "      <td>من دون التفاؤل ما في حياه</td>\n",
       "      <td>normal</td>\n",
       "      <td>direct</td>\n",
       "      <td>indifference</td>\n",
       "      <td>1</td>\n",
       "      <td>nothing</td>\n",
       "    </tr>\n",
       "  </tbody>\n",
       "</table>\n",
       "<p>1500 rows × 6 columns</p>\n",
       "</div>"
      ],
      "text/plain": [
       "                                                                                                                         tweet  \\\n",
       "1029                                                                                           ربك دايما جنبك لو نديته هتلاقيه   \n",
       "33                                                                                              @user @user كلهم خنازير المجوس   \n",
       "258                                                       @user @user @user @user عايزه تخصى العالم كله عشان متجوزتيش يا بايره   \n",
       "1475                                                                        يارب دعوناك فستجب لنا وحقق لنا ماهو اصلح وافضل لنا   \n",
       "856                                                                      اللهم ثبتنا بالقول الثابت في الحياه الدنيا وفي الاخره   \n",
       "...                                                                                                                        ...   \n",
       "336                                                          @user @user @user فعلاً من ديت لي ديت والله بايره انا دي ي مونياه   \n",
       "250   حوادث التحرش تحدث كثيراً في السودان وغيره، مسارها الطبيعي أن يتجه الطرفان إلى القانون وأحياناً تأخذ الفتاة حقها في… @url   \n",
       "570                       ما انصح بزيارة اوربا بشكل عام بشهر فبراير بسبب الاجواء الشتوية القارصة..لاسيما وانت تتلكم عن شهر عسل   \n",
       "705                                                               الدعوه مش بالكلام بس ممكن نكون دعاه باخلاقنا اسلوبنا تعاملنا   \n",
       "1353                                                                                                 من دون التفاؤل ما في حياه   \n",
       "\n",
       "              sentiment directness   annotator_sentiment target       group  \n",
       "1029             normal     direct          indifference      1     nothing  \n",
       "33      abusive_hateful   indirect         anger_disgust      0       other  \n",
       "258             hateful     direct               disgust      0  individual  \n",
       "1475             normal     direct          indifference      1     nothing  \n",
       "856              normal     direct          indifference      1     nothing  \n",
       "...                 ...        ...                   ...    ...         ...  \n",
       "336   abusive_offensive   indirect  indifference_disgust      0       women  \n",
       "250              normal   indirect          indifference      0       women  \n",
       "570              normal   indirect          indifference      0       other  \n",
       "705              normal     direct          indifference      1     nothing  \n",
       "1353             normal     direct          indifference      1     nothing  \n",
       "\n",
       "[1500 rows x 6 columns]"
      ]
     },
     "execution_count": 31,
     "metadata": {},
     "output_type": "execute_result"
    }
   ],
   "source": [
    "data_ar.loc[data_ar['sentiment'].isnull().values==True,'sentiment'] = 'normal'\n",
    "data_ar.loc[data_ar['directness'].isnull().values==True,'directness'] = 'direct'\n",
    "data_ar.loc[data_ar['group'].isnull().values==True,'group'] = 'nothing'\n",
    "data_ar.loc[data_ar['annotator_sentiment'].isnull().values==True,'annotator_sentiment'] = 'indifference'\n",
    "data_ar = data_ar.sample(frac = 1)\n",
    "data_ar = data_ar.sample(frac = 1)\n",
    "data_ar.drop(columns='HITId')"
   ]
  },
  {
   "cell_type": "markdown",
   "metadata": {},
   "source": [
    "#### 5.2.4 Data distribution before resampling"
   ]
  },
  {
   "cell_type": "code",
   "execution_count": 32,
   "metadata": {
    "execution": {
     "iopub.execute_input": "2022-02-22T08:14:23.652330Z",
     "iopub.status.busy": "2022-02-22T08:14:23.652073Z",
     "iopub.status.idle": "2022-02-22T08:14:23.830268Z",
     "shell.execute_reply": "2022-02-22T08:14:23.829468Z",
     "shell.execute_reply.started": "2022-02-22T08:14:23.652273Z"
    }
   },
   "outputs": [
    {
     "data": {
      "text/plain": [
       "<AxesSubplot:xlabel='tweet', ylabel='target'>"
      ]
     },
     "execution_count": 32,
     "metadata": {},
     "output_type": "execute_result"
    },
    {
     "data": {
      "image/png": "[encoded data removed]",
      "text/plain": [
       "<Figure size 360x360 with 1 Axes>"
      ]
     },
     "metadata": {
      "needs_background": "light"
     },
     "output_type": "display_data"
    }
   ],
   "source": [
    "# distribution of classes: 0,1\n",
    "cum = data_ar['target'].value_counts().to_frame()\n",
    "cum['tweet'] = cum.index\n",
    "cumfig, ax = plt.subplots(figsize=(5,5))\n",
    "sn.barplot(data=cum,x='tweet',y='target',ax=ax)"
   ]
  },
  {
   "cell_type": "markdown",
   "metadata": {},
   "source": [
    "#### 5.2.5 Resampling"
   ]
  },
  {
   "cell_type": "code",
   "execution_count": 33,
   "metadata": {
    "execution": {
     "iopub.execute_input": "2022-02-22T08:14:23.832249Z",
     "iopub.status.busy": "2022-02-22T08:14:23.831946Z",
     "iopub.status.idle": "2022-02-22T08:14:23.839323Z",
     "shell.execute_reply": "2022-02-22T08:14:23.838358Z",
     "shell.execute_reply.started": "2022-02-22T08:14:23.832207Z"
    }
   },
   "outputs": [],
   "source": [
    "def resample(df):\n",
    "    setnew = df\n",
    "    lab0,lab1 = setnew[setnew['target'] == 0], setnew[setnew['target'] == 1]\n",
    "    c0, c1 = setnew['target'].value_counts()\n",
    "  \n",
    "    lab0_sampled = lab0.sample(c0, replace=True) \n",
    "    lab1_sampled = lab1.sample(3*c1, replace=True)\n",
    "\n",
    "    setnew_resampled = pd.concat([lab0_sampled,lab1_sampled], axis=0)\n",
    "    setnew_resampled = setnew_resampled.sample(frac = 1)\n",
    "    return setnew_resampled"
   ]
  },
  {
   "cell_type": "code",
   "execution_count": 34,
   "metadata": {
    "execution": {
     "iopub.execute_input": "2022-02-22T08:14:23.840824Z",
     "iopub.status.busy": "2022-02-22T08:14:23.840515Z",
     "iopub.status.idle": "2022-02-22T08:14:23.866581Z",
     "shell.execute_reply": "2022-02-22T08:14:23.865766Z",
     "shell.execute_reply.started": "2022-02-22T08:14:23.840790Z"
    }
   },
   "outputs": [
    {
     "data": {
      "text/html": [
       "<div>\n",
       "<style scoped>\n",
       "    .dataframe tbody tr th:only-of-type {\n",
       "        vertical-align: middle;\n",
       "    }\n",
       "\n",
       "    .dataframe tbody tr th {\n",
       "        vertical-align: top;\n",
       "    }\n",
       "\n",
       "    .dataframe thead th {\n",
       "        text-align: right;\n",
       "    }\n",
       "</style>\n",
       "<table border=\"1\" class=\"dataframe\">\n",
       "  <thead>\n",
       "    <tr style=\"text-align: right;\">\n",
       "      <th></th>\n",
       "      <th>tweet</th>\n",
       "      <th>sentiment</th>\n",
       "      <th>directness</th>\n",
       "      <th>annotator_sentiment</th>\n",
       "      <th>target</th>\n",
       "      <th>group</th>\n",
       "    </tr>\n",
       "  </thead>\n",
       "  <tbody>\n",
       "    <tr>\n",
       "      <th>335</th>\n",
       "      <td>كل دول العالم فيها ظاهرة التحرش بالذات مع البنات سواء بنص اليوم او بنص الليل متستره او شبه عاريه وبنسب كثيره بعد بس… @url</td>\n",
       "      <td>abusive_normal</td>\n",
       "      <td>direct</td>\n",
       "      <td>sadness</td>\n",
       "      <td>0</td>\n",
       "      <td>women</td>\n",
       "    </tr>\n",
       "    <tr>\n",
       "      <th>333</th>\n",
       "      <td>#غرد_مثل_موقع_القوات حسومات على بول البعير</td>\n",
       "      <td>normal</td>\n",
       "      <td>indirect</td>\n",
       "      <td>indifference_disgust</td>\n",
       "      <td>0</td>\n",
       "      <td>other</td>\n",
       "    </tr>\n",
       "    <tr>\n",
       "      <th>977</th>\n",
       "      <td>تحيه محبه وسلام</td>\n",
       "      <td>normal</td>\n",
       "      <td>direct</td>\n",
       "      <td>indifference</td>\n",
       "      <td>1</td>\n",
       "      <td>nothing</td>\n",
       "    </tr>\n",
       "    <tr>\n",
       "      <th>701</th>\n",
       "      <td>الخشوع احساس جميل جد امام الله القلب يحب الدمع صافي متعه بعد الصلاه راحه فائقه اتمنى لكل المسلمين هذا الخشوع</td>\n",
       "      <td>normal</td>\n",
       "      <td>direct</td>\n",
       "      <td>indifference</td>\n",
       "      <td>1</td>\n",
       "      <td>nothing</td>\n",
       "    </tr>\n",
       "    <tr>\n",
       "      <th>167</th>\n",
       "      <td>@user @user @user @user أني عراقي تاج على راسك يابدوي يا شارب بول البعير.</td>\n",
       "      <td>offensive</td>\n",
       "      <td>direct</td>\n",
       "      <td>anger_disgust</td>\n",
       "      <td>0</td>\n",
       "      <td>individual</td>\n",
       "    </tr>\n",
       "  </tbody>\n",
       "</table>\n",
       "</div>"
      ],
      "text/plain": [
       "                                                                                                                         tweet  \\\n",
       "335  كل دول العالم فيها ظاهرة التحرش بالذات مع البنات سواء بنص اليوم او بنص الليل متستره او شبه عاريه وبنسب كثيره بعد بس… @url   \n",
       "333                                                                                 #غرد_مثل_موقع_القوات حسومات على بول البعير   \n",
       "977                                                                                                           تحيه محبه وسلام    \n",
       "701               الخشوع احساس جميل جد امام الله القلب يحب الدمع صافي متعه بعد الصلاه راحه فائقه اتمنى لكل المسلمين هذا الخشوع   \n",
       "167                                                  @user @user @user @user أني عراقي تاج على راسك يابدوي يا شارب بول البعير.   \n",
       "\n",
       "          sentiment directness   annotator_sentiment target       group  \n",
       "335  abusive_normal     direct               sadness      0       women  \n",
       "333          normal   indirect  indifference_disgust      0       other  \n",
       "977          normal     direct          indifference      1     nothing  \n",
       "701          normal     direct          indifference      1     nothing  \n",
       "167       offensive     direct         anger_disgust      0  individual  "
      ]
     },
     "execution_count": 34,
     "metadata": {},
     "output_type": "execute_result"
    }
   ],
   "source": [
    "data_ar = resample(data_ar)\n",
    "data_ar = data_ar.drop(columns={'HITId'})\n",
    "data_ar.head()"
   ]
  },
  {
   "cell_type": "markdown",
   "metadata": {},
   "source": [
    "#### 5.2.6 Data distribution after resampling"
   ]
  },
  {
   "cell_type": "code",
   "execution_count": 35,
   "metadata": {
    "execution": {
     "iopub.execute_input": "2022-02-22T08:14:23.868893Z",
     "iopub.status.busy": "2022-02-22T08:14:23.867987Z",
     "iopub.status.idle": "2022-02-22T08:14:24.052754Z",
     "shell.execute_reply": "2022-02-22T08:14:24.052057Z",
     "shell.execute_reply.started": "2022-02-22T08:14:23.868849Z"
    }
   },
   "outputs": [
    {
     "data": {
      "text/plain": [
       "<AxesSubplot:xlabel='tweet', ylabel='target'>"
      ]
     },
     "execution_count": 35,
     "metadata": {},
     "output_type": "execute_result"
    },
    {
     "data": {
      "image/png": "[encoded data removed]",
      "text/plain": [
       "<Figure size 360x360 with 1 Axes>"
      ]
     },
     "metadata": {
      "needs_background": "light"
     },
     "output_type": "display_data"
    }
   ],
   "source": [
    "# distribution of classes: 0,1\n",
    "cum = data_ar['target'].value_counts().to_frame()\n",
    "cum['tweet'] = cum.index\n",
    "cumfig, ax = plt.subplots(figsize=(5,5))\n",
    "sn.barplot(data=cum,x='tweet',y='target',ax=ax)"
   ]
  },
  {
   "cell_type": "code",
   "execution_count": 36,
   "metadata": {
    "execution": {
     "iopub.execute_input": "2022-02-22T08:14:24.054795Z",
     "iopub.status.busy": "2022-02-22T08:14:24.054247Z",
     "iopub.status.idle": "2022-02-22T08:14:24.188662Z",
     "shell.execute_reply": "2022-02-22T08:14:24.187953Z",
     "shell.execute_reply.started": "2022-02-22T08:14:24.054752Z"
    }
   },
   "outputs": [
    {
     "data": {
      "image/png": "[encoded data removed]",
      "text/plain": [
       "<Figure size 360x360 with 1 Axes>"
      ]
     },
     "metadata": {},
     "output_type": "display_data"
    }
   ],
   "source": [
    "plt.figure(figsize=(5,5))\n",
    "plt.pie(data_ar[\"target\"].value_counts(),labels=data_ar[\"target\"].value_counts().index,autopct=lambda p:f'{p:.2f}%',\n",
    "        shadow=True,colors=['mediumvioletred','darkturquoise'],labeldistance = 1.1,textprops={'fontsize': 14})\n",
    "\n",
    "plt.savefig(\" ara distribution des données dans les différentes classes.png\")\n",
    "plt.show()"
   ]
  },
  {
   "cell_type": "markdown",
   "metadata": {},
   "source": [
    "#### 5.2.7 Encoding columns\n"
   ]
  },
  {
   "cell_type": "code",
   "execution_count": 37,
   "metadata": {
    "execution": {
     "iopub.execute_input": "2022-02-22T08:14:24.190762Z",
     "iopub.status.busy": "2022-02-22T08:14:24.190203Z",
     "iopub.status.idle": "2022-02-22T08:14:24.211297Z",
     "shell.execute_reply": "2022-02-22T08:14:24.210472Z",
     "shell.execute_reply.started": "2022-02-22T08:14:24.190718Z"
    }
   },
   "outputs": [
    {
     "data": {
      "text/html": [
       "<div>\n",
       "<style scoped>\n",
       "    .dataframe tbody tr th:only-of-type {\n",
       "        vertical-align: middle;\n",
       "    }\n",
       "\n",
       "    .dataframe tbody tr th {\n",
       "        vertical-align: top;\n",
       "    }\n",
       "\n",
       "    .dataframe thead th {\n",
       "        text-align: right;\n",
       "    }\n",
       "</style>\n",
       "<table border=\"1\" class=\"dataframe\">\n",
       "  <thead>\n",
       "    <tr style=\"text-align: right;\">\n",
       "      <th></th>\n",
       "      <th>tweet</th>\n",
       "      <th>sentiment</th>\n",
       "      <th>directness</th>\n",
       "      <th>annotator_sentiment</th>\n",
       "      <th>target</th>\n",
       "      <th>group</th>\n",
       "    </tr>\n",
       "  </thead>\n",
       "  <tbody>\n",
       "    <tr>\n",
       "      <th>993</th>\n",
       "      <td>جميله المعاني المجرده التي تنزوي عند التطبيق</td>\n",
       "      <td>17</td>\n",
       "      <td>0</td>\n",
       "      <td>15</td>\n",
       "      <td>1</td>\n",
       "      <td>8</td>\n",
       "    </tr>\n",
       "    <tr>\n",
       "      <th>653</th>\n",
       "      <td>اكيد جزاك الله خيرا</td>\n",
       "      <td>17</td>\n",
       "      <td>0</td>\n",
       "      <td>15</td>\n",
       "      <td>1</td>\n",
       "      <td>8</td>\n",
       "    </tr>\n",
       "    <tr>\n",
       "      <th>582</th>\n",
       "      <td>حتي التحرش محرومة منه</td>\n",
       "      <td>18</td>\n",
       "      <td>1</td>\n",
       "      <td>11</td>\n",
       "      <td>0</td>\n",
       "      <td>5</td>\n",
       "    </tr>\n",
       "    <tr>\n",
       "      <th>503</th>\n",
       "      <td>@user @user بول البعير  ادفع الجزية يا خائن العرب و المسلمين @user</td>\n",
       "      <td>15</td>\n",
       "      <td>0</td>\n",
       "      <td>13</td>\n",
       "      <td>0</td>\n",
       "      <td>5</td>\n",
       "    </tr>\n",
       "    <tr>\n",
       "      <th>729</th>\n",
       "      <td>الله الله عليك يا استاذ عمر بارك الله لك بارك عليك جزاك الله عنا خيرا كثير</td>\n",
       "      <td>17</td>\n",
       "      <td>0</td>\n",
       "      <td>15</td>\n",
       "      <td>1</td>\n",
       "      <td>8</td>\n",
       "    </tr>\n",
       "  </tbody>\n",
       "</table>\n",
       "</div>"
      ],
      "text/plain": [
       "                                                                          tweet  \\\n",
       "993                                جميله المعاني المجرده التي تنزوي عند التطبيق   \n",
       "653                                                         اكيد جزاك الله خيرا   \n",
       "582                                                       حتي التحرش محرومة منه   \n",
       "503          @user @user بول البعير  ادفع الجزية يا خائن العرب و المسلمين @user   \n",
       "729  الله الله عليك يا استاذ عمر بارك الله لك بارك عليك جزاك الله عنا خيرا كثير   \n",
       "\n",
       "     sentiment  directness  annotator_sentiment target  group  \n",
       "993         17           0                   15      1      8  \n",
       "653         17           0                   15      1      8  \n",
       "582         18           1                   11      0      5  \n",
       "503         15           0                   13      0      5  \n",
       "729         17           0                   15      1      8  "
      ]
     },
     "execution_count": 37,
     "metadata": {},
     "output_type": "execute_result"
    }
   ],
   "source": [
    "data_ar.sentiment = le.fit_transform(data_ar.sentiment)\n",
    "data_ar.directness = le.fit_transform(data_ar.directness)\n",
    "data_ar.annotator_sentiment = le.fit_transform(data_ar.annotator_sentiment)\n",
    "data_ar.group = le.fit_transform(data_ar.group)\n",
    "data_ar = data_ar.sample(frac = 1)\n",
    "data_ar.head()"
   ]
  },
  {
   "cell_type": "markdown",
   "metadata": {},
   "source": [
    "## 6. Preprocessing/Cleaning on tweets"
   ]
  },
  {
   "cell_type": "markdown",
   "metadata": {},
   "source": [
    "### 6.1 Help functions"
   ]
  },
  {
   "cell_type": "code",
   "execution_count": 38,
   "metadata": {
    "execution": {
     "iopub.execute_input": "2022-02-22T08:14:24.213867Z",
     "iopub.status.busy": "2022-02-22T08:14:24.213180Z",
     "iopub.status.idle": "2022-02-22T08:14:24.222232Z",
     "shell.execute_reply": "2022-02-22T08:14:24.221603Z",
     "shell.execute_reply.started": "2022-02-22T08:14:24.213823Z"
    }
   },
   "outputs": [],
   "source": [
    "def hash_fix(h):\n",
    "    h1 = re.sub(r'[0-9]+', '', h)\n",
    "    h2 = re.sub(r'#', '', h1)\n",
    "    h3 = segment(str(h2))\n",
    "    h4 = ' '.join(map(str, h3)) \n",
    "    return h4"
   ]
  },
  {
   "cell_type": "code",
   "execution_count": 39,
   "metadata": {
    "execution": {
     "iopub.execute_input": "2022-02-22T08:14:24.224025Z",
     "iopub.status.busy": "2022-02-22T08:14:24.223422Z",
     "iopub.status.idle": "2022-02-22T08:14:26.638975Z",
     "shell.execute_reply": "2022-02-22T08:14:26.637866Z",
     "shell.execute_reply.started": "2022-02-22T08:14:24.223995Z"
    }
   },
   "outputs": [
    {
     "name": "stdout",
     "output_type": "stream",
     "text": [
      "Training WordTokenizer ...\n"
     ]
    }
   ],
   "source": [
    "tok_ar = tk.WordTokenizer()\n",
    "tok_ar.train('/kaggle/input/twitter/ar_dataset.csv')\n",
    "def prepro_ar(tweet):\n",
    "    arabic_diacritics = re.compile(\"\"\" ّ    | # Tashdid\n",
    "                             َ    | # Fatha\n",
    "                             ً    | # Tanwin Fath\n",
    "                             ُ    | # Damma\n",
    "                             ٌ    | # Tanwin Damm\n",
    "                             ِ    | # Kasra\n",
    "                             ٍ    | # Tanwin Kasr\n",
    "                             ْ    | # Sukun\n",
    "                             ـ     # Tatwil/Kashida\n",
    "                         \"\"\", re.VERBOSE)\n",
    "    \n",
    "    tweet = tweet.replace('user', '')\n",
    "    tweet = tweet.replace('@user', '')\n",
    "    tweet = re.sub( r\"(?i)\\b((?:https?://|www\\d{0,3}[.]|[a-z0-9.\\-]+[.][a-z]{2,4}/)(?:[^\\s()<>]+|\\(([^\\s()<>]+|(\\([^\\s()<>]+\\)))*\\))+(?:\\(([^\\s()<>]+|(\\([^\\s()<>]+\\)))*\\)|[^\\s`!()\\[\\]{};:'\\\".,<>?«»“”‘’]))\",'',tweet)\n",
    "\n",
    "    tweet = tweet.replace('url', '')\n",
    "    tweet = re.sub(r\"\\p{P}\", lambda m: \"\", tweet)\n",
    "    tweet = re.sub(arabic_diacritics, '', str(tweet))\n",
    "    tweet = re.sub(r'(.)\\1+', \"\", tweet) \n",
    "    tweet = ar.strip_tashkeel(tweet)\n",
    "    tweet = ar.strip_tatweel(tweet)\n",
    "    tweet = tweet.replace(\"@\", \" \")\n",
    "    tweet = tweet.replace(\"_\", \" \")\n",
    "    tweet = re.sub(\"ى\", \"ي\", tweet)\n",
    "    tweet = re.sub(\"ؤ\", \"ء\", tweet)\n",
    "    tweet = re.sub(\"ئ\", \"ء\", tweet)\n",
    "    tweet = re.sub(\"ة\", \"ه\", tweet)\n",
    "    tweet = re.sub(\"گ\", \"ك\", tweet)\n",
    "    tweet = tweet.replace(\"آ\", \"ا\")\n",
    "    tweet = tweet.replace(\"إ\", \"ا\")\n",
    "    tweet = tweet.replace(\"أ\", \"ا\")\n",
    "    tweet = tweet.replace(\"ؤ\", \"و\")\n",
    "    tweet = tweet.replace(\"ئ\", \"ي\")\n",
    "    tweet = nltk.tokenize.word_tokenize(tweet)\n",
    "    tweet = [ISRIStemmer().suf32(w) for w in tweet]\n",
    "    for i in range(len(tweet)):\n",
    "        if tweet[i] == 'اه':\n",
    "            tweet[i] = 'الله'\n",
    "    return tweet"
   ]
  },
  {
   "cell_type": "code",
   "execution_count": 40,
   "metadata": {
    "execution": {
     "iopub.execute_input": "2022-02-22T08:14:26.641251Z",
     "iopub.status.busy": "2022-02-22T08:14:26.640766Z",
     "iopub.status.idle": "2022-02-22T08:14:26.656289Z",
     "shell.execute_reply": "2022-02-22T08:14:26.655507Z",
     "shell.execute_reply.started": "2022-02-22T08:14:26.641206Z"
    }
   },
   "outputs": [],
   "source": [
    "contractions_fr = {\n",
    "        'administration':'admin',\n",
    "        'avec':'ac',\n",
    "        'beaucoup':'bp',\n",
    "        'c’est-à-dire':'cad',\n",
    "        'cependant':'cpd',\n",
    "        'chose':'ch',\n",
    "        'conclusion':'ccl',\n",
    "        'confer ':'cf',\n",
    "        'court terme':'ct',\n",
    "        'dans':'ds',\n",
    "        'dedans':'dd',\n",
    "        'définition':'déf',\n",
    "        'et cetera':'etc',\n",
    "        'être':'ê',\n",
    "        'exemple':'ex',\n",
    "        'extérieur':'ext',\n",
    "        'font':'ft',\n",
    "        'général':'gal',\n",
    "        'gouvernement':'gouv',\n",
    "        'grand':'gd',\n",
    "        'groupe':'gp',\n",
    "        'identique':'idel',\n",
    "        'introduction':'intro',\n",
    "        'jour':'jr',\n",
    "        'long terme':'lt',\n",
    "        'lorsque':'lsq',\n",
    "        'mais':'ms',\n",
    "        'même':'^m',\n",
    "        'moyen terme':'mt',\n",
    "        'nombre':'nb',\n",
    "        'nombreux':'nbx',\n",
    "        'nombre':'nb',\n",
    "        'nombreux':'nbx',\n",
    "        'observation':'obs',\n",
    "        'ordre du jour':'oj',\n",
    "        'page':'p',\n",
    "        'parce que':'pcq',\n",
    "        'pendant':'pdt',\n",
    "        'personne':'pers',\n",
    "        'point':'pt',\n",
    "        'peut-être':'pê',\n",
    "        'pour':'pr',\n",
    "        'pourtant':'prtt',\n",
    "        'quand':'qd',\n",
    "        'quantité':'qté',\n",
    "        'que':'q',\n",
    "        'quelqu’un':'qqn',\n",
    "        'quelque chose':'qqch',\n",
    "        'quelque':'qq',\n",
    "        'quelquefois':'qqf',\n",
    "        'question':'quest',\n",
    "        'rendez-vous':'rdv',\n",
    "        'responsabilité':'respité',\n",
    "        'seulement':'slt',\n",
    "        'solution':'sol',\n",
    "        'sont':'st',\n",
    "        'sous':'ss',\n",
    "        'souvent':'svt',\n",
    "        'temps':'tps',\n",
    "        'toujours':'tjrs',\n",
    "        'tous':'ts',\n",
    "        'tout':'tt',\n",
    "        'toute':'tte',\n",
    "        'toutes':'ttes',\n",
    "        'vous':'vs',\n",
    "        'le':'l\\'',\n",
    "        'me':'m\\'',\n",
    "        'de':'d\\'',\n",
    "        'te':'t\\'',\n",
    "        'se':'s\\'',\n",
    "        'ce':'c\\'',\n",
    "        'ne':'n\\'',\n",
    "        'que':'qu\\'',\n",
    "        'jusque':'jusqu\\'',\n",
    "        'lorsque':'lorsqu\\'',\n",
    "        'puisque':'puisqu\\'',\n",
    "        'quelque':'quelqu\\'',\n",
    "        'quoique':'quoiqu\\'',\n",
    "        'parce que':'parce qu\\'',\n",
    "        'tel que':'tel qu\\'',\n",
    "        'telle que':'telle qu\\'',       \n",
    "        'faculte':'fac',\n",
    "        'bien':'bin',    \n",
    "        'attend':'att',\n",
    "        'je': 'j\\'',\n",
    "        'rire':'ptdr',\n",
    "        'rire':'lol',\n",
    "        'rire':'lmfao',\n",
    "        'putin':'ptn',\n",
    "}"
   ]
  },
  {
   "cell_type": "code",
   "execution_count": 41,
   "metadata": {
    "execution": {
     "iopub.execute_input": "2022-02-22T08:14:26.658468Z",
     "iopub.status.busy": "2022-02-22T08:14:26.657844Z",
     "iopub.status.idle": "2022-02-22T08:14:29.024144Z",
     "shell.execute_reply": "2022-02-22T08:14:29.023318Z",
     "shell.execute_reply.started": "2022-02-22T08:14:26.658421Z"
    }
   },
   "outputs": [],
   "source": [
    "french_stopwords = nltk.corpus.stopwords.words('french')\n",
    "lemmatizer = FrenchLefffLemmatizer()\n",
    "spell = SpellChecker(language='fr')"
   ]
  },
  {
   "cell_type": "code",
   "execution_count": 42,
   "metadata": {
    "execution": {
     "iopub.execute_input": "2022-02-22T08:14:29.025576Z",
     "iopub.status.busy": "2022-02-22T08:14:29.025353Z",
     "iopub.status.idle": "2022-02-22T08:14:29.038529Z",
     "shell.execute_reply": "2022-02-22T08:14:29.037710Z",
     "shell.execute_reply.started": "2022-02-22T08:14:29.025547Z"
    }
   },
   "outputs": [],
   "source": [
    "def prepro_fr(tweet):\n",
    "    # prepare regex for char filtering\n",
    "    re_print = re.compile('[^%s]' % re.escape(string.printable))\n",
    "    # normalize unicode characters\n",
    "    tweet = normalize('NFD', tweet).encode('ascii','ignore')\n",
    "    tweet = tweet.decode('UTF-8')\n",
    "    #demojize\n",
    "    tweet = emoji.demojize(tweet)\n",
    "    if \"#\" in tweet:\n",
    "        tweet = hash_fix(tweet)\n",
    "    tweet = tweet.replace('user', '')\n",
    "    tweet = tweet.replace('@user', '')\n",
    "    tweet = tweet.replace('url', '')\n",
    "    tweet = re.sub( r\"(?i)\\b((?:https?://|www\\d{0,3}[.]|[a-z0-9.\\-]+[.][a-z]{2,4}/)(?:[^\\s()<>]+|\\(([^\\s()<>]+|(\\([^\\s()<>]+\\)))*\\))+(?:\\(([^\\s()<>]+|(\\([^\\s()<>]+\\)))*\\)|[^\\s`!()\\[\\]{};:'\\\".,<>?«»“”‘’]))\",'',tweet)\n",
    "    # convert to lower case\n",
    "    tweet = tweet.lower()\n",
    "    tweet = tweet.replace('\\'', '\\' ') \n",
    "    # remove punctuation\n",
    "    tweet = re.sub(r\"\\p{P}\", lambda m: \"-\" if m.group(0) == \"-\" else \"\", tweet)\n",
    "    # tokenization\n",
    "    tweet = nltk.tokenize.word_tokenize(tweet)\n",
    "    #contractions\n",
    "    tweet = [list(contractions_fr.keys())[list(contractions_fr.values()).index(word)] if word in contractions_fr.values() else word for word in tweet]\n",
    "    \n",
    "    # stop words\n",
    "    tweet = [w for w in tweet if w not in french_stopwords]\n",
    "    sc = 'j[a-z]*'\n",
    "    v = '[^aeyouisch]*'\n",
    "    for w in tweet:\n",
    "        x = re.findall(sc,w)\n",
    "        xx = re.findall(v,w)\n",
    "        if len(x)!=0:\n",
    "            w = x[0].replace('j', 'je ')\n",
    "            if len(x)>=3:\n",
    "                w = w.replace(xx[0], '')\n",
    "    # remove non-printable chars form each token\n",
    "    tweet = [re_print.sub('', w) for w in tweet]\n",
    "    # lemmatization\n",
    "    tweet = [lemmatizer.lemmatize(w) for w in tweet]\n",
    "    return tweet"
   ]
  },
  {
   "cell_type": "markdown",
   "metadata": {},
   "source": [
    "### 6.2 Arabic"
   ]
  },
  {
   "cell_type": "code",
   "execution_count": 43,
   "metadata": {
    "execution": {
     "iopub.execute_input": "2022-02-22T08:14:29.039897Z",
     "iopub.status.busy": "2022-02-22T08:14:29.039680Z",
     "iopub.status.idle": "2022-02-22T08:14:30.006340Z",
     "shell.execute_reply": "2022-02-22T08:14:30.005423Z",
     "shell.execute_reply.started": "2022-02-22T08:14:29.039870Z"
    }
   },
   "outputs": [],
   "source": [
    "data_ar.tweet = data_ar.tweet.apply(lambda t: prepro_ar(t))"
   ]
  },
  {
   "cell_type": "code",
   "execution_count": 44,
   "metadata": {
    "execution": {
     "iopub.execute_input": "2022-02-22T08:14:30.008293Z",
     "iopub.status.busy": "2022-02-22T08:14:30.007831Z",
     "iopub.status.idle": "2022-02-22T08:14:30.027944Z",
     "shell.execute_reply": "2022-02-22T08:14:30.027356Z",
     "shell.execute_reply.started": "2022-02-22T08:14:30.008238Z"
    }
   },
   "outputs": [
    {
     "data": {
      "text/html": [
       "<div>\n",
       "<style scoped>\n",
       "    .dataframe tbody tr th:only-of-type {\n",
       "        vertical-align: middle;\n",
       "    }\n",
       "\n",
       "    .dataframe tbody tr th {\n",
       "        vertical-align: top;\n",
       "    }\n",
       "\n",
       "    .dataframe thead th {\n",
       "        text-align: right;\n",
       "    }\n",
       "</style>\n",
       "<table border=\"1\" class=\"dataframe\">\n",
       "  <thead>\n",
       "    <tr style=\"text-align: right;\">\n",
       "      <th></th>\n",
       "      <th>tweet</th>\n",
       "      <th>sentiment</th>\n",
       "      <th>directness</th>\n",
       "      <th>annotator_sentiment</th>\n",
       "      <th>target</th>\n",
       "      <th>group</th>\n",
       "    </tr>\n",
       "  </thead>\n",
       "  <tbody>\n",
       "    <tr>\n",
       "      <th>993</th>\n",
       "      <td>[جميله, المعا, المجرده, التي, تنزوي, عند, التطبيق]</td>\n",
       "      <td>17</td>\n",
       "      <td>0</td>\n",
       "      <td>15</td>\n",
       "      <td>1</td>\n",
       "      <td>8</td>\n",
       "    </tr>\n",
       "    <tr>\n",
       "      <th>653</th>\n",
       "      <td>[اكيد, جزاك, الله, خيرا]</td>\n",
       "      <td>17</td>\n",
       "      <td>0</td>\n",
       "      <td>15</td>\n",
       "      <td>1</td>\n",
       "      <td>8</td>\n",
       "    </tr>\n",
       "    <tr>\n",
       "      <th>582</th>\n",
       "      <td>[حتي, التحرش, محرومه, منه]</td>\n",
       "      <td>18</td>\n",
       "      <td>1</td>\n",
       "      <td>11</td>\n",
       "      <td>0</td>\n",
       "      <td>5</td>\n",
       "    </tr>\n",
       "    <tr>\n",
       "      <th>503</th>\n",
       "      <td>[بول, البعيرادفع, الجزيه, يا, خاءن, العرب, و, المسلم]</td>\n",
       "      <td>15</td>\n",
       "      <td>0</td>\n",
       "      <td>13</td>\n",
       "      <td>0</td>\n",
       "      <td>5</td>\n",
       "    </tr>\n",
       "    <tr>\n",
       "      <th>729</th>\n",
       "      <td>[الله, الله, عليك, يا, استاذ, عمر, بارك, الله, لك, بارك, عليك, جزاك, الله, عنا, خيرا, كثير]</td>\n",
       "      <td>17</td>\n",
       "      <td>0</td>\n",
       "      <td>15</td>\n",
       "      <td>1</td>\n",
       "      <td>8</td>\n",
       "    </tr>\n",
       "  </tbody>\n",
       "</table>\n",
       "</div>"
      ],
      "text/plain": [
       "                                                                                           tweet  \\\n",
       "993                                           [جميله, المعا, المجرده, التي, تنزوي, عند, التطبيق]   \n",
       "653                                                                     [اكيد, جزاك, الله, خيرا]   \n",
       "582                                                                   [حتي, التحرش, محرومه, منه]   \n",
       "503                                        [بول, البعيرادفع, الجزيه, يا, خاءن, العرب, و, المسلم]   \n",
       "729  [الله, الله, عليك, يا, استاذ, عمر, بارك, الله, لك, بارك, عليك, جزاك, الله, عنا, خيرا, كثير]   \n",
       "\n",
       "     sentiment  directness  annotator_sentiment target  group  \n",
       "993         17           0                   15      1      8  \n",
       "653         17           0                   15      1      8  \n",
       "582         18           1                   11      0      5  \n",
       "503         15           0                   13      0      5  \n",
       "729         17           0                   15      1      8  "
      ]
     },
     "execution_count": 44,
     "metadata": {},
     "output_type": "execute_result"
    }
   ],
   "source": [
    "data_ar.head()"
   ]
  },
  {
   "cell_type": "markdown",
   "metadata": {},
   "source": [
    "### 6.3 French"
   ]
  },
  {
   "cell_type": "code",
   "execution_count": 45,
   "metadata": {
    "execution": {
     "iopub.execute_input": "2022-02-22T08:14:30.029977Z",
     "iopub.status.busy": "2022-02-22T08:14:30.029658Z",
     "iopub.status.idle": "2022-02-22T08:15:04.558567Z",
     "shell.execute_reply": "2022-02-22T08:15:04.557629Z",
     "shell.execute_reply.started": "2022-02-22T08:14:30.029934Z"
    }
   },
   "outputs": [],
   "source": [
    "data_fr.tweet = data_fr.tweet.apply(lambda t: prepro_fr(t))"
   ]
  },
  {
   "cell_type": "code",
   "execution_count": 46,
   "metadata": {
    "execution": {
     "iopub.execute_input": "2022-02-22T08:15:04.560082Z",
     "iopub.status.busy": "2022-02-22T08:15:04.559833Z",
     "iopub.status.idle": "2022-02-22T08:15:04.574660Z",
     "shell.execute_reply": "2022-02-22T08:15:04.573644Z",
     "shell.execute_reply.started": "2022-02-22T08:15:04.560052Z"
    }
   },
   "outputs": [
    {
     "data": {
      "text/html": [
       "<div>\n",
       "<style scoped>\n",
       "    .dataframe tbody tr th:only-of-type {\n",
       "        vertical-align: middle;\n",
       "    }\n",
       "\n",
       "    .dataframe tbody tr th {\n",
       "        vertical-align: top;\n",
       "    }\n",
       "\n",
       "    .dataframe thead th {\n",
       "        text-align: right;\n",
       "    }\n",
       "</style>\n",
       "<table border=\"1\" class=\"dataframe\">\n",
       "  <thead>\n",
       "    <tr style=\"text-align: right;\">\n",
       "      <th></th>\n",
       "      <th>tweet</th>\n",
       "      <th>sentiment</th>\n",
       "      <th>directness</th>\n",
       "      <th>annotator_sentiment</th>\n",
       "      <th>target</th>\n",
       "      <th>group</th>\n",
       "    </tr>\n",
       "  </thead>\n",
       "  <tbody>\n",
       "    <tr>\n",
       "      <th>5740</th>\n",
       "      <td>[bonne, nuit]</td>\n",
       "      <td>60</td>\n",
       "      <td>0</td>\n",
       "      <td>88</td>\n",
       "      <td>1</td>\n",
       "      <td>12</td>\n",
       "    </tr>\n",
       "    <tr>\n",
       "      <th>9265</th>\n",
       "      <td>[deteste, egalement, travailler, devon, faire, avoir, air, bien, suffit, garder, a, esprit, vaut, peine]</td>\n",
       "      <td>60</td>\n",
       "      <td>0</td>\n",
       "      <td>88</td>\n",
       "      <td>1</td>\n",
       "      <td>12</td>\n",
       "    </tr>\n",
       "    <tr>\n",
       "      <th>11200</th>\n",
       "      <td>[super, ici, espere, etes, meme, chanson, incroyable, pense, ca, va, arriver]</td>\n",
       "      <td>60</td>\n",
       "      <td>0</td>\n",
       "      <td>88</td>\n",
       "      <td>1</td>\n",
       "      <td>12</td>\n",
       "    </tr>\n",
       "    <tr>\n",
       "      <th>9556</th>\n",
       "      <td>[oui, adore, caramellow, seulement, deux, jour, plus, jusqu, a, pause, paques, tellement, excite, stress, ecole, laisse, derriere]</td>\n",
       "      <td>60</td>\n",
       "      <td>0</td>\n",
       "      <td>88</td>\n",
       "      <td>1</td>\n",
       "      <td>12</td>\n",
       "    </tr>\n",
       "    <tr>\n",
       "      <th>10161</th>\n",
       "      <td>[cor, my, new, custom, rig, juste, rire, face, a, gauche, 4, mort, jeu, similaires]</td>\n",
       "      <td>60</td>\n",
       "      <td>0</td>\n",
       "      <td>88</td>\n",
       "      <td>1</td>\n",
       "      <td>12</td>\n",
       "    </tr>\n",
       "  </tbody>\n",
       "</table>\n",
       "</div>"
      ],
      "text/plain": [
       "                                                                                                                                    tweet  \\\n",
       "5740                                                                                                                        [bonne, nuit]   \n",
       "9265                             [deteste, egalement, travailler, devon, faire, avoir, air, bien, suffit, garder, a, esprit, vaut, peine]   \n",
       "11200                                                       [super, ici, espere, etes, meme, chanson, incroyable, pense, ca, va, arriver]   \n",
       "9556   [oui, adore, caramellow, seulement, deux, jour, plus, jusqu, a, pause, paques, tellement, excite, stress, ecole, laisse, derriere]   \n",
       "10161                                                 [cor, my, new, custom, rig, juste, rire, face, a, gauche, 4, mort, jeu, similaires]   \n",
       "\n",
       "       sentiment  directness  annotator_sentiment target  group  \n",
       "5740          60           0                   88      1     12  \n",
       "9265          60           0                   88      1     12  \n",
       "11200         60           0                   88      1     12  \n",
       "9556          60           0                   88      1     12  \n",
       "10161         60           0                   88      1     12  "
      ]
     },
     "execution_count": 46,
     "metadata": {},
     "output_type": "execute_result"
    }
   ],
   "source": [
    "data_fr.head()"
   ]
  },
  {
   "cell_type": "markdown",
   "metadata": {},
   "source": [
    "## 7. Splitting Data"
   ]
  },
  {
   "cell_type": "markdown",
   "metadata": {},
   "source": [
    "## 7.1 Arabic"
   ]
  },
  {
   "cell_type": "code",
   "execution_count": 47,
   "metadata": {
    "execution": {
     "iopub.execute_input": "2022-02-22T08:15:04.576168Z",
     "iopub.status.busy": "2022-02-22T08:15:04.575960Z",
     "iopub.status.idle": "2022-02-22T08:15:04.586248Z",
     "shell.execute_reply": "2022-02-22T08:15:04.585663Z",
     "shell.execute_reply.started": "2022-02-22T08:15:04.576142Z"
    }
   },
   "outputs": [],
   "source": [
    "labels_ar = data_ar.target.values\n",
    "data_ar = data_ar.drop(columns={'target'})"
   ]
  },
  {
   "cell_type": "code",
   "execution_count": 48,
   "metadata": {
    "execution": {
     "iopub.execute_input": "2022-02-22T08:15:04.587711Z",
     "iopub.status.busy": "2022-02-22T08:15:04.587376Z",
     "iopub.status.idle": "2022-02-22T08:15:04.599085Z",
     "shell.execute_reply": "2022-02-22T08:15:04.598297Z",
     "shell.execute_reply.started": "2022-02-22T08:15:04.587681Z"
    }
   },
   "outputs": [],
   "source": [
    "X_train_ar,X_test_ar, y_train_ar,y_test_ar = train_test_split(data_ar,\n",
    "                                                              labels_ar,\n",
    "                                                              test_size=0.1)\n"
   ]
  },
  {
   "cell_type": "markdown",
   "metadata": {},
   "source": [
    "### 7.2 French"
   ]
  },
  {
   "cell_type": "code",
   "execution_count": 49,
   "metadata": {
    "execution": {
     "iopub.execute_input": "2022-02-22T08:15:04.600835Z",
     "iopub.status.busy": "2022-02-22T08:15:04.600422Z",
     "iopub.status.idle": "2022-02-22T08:15:04.609472Z",
     "shell.execute_reply": "2022-02-22T08:15:04.608851Z",
     "shell.execute_reply.started": "2022-02-22T08:15:04.600804Z"
    }
   },
   "outputs": [],
   "source": [
    "labels_fr = data_fr.target.values\n",
    "data_fr = data_fr.drop(columns={'target'})"
   ]
  },
  {
   "cell_type": "code",
   "execution_count": 50,
   "metadata": {
    "execution": {
     "iopub.execute_input": "2022-02-22T08:15:04.610964Z",
     "iopub.status.busy": "2022-02-22T08:15:04.610603Z",
     "iopub.status.idle": "2022-02-22T08:15:04.624710Z",
     "shell.execute_reply": "2022-02-22T08:15:04.623697Z",
     "shell.execute_reply.started": "2022-02-22T08:15:04.610934Z"
    }
   },
   "outputs": [],
   "source": [
    "X_train_fr,X_test_fr, y_train_fr,y_test_fr = train_test_split(data_fr,\n",
    "                                                              labels_fr,\n",
    "                                                              test_size=0.1)"
   ]
  },
  {
   "cell_type": "markdown",
   "metadata": {},
   "source": [
    "## 8. Word Embedding"
   ]
  },
  {
   "cell_type": "code",
   "execution_count": 51,
   "metadata": {
    "execution": {
     "iopub.execute_input": "2022-02-22T08:15:04.626081Z",
     "iopub.status.busy": "2022-02-22T08:15:04.625836Z",
     "iopub.status.idle": "2022-02-22T08:15:04.632585Z",
     "shell.execute_reply": "2022-02-22T08:15:04.631772Z",
     "shell.execute_reply.started": "2022-02-22T08:15:04.626050Z"
    }
   },
   "outputs": [],
   "source": [
    "embed_dim = 300 "
   ]
  },
  {
   "cell_type": "markdown",
   "metadata": {},
   "source": [
    "### Help functions"
   ]
  },
  {
   "cell_type": "code",
   "execution_count": 52,
   "metadata": {
    "execution": {
     "iopub.execute_input": "2022-02-22T08:15:04.634776Z",
     "iopub.status.busy": "2022-02-22T08:15:04.633897Z",
     "iopub.status.idle": "2022-02-22T08:15:04.645874Z",
     "shell.execute_reply": "2022-02-22T08:15:04.644978Z",
     "shell.execute_reply.started": "2022-02-22T08:15:04.634736Z"
    }
   },
   "outputs": [],
   "source": [
    "emd_vect =  100\n",
    "def embedding_mat(file, word_index):\n",
    "    embedding_dict = {}\n",
    "    for line in file:\n",
    "        values=line.split()\n",
    "        word=values[0]\n",
    "        if word in word_index.keys():\n",
    "            vector = np.asarray(values[1:], 'float32')\n",
    "            embedding_dict[word] = vector\n",
    "\n",
    "    num_words=len(word_index)+1\n",
    "    embedding_matrix=np.zeros((num_words, emd_vect))\n",
    "    for word,i in tqdm(word_index.items()):\n",
    "        vect=embedding_dict.get(word)\n",
    "        if vect is not None:\n",
    "            embedding_matrix[i]  = vect[:emd_vect]\n",
    "    return embedding_matrix"
   ]
  },
  {
   "cell_type": "markdown",
   "metadata": {},
   "source": [
    "### 8.1 Arabic"
   ]
  },
  {
   "cell_type": "code",
   "execution_count": 53,
   "metadata": {
    "execution": {
     "iopub.execute_input": "2022-02-22T08:15:04.647493Z",
     "iopub.status.busy": "2022-02-22T08:15:04.647143Z",
     "iopub.status.idle": "2022-02-22T08:15:39.336680Z",
     "shell.execute_reply": "2022-02-22T08:15:39.335647Z",
     "shell.execute_reply.started": "2022-02-22T08:15:04.647464Z"
    }
   },
   "outputs": [
    {
     "name": "stdout",
     "output_type": "stream",
     "text": [
      "--2022-02-22 08:15:05--  https://dl.fbaipublicfiles.com/fasttext/vectors-crawl/cc.ar.300.vec.gz\n",
      "Resolving dl.fbaipublicfiles.com (dl.fbaipublicfiles.com)... 104.22.74.142, 104.22.75.142, 172.67.9.4, ...\n",
      "Connecting to dl.fbaipublicfiles.com (dl.fbaipublicfiles.com)|104.22.74.142|:443... connected.\n",
      "HTTP request sent, awaiting response... 200 OK\n",
      "Length: 1272365870 (1.2G) [binary/octet-stream]\n",
      "Saving to: ‘cc.ar.300.vec.gz’\n",
      "\n",
      "cc.ar.300.vec.gz    100%[===================>]   1.18G  33.9MB/s    in 34s     \n",
      "\n",
      "2022-02-22 08:15:39 (36.2 MB/s) - ‘cc.ar.300.vec.gz’ saved [1272365870/1272365870]\n",
      "\n"
     ]
    }
   ],
   "source": [
    "!wget https://dl.fbaipublicfiles.com/fasttext/vectors-crawl/cc.ar.300.vec.gz"
   ]
  },
  {
   "cell_type": "code",
   "execution_count": 54,
   "metadata": {
    "execution": {
     "iopub.execute_input": "2022-02-22T08:15:39.339200Z",
     "iopub.status.busy": "2022-02-22T08:15:39.338568Z",
     "iopub.status.idle": "2022-02-22T08:16:21.084172Z",
     "shell.execute_reply": "2022-02-22T08:16:21.083340Z",
     "shell.execute_reply.started": "2022-02-22T08:15:39.339156Z"
    }
   },
   "outputs": [],
   "source": [
    "!gunzip cc.ar.300.vec.gz"
   ]
  },
  {
   "cell_type": "code",
   "execution_count": 55,
   "metadata": {
    "execution": {
     "iopub.execute_input": "2022-02-22T08:16:21.086378Z",
     "iopub.status.busy": "2022-02-22T08:16:21.086103Z",
     "iopub.status.idle": "2022-02-22T08:16:21.090885Z",
     "shell.execute_reply": "2022-02-22T08:16:21.090320Z",
     "shell.execute_reply.started": "2022-02-22T08:16:21.086348Z"
    }
   },
   "outputs": [],
   "source": [
    "f_ar = open('cc.ar.300.vec', encoding='utf-8')"
   ]
  },
  {
   "cell_type": "code",
   "execution_count": 56,
   "metadata": {
    "execution": {
     "iopub.execute_input": "2022-02-22T08:16:21.092028Z",
     "iopub.status.busy": "2022-02-22T08:16:21.091830Z",
     "iopub.status.idle": "2022-02-22T08:16:21.347403Z",
     "shell.execute_reply": "2022-02-22T08:16:21.346481Z",
     "shell.execute_reply.started": "2022-02-22T08:16:21.092004Z"
    }
   },
   "outputs": [],
   "source": [
    "X_train_ar1 = list(X_train_ar.tweet.values)\n",
    "X_test_ar1 = list(X_test_ar.tweet.values)\n",
    "\n",
    "tok_ar = Tokenizer()\n",
    "tok_ar.fit_on_texts(data_ar.tweet.values)\n",
    "word_index_ar = tok_ar.word_index\n",
    "\n",
    "#text to integer sequence\n",
    "X_train_ar1 = tok_ar.texts_to_sequences(X_train_ar1)\n",
    "X_test_ar1 = tok_ar.texts_to_sequences(X_test_ar1)"
   ]
  },
  {
   "cell_type": "code",
   "execution_count": 57,
   "metadata": {
    "execution": {
     "iopub.execute_input": "2022-02-22T08:16:21.349102Z",
     "iopub.status.busy": "2022-02-22T08:16:21.348856Z",
     "iopub.status.idle": "2022-02-22T08:16:21.355446Z",
     "shell.execute_reply": "2022-02-22T08:16:21.354321Z",
     "shell.execute_reply.started": "2022-02-22T08:16:21.349072Z"
    }
   },
   "outputs": [
    {
     "name": "stdout",
     "output_type": "stream",
     "text": [
      "32\n"
     ]
    }
   ],
   "source": [
    "tweets_length_ar= [len(X_train_ar1[i]) for i in range(len(X_train_ar1))]\n",
    "max_seq_len_ar = max(tweets_length_ar)\n",
    "print(max_seq_len_ar)"
   ]
  },
  {
   "cell_type": "code",
   "execution_count": 58,
   "metadata": {
    "execution": {
     "iopub.execute_input": "2022-02-22T08:16:21.357465Z",
     "iopub.status.busy": "2022-02-22T08:16:21.356646Z",
     "iopub.status.idle": "2022-02-22T08:16:21.387992Z",
     "shell.execute_reply": "2022-02-22T08:16:21.387066Z",
     "shell.execute_reply.started": "2022-02-22T08:16:21.357420Z"
    }
   },
   "outputs": [],
   "source": [
    "#padding\n",
    "X_train_ar1 = pad_sequences(X_train_ar1, padding='post', maxlen=max_seq_len_ar)\n",
    "X_test_ar1 = pad_sequences(X_test_ar1, padding='post', maxlen=max_seq_len_ar)"
   ]
  },
  {
   "cell_type": "code",
   "execution_count": 59,
   "metadata": {
    "execution": {
     "iopub.execute_input": "2022-02-22T08:16:21.390361Z",
     "iopub.status.busy": "2022-02-22T08:16:21.390080Z",
     "iopub.status.idle": "2022-02-22T08:16:21.397657Z",
     "shell.execute_reply": "2022-02-22T08:16:21.396688Z",
     "shell.execute_reply.started": "2022-02-22T08:16:21.390324Z"
    }
   },
   "outputs": [],
   "source": [
    "X_train_ar2 = X_train_ar[['sentiment', 'directness', 'annotator_sentiment', 'group']].values\n",
    "X_test_ar2 = X_test_ar[['sentiment', 'directness', 'annotator_sentiment', 'group']].values"
   ]
  },
  {
   "cell_type": "code",
   "execution_count": 60,
   "metadata": {
    "execution": {
     "iopub.execute_input": "2022-02-22T08:16:21.399540Z",
     "iopub.status.busy": "2022-02-22T08:16:21.399299Z",
     "iopub.status.idle": "2022-02-22T08:17:16.270026Z",
     "shell.execute_reply": "2022-02-22T08:17:16.268866Z",
     "shell.execute_reply.started": "2022-02-22T08:16:21.399502Z"
    }
   },
   "outputs": [
    {
     "data": {
      "application/vnd.jupyter.widget-view+json": {
       "model_id": "a793816056a248e9bfce85692edc9689",
       "version_major": 2,
       "version_minor": 0
      },
      "text/plain": [
       "  0%|          | 0/5258 [00:00<?, ?it/s]"
      ]
     },
     "metadata": {},
     "output_type": "display_data"
    }
   ],
   "source": [
    "embedding_matrix_ar = embedding_mat(f_ar, tok_ar.word_index)"
   ]
  },
  {
   "cell_type": "code",
   "execution_count": 87,
   "metadata": {
    "execution": {
     "iopub.execute_input": "2022-02-22T08:20:44.744369Z",
     "iopub.status.busy": "2022-02-22T08:20:44.744032Z",
     "iopub.status.idle": "2022-02-22T08:20:44.751428Z",
     "shell.execute_reply": "2022-02-22T08:20:44.750611Z",
     "shell.execute_reply.started": "2022-02-22T08:20:44.744333Z"
    }
   },
   "outputs": [
    {
     "data": {
      "text/plain": [
       "array([[ 0.        ,  0.        ,  0.        , ...,  0.        ,\n",
       "         0.        ,  0.        ],\n",
       "       [ 0.118     ,  0.0557    , -0.1025    , ..., -0.1733    ,\n",
       "         0.17219999, -0.0378    ],\n",
       "       [-0.0685    , -0.0172    , -0.0627    , ..., -0.003     ,\n",
       "        -0.0455    , -0.0132    ],\n",
       "       ...,\n",
       "       [-0.2146    , -0.138     , -0.162     , ..., -0.0513    ,\n",
       "        -0.1454    ,  0.0965    ],\n",
       "       [-0.0766    , -0.0803    , -0.0575    , ..., -0.0912    ,\n",
       "        -0.0048    ,  0.2097    ],\n",
       "       [ 0.007     , -0.0027    , -0.0526    , ...,  0.0451    ,\n",
       "        -0.018     , -0.0201    ]])"
      ]
     },
     "execution_count": 87,
     "metadata": {},
     "output_type": "execute_result"
    }
   ],
   "source": [
    "embedding_matrix_ar"
   ]
  },
  {
   "cell_type": "markdown",
   "metadata": {},
   "source": [
    "### 8.2 French"
   ]
  },
  {
   "cell_type": "code",
   "execution_count": 61,
   "metadata": {
    "execution": {
     "iopub.execute_input": "2022-02-22T08:17:16.272190Z",
     "iopub.status.busy": "2022-02-22T08:17:16.271956Z",
     "iopub.status.idle": "2022-02-22T08:17:49.416260Z",
     "shell.execute_reply": "2022-02-22T08:17:49.415496Z",
     "shell.execute_reply.started": "2022-02-22T08:17:16.272162Z"
    }
   },
   "outputs": [
    {
     "name": "stdout",
     "output_type": "stream",
     "text": [
      "--2022-02-22 08:17:16--  https://dl.fbaipublicfiles.com/fasttext/vectors-crawl/cc.fr.300.vec.gz\n",
      "Resolving dl.fbaipublicfiles.com (dl.fbaipublicfiles.com)... 104.22.75.142, 104.22.74.142, 172.67.9.4, ...\n",
      "Connecting to dl.fbaipublicfiles.com (dl.fbaipublicfiles.com)|104.22.75.142|:443... connected.\n",
      "HTTP request sent, awaiting response... 200 OK\n",
      "Length: 1287757366 (1.2G) [binary/octet-stream]\n",
      "Saving to: ‘cc.fr.300.vec.gz’\n",
      "\n",
      "cc.fr.300.vec.gz    100%[===================>]   1.20G  36.5MB/s    in 32s     \n",
      "\n",
      "2022-02-22 08:17:49 (38.4 MB/s) - ‘cc.fr.300.vec.gz’ saved [1287757366/1287757366]\n",
      "\n"
     ]
    }
   ],
   "source": [
    "#Loading embedding  model!\n",
    "!wget https://dl.fbaipublicfiles.com/fasttext/vectors-crawl/cc.fr.300.vec.gz"
   ]
  },
  {
   "cell_type": "code",
   "execution_count": 62,
   "metadata": {
    "execution": {
     "iopub.execute_input": "2022-02-22T08:17:49.418557Z",
     "iopub.status.busy": "2022-02-22T08:17:49.418269Z",
     "iopub.status.idle": "2022-02-22T08:18:31.715645Z",
     "shell.execute_reply": "2022-02-22T08:18:31.714322Z",
     "shell.execute_reply.started": "2022-02-22T08:17:49.418526Z"
    }
   },
   "outputs": [],
   "source": [
    "!gunzip cc.fr.300.vec.gz"
   ]
  },
  {
   "cell_type": "code",
   "execution_count": 63,
   "metadata": {
    "execution": {
     "iopub.execute_input": "2022-02-22T08:18:31.720271Z",
     "iopub.status.busy": "2022-02-22T08:18:31.719943Z",
     "iopub.status.idle": "2022-02-22T08:18:31.725383Z",
     "shell.execute_reply": "2022-02-22T08:18:31.724553Z",
     "shell.execute_reply.started": "2022-02-22T08:18:31.720235Z"
    }
   },
   "outputs": [],
   "source": [
    "f_fr = open('cc.fr.300.vec', encoding='utf-8')"
   ]
  },
  {
   "cell_type": "code",
   "execution_count": 64,
   "metadata": {
    "execution": {
     "iopub.execute_input": "2022-02-22T08:18:31.727401Z",
     "iopub.status.busy": "2022-02-22T08:18:31.727154Z",
     "iopub.status.idle": "2022-02-22T08:18:31.970561Z",
     "shell.execute_reply": "2022-02-22T08:18:31.969802Z",
     "shell.execute_reply.started": "2022-02-22T08:18:31.727370Z"
    }
   },
   "outputs": [],
   "source": [
    "X_train_fr1 = list(X_train_fr.tweet.values)\n",
    "X_test_fr1 = list(X_test_fr.tweet.values)\n",
    "\n",
    "tok_fr = Tokenizer()\n",
    "tok_fr.fit_on_texts(data_fr.tweet.values)\n",
    "#text to integer sequence\n",
    "X_train_fr1 = tok_fr.texts_to_sequences(X_train_fr1)\n",
    "X_test_fr1 = tok_fr.texts_to_sequences(X_test_fr1)"
   ]
  },
  {
   "cell_type": "code",
   "execution_count": 65,
   "metadata": {
    "execution": {
     "iopub.execute_input": "2022-02-22T08:18:31.972152Z",
     "iopub.status.busy": "2022-02-22T08:18:31.971580Z",
     "iopub.status.idle": "2022-02-22T08:18:31.979271Z",
     "shell.execute_reply": "2022-02-22T08:18:31.978427Z",
     "shell.execute_reply.started": "2022-02-22T08:18:31.972119Z"
    }
   },
   "outputs": [
    {
     "name": "stdout",
     "output_type": "stream",
     "text": [
      "45\n"
     ]
    }
   ],
   "source": [
    "#counting the length of the tweet and taking the max\n",
    "tweets_length_fr= [len(X_train_fr1[i]) for i in range(len(X_train_fr1))]\n",
    "max_seq_len_fr = max(tweets_length_fr)\n",
    "print(max_seq_len_fr)"
   ]
  },
  {
   "cell_type": "code",
   "execution_count": 66,
   "metadata": {
    "execution": {
     "iopub.execute_input": "2022-02-22T08:18:31.980719Z",
     "iopub.status.busy": "2022-02-22T08:18:31.980519Z",
     "iopub.status.idle": "2022-02-22T08:18:32.060473Z",
     "shell.execute_reply": "2022-02-22T08:18:32.059630Z",
     "shell.execute_reply.started": "2022-02-22T08:18:31.980694Z"
    }
   },
   "outputs": [],
   "source": [
    "#padding\n",
    "X_train_fr1 = pad_sequences(X_train_fr1, maxlen=max_seq_len_fr)\n",
    "X_test_fr1 = pad_sequences(X_test_fr1, maxlen=max_seq_len_fr)"
   ]
  },
  {
   "cell_type": "code",
   "execution_count": 67,
   "metadata": {
    "execution": {
     "iopub.execute_input": "2022-02-22T08:18:32.062015Z",
     "iopub.status.busy": "2022-02-22T08:18:32.061774Z",
     "iopub.status.idle": "2022-02-22T08:18:32.071637Z",
     "shell.execute_reply": "2022-02-22T08:18:32.069712Z",
     "shell.execute_reply.started": "2022-02-22T08:18:32.061986Z"
    }
   },
   "outputs": [],
   "source": [
    "X_train_fr2 = X_train_fr[['sentiment', 'directness', 'annotator_sentiment', 'group']].values\n",
    "X_test_fr2 = X_test_fr[['sentiment', 'directness', 'annotator_sentiment', 'group']].values"
   ]
  },
  {
   "cell_type": "code",
   "execution_count": 68,
   "metadata": {
    "execution": {
     "iopub.execute_input": "2022-02-22T08:18:32.073680Z",
     "iopub.status.busy": "2022-02-22T08:18:32.073172Z",
     "iopub.status.idle": "2022-02-22T08:19:14.463026Z",
     "shell.execute_reply": "2022-02-22T08:19:14.462066Z",
     "shell.execute_reply.started": "2022-02-22T08:18:32.073643Z"
    }
   },
   "outputs": [
    {
     "data": {
      "application/vnd.jupyter.widget-view+json": {
       "model_id": "a55f91ed55ad47b7a50fddae15718c62",
       "version_major": 2,
       "version_minor": 0
      },
      "text/plain": [
       "  0%|          | 0/17128 [00:00<?, ?it/s]"
      ]
     },
     "metadata": {},
     "output_type": "display_data"
    }
   ],
   "source": [
    "embedding_matrix_fr = embedding_mat(f_fr, tok_fr.word_index)"
   ]
  },
  {
   "cell_type": "code",
   "execution_count": 88,
   "metadata": {
    "execution": {
     "iopub.execute_input": "2022-02-22T08:21:02.518933Z",
     "iopub.status.busy": "2022-02-22T08:21:02.518620Z",
     "iopub.status.idle": "2022-02-22T08:21:02.526203Z",
     "shell.execute_reply": "2022-02-22T08:21:02.525303Z",
     "shell.execute_reply.started": "2022-02-22T08:21:02.518899Z"
    }
   },
   "outputs": [
    {
     "data": {
      "text/plain": [
       "array([[ 0.        ,  0.        ,  0.        , ...,  0.        ,\n",
       "         0.        ,  0.        ],\n",
       "       [ 0.0092    ,  0.0073    , -0.2033    , ...,  0.2112    ,\n",
       "        -0.0495    ,  0.30689999],\n",
       "       [ 0.0314    ,  0.0079    , -0.0479    , ..., -0.1899    ,\n",
       "        -0.0904    ,  0.1381    ],\n",
       "       ...,\n",
       "       [-0.072     ,  0.001     , -0.0142    , ..., -0.0603    ,\n",
       "         0.0343    , -0.0128    ],\n",
       "       [ 0.        ,  0.        ,  0.        , ...,  0.        ,\n",
       "         0.        ,  0.        ],\n",
       "       [-0.0151    ,  0.1251    ,  0.0714    , ...,  0.0114    ,\n",
       "         0.0629    , -0.0035    ]])"
      ]
     },
     "execution_count": 88,
     "metadata": {},
     "output_type": "execute_result"
    }
   ],
   "source": [
    "embedding_matrix_fr"
   ]
  },
  {
   "cell_type": "markdown",
   "metadata": {},
   "source": [
    "## 9. Model"
   ]
  },
  {
   "cell_type": "markdown",
   "metadata": {},
   "source": [
    "### 9.1 Building model"
   ]
  },
  {
   "cell_type": "code",
   "execution_count": 69,
   "metadata": {
    "execution": {
     "iopub.execute_input": "2022-02-22T08:19:14.464777Z",
     "iopub.status.busy": "2022-02-22T08:19:14.464523Z",
     "iopub.status.idle": "2022-02-22T08:19:14.517766Z",
     "shell.execute_reply": "2022-02-22T08:19:14.516872Z",
     "shell.execute_reply.started": "2022-02-22T08:19:14.464747Z"
    }
   },
   "outputs": [],
   "source": [
    "input_fr_1 = Input(shape=(max_seq_len_fr,))\n",
    "input_ar_1 = Input(shape=(max_seq_len_ar,))\n",
    "input_2 = Input(shape=(4,))"
   ]
  },
  {
   "cell_type": "code",
   "execution_count": 70,
   "metadata": {
    "execution": {
     "iopub.execute_input": "2022-02-22T08:19:14.519344Z",
     "iopub.status.busy": "2022-02-22T08:19:14.519124Z",
     "iopub.status.idle": "2022-02-22T08:19:14.525268Z",
     "shell.execute_reply": "2022-02-22T08:19:14.524696Z",
     "shell.execute_reply.started": "2022-02-22T08:19:14.519318Z"
    }
   },
   "outputs": [],
   "source": [
    "nb_words_fr = len(tok_fr.word_index)+1\n",
    "embedding_layer_fr = Embedding(\n",
    "                            nb_words_fr, \n",
    "                            100,  \n",
    "                            weights=[embedding_matrix_fr],\n",
    "                            trainable=False,\n",
    "                    )"
   ]
  },
  {
   "cell_type": "code",
   "execution_count": 71,
   "metadata": {
    "execution": {
     "iopub.execute_input": "2022-02-22T08:19:14.526939Z",
     "iopub.status.busy": "2022-02-22T08:19:14.526550Z",
     "iopub.status.idle": "2022-02-22T08:19:14.539518Z",
     "shell.execute_reply": "2022-02-22T08:19:14.538677Z",
     "shell.execute_reply.started": "2022-02-22T08:19:14.526909Z"
    }
   },
   "outputs": [],
   "source": [
    "nb_words_ar = len(tok_ar.word_index)+1\n",
    "embedding_layer_ar = Embedding(\n",
    "                            nb_words_ar, \n",
    "                            100,  \n",
    "                            weights=[embedding_matrix_ar],\n",
    "                            trainable=False,\n",
    "                    )"
   ]
  },
  {
   "cell_type": "code",
   "execution_count": 144,
   "metadata": {
    "execution": {
     "iopub.execute_input": "2022-02-22T08:39:45.031335Z",
     "iopub.status.busy": "2022-02-22T08:39:45.030975Z",
     "iopub.status.idle": "2022-02-22T08:39:45.040404Z",
     "shell.execute_reply": "2022-02-22T08:39:45.039381Z",
     "shell.execute_reply.started": "2022-02-22T08:39:45.031299Z"
    }
   },
   "outputs": [],
   "source": [
    "def NN(lang,input_1,input_2):\n",
    "    if lang=='AR':  \n",
    "        embedding_layer = embedding_layer_ar(input_1)\n",
    "    else:\n",
    "        embedding_layer = embedding_layer_fr(input_1)\n",
    "\n",
    "    lstm = LSTM(128)(embedding_layer)\n",
    "    dense_layer_1 = Dense(10, activation='relu')(input_2)\n",
    "    dense_layer_2 = Dense(10, activation='relu')(dense_layer_1)\n",
    "    concat_layer = Concatenate()([lstm, dense_layer_2])\n",
    "    dense_layer_3 = Dense(10, activation='relu')(concat_layer)\n",
    "    \n",
    "    output = Dense(1, activation='sigmoid')(dense_layer_3)\n",
    "    \n",
    "    model = Model(inputs=[input_1, input_2], outputs=output)\n",
    "    \n",
    "    plot_model(model, to_file='model.png', show_shapes=True, show_layer_names=True)\n",
    "    return model"
   ]
  },
  {
   "cell_type": "code",
   "execution_count": 145,
   "metadata": {
    "execution": {
     "iopub.execute_input": "2022-02-22T08:39:45.633886Z",
     "iopub.status.busy": "2022-02-22T08:39:45.633058Z",
     "iopub.status.idle": "2022-02-22T08:39:45.644789Z",
     "shell.execute_reply": "2022-02-22T08:39:45.643858Z",
     "shell.execute_reply.started": "2022-02-22T08:39:45.633840Z"
    }
   },
   "outputs": [
    {
     "data": {
      "text/plain": [
       "[array([[ 0.    ,  0.    ,  0.    , ...,  0.    ,  0.    ,  0.    ],\n",
       "        [ 0.118 ,  0.0557, -0.1025, ..., -0.1733,  0.1722, -0.0378],\n",
       "        [-0.0685, -0.0172, -0.0627, ..., -0.003 , -0.0455, -0.0132],\n",
       "        ...,\n",
       "        [-0.2146, -0.138 , -0.162 , ..., -0.0513, -0.1454,  0.0965],\n",
       "        [-0.0766, -0.0803, -0.0575, ..., -0.0912, -0.0048,  0.2097],\n",
       "        [ 0.007 , -0.0027, -0.0526, ...,  0.0451, -0.018 , -0.0201]],\n",
       "       dtype=float32)]"
      ]
     },
     "execution_count": 145,
     "metadata": {},
     "output_type": "execute_result"
    }
   ],
   "source": [
    "embedding_layer_ar.get_weights()"
   ]
  },
  {
   "cell_type": "code",
   "execution_count": 146,
   "metadata": {
    "execution": {
     "iopub.execute_input": "2022-02-22T08:39:46.712379Z",
     "iopub.status.busy": "2022-02-22T08:39:46.711916Z",
     "iopub.status.idle": "2022-02-22T08:39:46.727944Z",
     "shell.execute_reply": "2022-02-22T08:39:46.727230Z",
     "shell.execute_reply.started": "2022-02-22T08:39:46.712346Z"
    }
   },
   "outputs": [
    {
     "data": {
      "text/plain": [
       "array([[ 0.    ,  0.    ,  0.    , ...,  0.    ,  0.    ,  0.    ],\n",
       "       [ 0.0092,  0.0073, -0.2033, ...,  0.2112, -0.0495,  0.3069],\n",
       "       [ 0.0314,  0.0079, -0.0479, ..., -0.1899, -0.0904,  0.1381],\n",
       "       ...,\n",
       "       [-0.072 ,  0.001 , -0.0142, ..., -0.0603,  0.0343, -0.0128],\n",
       "       [ 0.    ,  0.    ,  0.    , ...,  0.    ,  0.    ,  0.    ],\n",
       "       [-0.0151,  0.1251,  0.0714, ...,  0.0114,  0.0629, -0.0035]],\n",
       "      dtype=float32)"
      ]
     },
     "execution_count": 146,
     "metadata": {},
     "output_type": "execute_result"
    }
   ],
   "source": [
    "embedding_layer_fr.get_weights()[0]"
   ]
  },
  {
   "cell_type": "markdown",
   "metadata": {},
   "source": [
    "### 9.2 Training Model"
   ]
  },
  {
   "cell_type": "code",
   "execution_count": 147,
   "metadata": {
    "execution": {
     "iopub.execute_input": "2022-02-22T08:39:48.157257Z",
     "iopub.status.busy": "2022-02-22T08:39:48.156954Z",
     "iopub.status.idle": "2022-02-22T08:39:48.165899Z",
     "shell.execute_reply": "2022-02-22T08:39:48.161521Z",
     "shell.execute_reply.started": "2022-02-22T08:39:48.157228Z"
    }
   },
   "outputs": [],
   "source": [
    "#hyperparameters\n",
    "num_epochs = 10\n",
    "batch_size = 64\n",
    "early = callbacks.EarlyStopping(monitor='val_loss',\n",
    "                                min_delta=0, \n",
    "                                patience=3,\n",
    "                                verbose=1, \n",
    "                                mode='auto')"
   ]
  },
  {
   "cell_type": "markdown",
   "metadata": {},
   "source": [
    "### 9.2.1 French"
   ]
  },
  {
   "cell_type": "code",
   "execution_count": 148,
   "metadata": {
    "execution": {
     "iopub.execute_input": "2022-02-22T08:39:49.281476Z",
     "iopub.status.busy": "2022-02-22T08:39:49.280934Z",
     "iopub.status.idle": "2022-02-22T08:40:52.045939Z",
     "shell.execute_reply": "2022-02-22T08:40:52.044850Z",
     "shell.execute_reply.started": "2022-02-22T08:39:49.281426Z"
    }
   },
   "outputs": [
    {
     "name": "stdout",
     "output_type": "stream",
     "text": [
      "French:\n",
      "Epoch 1/10\n",
      "147/147 [==============================] - 13s 76ms/step - loss: 0.6127 - accuracy: 0.7343 - val_loss: 0.4923 - val_accuracy: 0.7752\n",
      "Epoch 2/10\n",
      "147/147 [==============================] - 10s 65ms/step - loss: 0.4440 - accuracy: 0.8183 - val_loss: 0.4658 - val_accuracy: 0.7925\n",
      "Epoch 3/10\n",
      "147/147 [==============================] - 10s 66ms/step - loss: 0.3980 - accuracy: 0.8456 - val_loss: 0.3037 - val_accuracy: 0.8886\n",
      "Epoch 4/10\n",
      "147/147 [==============================] - 10s 70ms/step - loss: 0.3958 - accuracy: 0.8478 - val_loss: 0.3897 - val_accuracy: 0.8463\n",
      "Epoch 5/10\n",
      "147/147 [==============================] - 10s 65ms/step - loss: 0.3775 - accuracy: 0.8594 - val_loss: 0.3910 - val_accuracy: 0.8482\n",
      "Epoch 6/10\n",
      "147/147 [==============================] - 10s 66ms/step - loss: 0.3738 - accuracy: 0.8662 - val_loss: 0.3848 - val_accuracy: 0.8453\n",
      "Epoch 00006: early stopping\n"
     ]
    }
   ],
   "source": [
    "model_fr = NN('FR',input_fr_1,input_2)\n",
    "model_fr.compile(optimizer = 'sgd',\n",
    "                 loss = 'binary_crossentropy', \n",
    "                 metrics = ['accuracy'])\n",
    "\n",
    "print('French:')\n",
    "Xfr = [X_train_fr1,X_train_fr2]\n",
    "history_fr = model_fr.fit(Xfr,\n",
    "                          y_train_fr.astype('float32'),\n",
    "                          batch_size=batch_size,\n",
    "                          epochs=num_epochs,\n",
    "                          validation_split=0.1,\n",
    "                          callbacks = [early],\n",
    "                          verbose=1)"
   ]
  },
  {
   "cell_type": "markdown",
   "metadata": {},
   "source": [
    "### 9.2.2 Arabic"
   ]
  },
  {
   "cell_type": "code",
   "execution_count": 151,
   "metadata": {
    "execution": {
     "iopub.execute_input": "2022-02-22T08:41:30.353004Z",
     "iopub.status.busy": "2022-02-22T08:41:30.352716Z",
     "iopub.status.idle": "2022-02-22T08:41:50.961095Z",
     "shell.execute_reply": "2022-02-22T08:41:50.959983Z",
     "shell.execute_reply.started": "2022-02-22T08:41:30.352976Z"
    }
   },
   "outputs": [
    {
     "name": "stdout",
     "output_type": "stream",
     "text": [
      "Arabic:\n",
      "Epoch 1/10\n",
      "35/35 [==============================] - 5s 65ms/step - loss: 0.6338 - accuracy: 0.6621 - val_loss: 0.5834 - val_accuracy: 0.7202\n",
      "Epoch 2/10\n",
      "35/35 [==============================] - 2s 48ms/step - loss: 0.5753 - accuracy: 0.7275 - val_loss: 0.5591 - val_accuracy: 0.7325\n",
      "Epoch 3/10\n",
      "35/35 [==============================] - 2s 51ms/step - loss: 0.5456 - accuracy: 0.7471 - val_loss: 0.5194 - val_accuracy: 0.7531\n",
      "Epoch 4/10\n",
      "35/35 [==============================] - 2s 48ms/step - loss: 0.5161 - accuracy: 0.7586 - val_loss: 0.5160 - val_accuracy: 0.7613\n",
      "Epoch 5/10\n",
      "35/35 [==============================] - 2s 48ms/step - loss: 0.4994 - accuracy: 0.7641 - val_loss: 0.4942 - val_accuracy: 0.7942\n",
      "Epoch 6/10\n",
      "35/35 [==============================] - 2s 48ms/step - loss: 0.4712 - accuracy: 0.7819 - val_loss: 0.4575 - val_accuracy: 0.7942\n",
      "Epoch 7/10\n",
      "35/35 [==============================] - 2s 48ms/step - loss: 0.4553 - accuracy: 0.7920 - val_loss: 0.4510 - val_accuracy: 0.7901\n",
      "Epoch 8/10\n",
      "35/35 [==============================] - 2s 47ms/step - loss: 0.4426 - accuracy: 0.7979 - val_loss: 0.4292 - val_accuracy: 0.7984\n",
      "Epoch 9/10\n",
      "35/35 [==============================] - 2s 49ms/step - loss: 0.4360 - accuracy: 0.8020 - val_loss: 0.4727 - val_accuracy: 0.7778\n",
      "Epoch 10/10\n",
      "35/35 [==============================] - 2s 48ms/step - loss: 0.4286 - accuracy: 0.8070 - val_loss: 0.4444 - val_accuracy: 0.7942\n"
     ]
    }
   ],
   "source": [
    "model_ar = NN('AR',input_ar_1,input_2)\n",
    "model_ar.compile(optimizer = 'sgd',\n",
    "                 loss = 'binary_crossentropy', \n",
    "                 metrics = ['accuracy'])\n",
    "\n",
    "print('Arabic:')\n",
    "Xar = [np.asarray(X_train_ar1), np.asarray(X_train_ar2)]\n",
    "history_ar = model_ar.fit(Xar,\n",
    "                          y_train_ar.astype(np.float32),\n",
    "                          batch_size=batch_size,\n",
    "                          epochs=num_epochs,\n",
    "                          validation_split=0.1,\n",
    "                          callbacks = [early],\n",
    "                          verbose=1)"
   ]
  },
  {
   "cell_type": "markdown",
   "metadata": {},
   "source": [
    "### 9.3 Evaluating & Testing model"
   ]
  },
  {
   "cell_type": "markdown",
   "metadata": {},
   "source": [
    "#### 9.3.1 Help functions"
   ]
  },
  {
   "cell_type": "code",
   "execution_count": 137,
   "metadata": {
    "execution": {
     "iopub.execute_input": "2022-02-22T08:38:23.611556Z",
     "iopub.status.busy": "2022-02-22T08:38:23.611234Z",
     "iopub.status.idle": "2022-02-22T08:38:23.623551Z",
     "shell.execute_reply": "2022-02-22T08:38:23.622455Z",
     "shell.execute_reply.started": "2022-02-22T08:38:23.611523Z"
    }
   },
   "outputs": [],
   "source": [
    "def plot_acc_loss(history):\n",
    "    \"\"\"\n",
    "    Plot accuracy and loss of a model\n",
    "    @params:\n",
    "            - history: history of the model\n",
    "    @return:\n",
    "            plots\n",
    "    \"\"\"\n",
    "    fig,ax = plt.subplots(1,2,figsize=(10,5))\n",
    "    l = list(history.history.keys())\n",
    "    print(l)\n",
    "    # accuracy plot\n",
    "    ax[0].plot(history.history[l[1]])\n",
    "    ax[0].plot(history.history[l[3]])\n",
    "    ax[0].set_title('model accuracy')\n",
    "    ax[0].set_ylabel('accuracy')\n",
    "    ax[0].set_xlabel('epoch')\n",
    "    ax[0].legend(['train', 'test'], loc='upper left')\n",
    "    # loss plot\n",
    "    ax[1].plot(history.history[l[0]])\n",
    "    ax[1].plot(history.history[l[2]])\n",
    "    ax[1].set_title('model loss')\n",
    "    ax[1].set_ylabel('loss')\n",
    "    ax[1].set_xlabel('epoch')\n",
    "    ax[1].legend(['train', 'test'], loc='upper left')"
   ]
  },
  {
   "cell_type": "code",
   "execution_count": 152,
   "metadata": {
    "execution": {
     "iopub.execute_input": "2022-02-22T08:42:03.883566Z",
     "iopub.status.busy": "2022-02-22T08:42:03.882801Z",
     "iopub.status.idle": "2022-02-22T08:42:03.890839Z",
     "shell.execute_reply": "2022-02-22T08:42:03.889615Z",
     "shell.execute_reply.started": "2022-02-22T08:42:03.883493Z"
    }
   },
   "outputs": [],
   "source": [
    "def predicted_label(model,x):\n",
    "    pred = model.predict(x)\n",
    "    lab_pred = []\n",
    "    for i in range(len(pred)):\n",
    "        if pred[i][0]>=0.5:\n",
    "            lab_pred.append(1)\n",
    "        else:\n",
    "            lab_pred.append(0)\n",
    "    return lab_pred"
   ]
  },
  {
   "cell_type": "code",
   "execution_count": 153,
   "metadata": {
    "execution": {
     "iopub.execute_input": "2022-02-22T08:42:04.316609Z",
     "iopub.status.busy": "2022-02-22T08:42:04.315933Z",
     "iopub.status.idle": "2022-02-22T08:42:04.323097Z",
     "shell.execute_reply": "2022-02-22T08:42:04.322093Z",
     "shell.execute_reply.started": "2022-02-22T08:42:04.316553Z"
    }
   },
   "outputs": [],
   "source": [
    "def plot_cm(model,x,y):\n",
    "    pred = model.predict(x)\n",
    "    y_pred = predicted_label(model,x)\n",
    "    cm = confusion_matrix(list(y),y_pred)  \n",
    "    sn.heatmap(cm, annot=True)"
   ]
  },
  {
   "cell_type": "markdown",
   "metadata": {},
   "source": [
    "#### 9.3.2 Arabic"
   ]
  },
  {
   "cell_type": "code",
   "execution_count": 154,
   "metadata": {
    "execution": {
     "iopub.execute_input": "2022-02-22T08:42:05.545164Z",
     "iopub.status.busy": "2022-02-22T08:42:05.544838Z",
     "iopub.status.idle": "2022-02-22T08:42:05.933663Z",
     "shell.execute_reply": "2022-02-22T08:42:05.932733Z",
     "shell.execute_reply.started": "2022-02-22T08:42:05.545128Z"
    }
   },
   "outputs": [
    {
     "name": "stdout",
     "output_type": "stream",
     "text": [
      "['loss', 'accuracy', 'val_loss', 'val_accuracy']\n"
     ]
    },
    {
     "data": {
      "image/png": "[encoded data removed]",
      "text/plain": [
       "<Figure size 720x360 with 2 Axes>"
      ]
     },
     "metadata": {
      "needs_background": "light"
     },
     "output_type": "display_data"
    }
   ],
   "source": [
    "plot_acc_loss(history_ar)"
   ]
  },
  {
   "cell_type": "code",
   "execution_count": 155,
   "metadata": {
    "execution": {
     "iopub.execute_input": "2022-02-22T08:42:53.341657Z",
     "iopub.status.busy": "2022-02-22T08:42:53.341318Z",
     "iopub.status.idle": "2022-02-22T08:42:54.374108Z",
     "shell.execute_reply": "2022-02-22T08:42:54.373233Z",
     "shell.execute_reply.started": "2022-02-22T08:42:53.341619Z"
    }
   },
   "outputs": [
    {
     "name": "stdout",
     "output_type": "stream",
     "text": [
      "Confusion Matrix for arabic dataset\n"
     ]
    },
    {
     "data": {
      "image/png": "[encoded data removed]",
      "text/plain": [
       "<Figure size 432x288 with 2 Axes>"
      ]
     },
     "metadata": {
      "needs_background": "light"
     },
     "output_type": "display_data"
    }
   ],
   "source": [
    "print(\"Confusion Matrix for arabic dataset\")\n",
    "Xtestar = [np.asarray(X_test_ar1), np.asarray(X_test_ar2)]\n",
    "plot_cm(model_ar,Xtestar,y_test_ar)"
   ]
  },
  {
   "cell_type": "code",
   "execution_count": 156,
   "metadata": {
    "execution": {
     "iopub.execute_input": "2022-02-22T08:42:56.246674Z",
     "iopub.status.busy": "2022-02-22T08:42:56.246150Z",
     "iopub.status.idle": "2022-02-22T08:42:56.436733Z",
     "shell.execute_reply": "2022-02-22T08:42:56.435760Z",
     "shell.execute_reply.started": "2022-02-22T08:42:56.246619Z"
    }
   },
   "outputs": [
    {
     "name": "stdout",
     "output_type": "stream",
     "text": [
      "9/9 [==============================] - 0s 12ms/step - loss: 0.4288 - accuracy: 0.7926\n",
      "Test accuracy: 0.7925925850868225\n"
     ]
    }
   ],
   "source": [
    "test_loss_ar, test_acc_ar = model_ar.evaluate(Xtestar,y_test_ar.astype(np.float32))\n",
    "print('Test accuracy:', test_acc_ar)"
   ]
  },
  {
   "cell_type": "code",
   "execution_count": 157,
   "metadata": {
    "execution": {
     "iopub.execute_input": "2022-02-22T08:42:58.387193Z",
     "iopub.status.busy": "2022-02-22T08:42:58.386898Z",
     "iopub.status.idle": "2022-02-22T08:42:58.562014Z",
     "shell.execute_reply": "2022-02-22T08:42:58.561147Z",
     "shell.execute_reply.started": "2022-02-22T08:42:58.387160Z"
    }
   },
   "outputs": [
    {
     "name": "stdout",
     "output_type": "stream",
     "text": [
      "Accuracy: 0.792593\n",
      "Precision: 0.776892\n",
      "Recall: 1.000000\n",
      "F1 score: 0.874439\n"
     ]
    }
   ],
   "source": [
    "pred_ar =predicted_label(model_ar,Xtestar)\n",
    "# accuracy: (tp + tn) / (p + n)\n",
    "accuracy_ar = accuracy_score(list(y_test_ar), pred_ar)\n",
    "print('Accuracy: %f' % accuracy_ar)\n",
    "# precision tp / (tp + fp)\n",
    "precision_ar = precision_score(list(y_test_ar), pred_ar)\n",
    "print('Precision: %f' % precision_ar)\n",
    "# recall: tp / (tp + fn)\n",
    "recall_ar = recall_score(list(y_test_ar), pred_ar)\n",
    "print('Recall: %f' % recall_ar)\n",
    "# f1: 2 tp / (2 tp + fp + fn)\n",
    "f1_ar = f1_score(list(y_test_ar), pred_ar)\n",
    "print('F1 score: %f' % f1_ar)"
   ]
  },
  {
   "cell_type": "markdown",
   "metadata": {},
   "source": [
    "#### 9.3.4 French"
   ]
  },
  {
   "cell_type": "code",
   "execution_count": 158,
   "metadata": {
    "execution": {
     "iopub.execute_input": "2022-02-22T08:43:00.477905Z",
     "iopub.status.busy": "2022-02-22T08:43:00.477442Z",
     "iopub.status.idle": "2022-02-22T08:43:00.878966Z",
     "shell.execute_reply": "2022-02-22T08:43:00.878113Z",
     "shell.execute_reply.started": "2022-02-22T08:43:00.477872Z"
    }
   },
   "outputs": [
    {
     "name": "stdout",
     "output_type": "stream",
     "text": [
      "['loss', 'accuracy', 'val_loss', 'val_accuracy']\n"
     ]
    },
    {
     "data": {
      "image/png": "[encoded data removed]",
      "text/plain": [
       "<Figure size 720x360 with 2 Axes>"
      ]
     },
     "metadata": {
      "needs_background": "light"
     },
     "output_type": "display_data"
    }
   ],
   "source": [
    "plot_acc_loss(history_fr)"
   ]
  },
  {
   "cell_type": "code",
   "execution_count": 159,
   "metadata": {
    "execution": {
     "iopub.execute_input": "2022-02-22T08:43:03.595965Z",
     "iopub.status.busy": "2022-02-22T08:43:03.595646Z",
     "iopub.status.idle": "2022-02-22T08:43:05.603383Z",
     "shell.execute_reply": "2022-02-22T08:43:05.602371Z",
     "shell.execute_reply.started": "2022-02-22T08:43:03.595931Z"
    }
   },
   "outputs": [
    {
     "name": "stdout",
     "output_type": "stream",
     "text": [
      "Confusion Matrix for french dataset\n"
     ]
    },
    {
     "data": {
      "image/png": "[encoded data removed]",
      "text/plain": [
       "<Figure size 432x288 with 2 Axes>"
      ]
     },
     "metadata": {
      "needs_background": "light"
     },
     "output_type": "display_data"
    }
   ],
   "source": [
    "print(\"Confusion Matrix for french dataset\")\n",
    "Xtestfr = [np.asarray(X_test_fr1), np.asarray(X_test_fr2)]\n",
    "plot_cm(model_fr,Xtestfr,y_test_fr)"
   ]
  },
  {
   "cell_type": "code",
   "execution_count": 160,
   "metadata": {
    "execution": {
     "iopub.execute_input": "2022-02-22T08:43:09.672113Z",
     "iopub.status.busy": "2022-02-22T08:43:09.671795Z",
     "iopub.status.idle": "2022-02-22T08:43:10.373144Z",
     "shell.execute_reply": "2022-02-22T08:43:10.372314Z",
     "shell.execute_reply.started": "2022-02-22T08:43:09.672083Z"
    }
   },
   "outputs": [
    {
     "name": "stdout",
     "output_type": "stream",
     "text": [
      "37/37 [==============================] - 1s 17ms/step - loss: 0.3758 - accuracy: 0.8496\n",
      "Test accuracy: 0.8496110439300537\n"
     ]
    }
   ],
   "source": [
    "test_loss, test_acc = model_fr.evaluate(Xtestfr,y_test_fr.astype(np.float32))\n",
    "print('Test accuracy:', test_acc)"
   ]
  },
  {
   "cell_type": "code",
   "execution_count": 161,
   "metadata": {
    "execution": {
     "iopub.execute_input": "2022-02-22T08:43:11.852693Z",
     "iopub.status.busy": "2022-02-22T08:43:11.852411Z",
     "iopub.status.idle": "2022-02-22T08:43:12.515265Z",
     "shell.execute_reply": "2022-02-22T08:43:12.514335Z",
     "shell.execute_reply.started": "2022-02-22T08:43:11.852664Z"
    }
   },
   "outputs": [
    {
     "name": "stdout",
     "output_type": "stream",
     "text": [
      "Accuracy: 0.849611\n",
      "Precision: 0.811484\n",
      "Recall: 1.000000\n",
      "F1 score: 0.895933\n"
     ]
    }
   ],
   "source": [
    "pred_fr =predicted_label(model_fr,Xtestfr)\n",
    "# accuracy: (tp + tn) / (p + n)\n",
    "accuracy_fr = accuracy_score(list(y_test_fr), pred_fr)\n",
    "print('Accuracy: %f' % accuracy_fr)\n",
    "# precision tp / (tp + fp)\n",
    "precision_fr = precision_score(list(y_test_fr), pred_fr)\n",
    "print('Precision: %f' % precision_fr)\n",
    "# recall: tp / (tp + fn)\n",
    "recall_fr = recall_score(list(y_test_fr), pred_fr)\n",
    "\n",
    "print('Recall: %f' % recall_fr)\n",
    "# f1: 2 tp / (2 tp + fp + fn)\n",
    "f1_fr = f1_score(list(y_test_fr), pred_fr)\n",
    "print('F1 score: %f' % f1_fr)\n"
   ]
  },
  {
   "cell_type": "code",
   "execution_count": null,
   "metadata": {},
   "outputs": [],
   "source": []
  }
 ],
 "metadata": {
  "kernelspec": {
   "display_name": "Python 3 (ipykernel)",
   "language": "python",
   "name": "python3"
  },
  "language_info": {
   "codemirror_mode": {
    "name": "ipython",
    "version": 3
   },
   "file_extension": ".py",
   "mimetype": "text/x-python",
   "name": "python",
   "nbconvert_exporter": "python",
   "pygments_lexer": "ipython3",
   "version": "3.9.7"
  }
 },
 "nbformat": 4,
 "nbformat_minor": 4
}
