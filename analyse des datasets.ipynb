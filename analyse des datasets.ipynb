{
 "cells": [
  {
   "cell_type": "code",
   "execution_count": 1,
   "id": "a776e792",
   "metadata": {},
   "outputs": [],
   "source": [
    "import pandas as pd\n",
    "import matplotlib.pyplot as plt\n",
    "import seaborn as sns\n",
    "import warnings\n",
    "warnings.filterwarnings('ignore')\n",
    "import numpy as np\n",
    "import pandas as pd\n",
    "import seaborn as sns\n",
    "\n",
    "en_df = pd.read_csv('en_dataset.csv')\n",
    "fr_df = pd.read_csv('fr_dataset.csv')\n",
    "ar_df = pd.read_csv('ar_dataset.csv')\n",
    "fr_df2 = pd.read_csv('french_tweets.csv')# this dataset is not interesting for the task!"
   ]
  },
  {
   "cell_type": "code",
   "execution_count": 2,
   "id": "678d437f",
   "metadata": {},
   "outputs": [
    {
     "data": {
      "text/html": [
       "<div>\n",
       "<style scoped>\n",
       "    .dataframe tbody tr th:only-of-type {\n",
       "        vertical-align: middle;\n",
       "    }\n",
       "\n",
       "    .dataframe tbody tr th {\n",
       "        vertical-align: top;\n",
       "    }\n",
       "\n",
       "    .dataframe thead th {\n",
       "        text-align: right;\n",
       "    }\n",
       "</style>\n",
       "<table border=\"1\" class=\"dataframe\">\n",
       "  <thead>\n",
       "    <tr style=\"text-align: right;\">\n",
       "      <th></th>\n",
       "      <th>label</th>\n",
       "      <th>text</th>\n",
       "    </tr>\n",
       "  </thead>\n",
       "  <tbody>\n",
       "    <tr>\n",
       "      <th>0</th>\n",
       "      <td>0</td>\n",
       "      <td>- Awww, c'est un bummer. Tu devrais avoir davi...</td>\n",
       "    </tr>\n",
       "    <tr>\n",
       "      <th>1</th>\n",
       "      <td>0</td>\n",
       "      <td>Est contrarié qu'il ne puisse pas mettre à jou...</td>\n",
       "    </tr>\n",
       "    <tr>\n",
       "      <th>2</th>\n",
       "      <td>0</td>\n",
       "      <td>J'ai plongé plusieurs fois pour la balle. A ré...</td>\n",
       "    </tr>\n",
       "    <tr>\n",
       "      <th>3</th>\n",
       "      <td>0</td>\n",
       "      <td>Tout mon corps a des démangeaisons et comme si...</td>\n",
       "    </tr>\n",
       "    <tr>\n",
       "      <th>4</th>\n",
       "      <td>0</td>\n",
       "      <td>Non, il ne se comporte pas du tout. je suis en...</td>\n",
       "    </tr>\n",
       "    <tr>\n",
       "      <th>...</th>\n",
       "      <td>...</td>\n",
       "      <td>...</td>\n",
       "    </tr>\n",
       "    <tr>\n",
       "      <th>1526719</th>\n",
       "      <td>1</td>\n",
       "      <td>Oui, cela fonctionne mieux que de l'attendre à...</td>\n",
       "    </tr>\n",
       "    <tr>\n",
       "      <th>1526720</th>\n",
       "      <td>1</td>\n",
       "      <td>Je viens de me réveiller. Ne pas avoir d'école...</td>\n",
       "    </tr>\n",
       "    <tr>\n",
       "      <th>1526721</th>\n",
       "      <td>1</td>\n",
       "      <td>Thewdb.com - très cool d'entendre les vieilles...</td>\n",
       "    </tr>\n",
       "    <tr>\n",
       "      <th>1526722</th>\n",
       "      <td>1</td>\n",
       "      <td>Êtes-vous prêt pour votre mojo makeover? Deman...</td>\n",
       "    </tr>\n",
       "    <tr>\n",
       "      <th>1526723</th>\n",
       "      <td>1</td>\n",
       "      <td>Joyeux 38ème anniversaire à mon livre de tous ...</td>\n",
       "    </tr>\n",
       "  </tbody>\n",
       "</table>\n",
       "<p>1526724 rows × 2 columns</p>\n",
       "</div>"
      ],
      "text/plain": [
       "         label                                               text\n",
       "0            0  - Awww, c'est un bummer. Tu devrais avoir davi...\n",
       "1            0  Est contrarié qu'il ne puisse pas mettre à jou...\n",
       "2            0  J'ai plongé plusieurs fois pour la balle. A ré...\n",
       "3            0  Tout mon corps a des démangeaisons et comme si...\n",
       "4            0  Non, il ne se comporte pas du tout. je suis en...\n",
       "...        ...                                                ...\n",
       "1526719      1  Oui, cela fonctionne mieux que de l'attendre à...\n",
       "1526720      1  Je viens de me réveiller. Ne pas avoir d'école...\n",
       "1526721      1  Thewdb.com - très cool d'entendre les vieilles...\n",
       "1526722      1  Êtes-vous prêt pour votre mojo makeover? Deman...\n",
       "1526723      1  Joyeux 38ème anniversaire à mon livre de tous ...\n",
       "\n",
       "[1526724 rows x 2 columns]"
      ]
     },
     "execution_count": 2,
     "metadata": {},
     "output_type": "execute_result"
    }
   ],
   "source": [
    "fr_df2"
   ]
  },
  {
   "cell_type": "markdown",
   "id": "d4136d52",
   "metadata": {},
   "source": [
    "Here the labels are: \n",
    "\n",
    "0 -> negative tweet \n",
    "\n",
    "1 -> positive tweet (I can use this part of the dataset and use it with the one with a miultitude of classes"
   ]
  },
  {
   "cell_type": "code",
   "execution_count": 15,
   "id": "7f1f4f90",
   "metadata": {},
   "outputs": [
    {
     "data": {
      "text/plain": [
       "7551"
      ]
     },
     "execution_count": 15,
     "metadata": {},
     "output_type": "execute_result"
    }
   ],
   "source": [
    "positive = fr_df2.loc[fr_df2['label']==1]\n",
    "n = len(positive)\n",
    "int(n/100)"
   ]
  },
  {
   "cell_type": "code",
   "execution_count": 4,
   "id": "a1dfc7c8",
   "metadata": {},
   "outputs": [
    {
     "data": {
      "text/plain": [
       "0    - Awww, c'est un bummer. Tu devrais avoir davi...\n",
       "1    Est contrarié qu'il ne puisse pas mettre à jou...\n",
       "2    J'ai plongé plusieurs fois pour la balle. A ré...\n",
       "Name: text, dtype: object"
      ]
     },
     "execution_count": 4,
     "metadata": {},
     "output_type": "execute_result"
    }
   ],
   "source": [
    "fr_df2['text'].head(3)"
   ]
  },
  {
   "cell_type": "code",
   "execution_count": 5,
   "id": "bb0ef366",
   "metadata": {},
   "outputs": [
    {
     "data": {
      "text/plain": [
       "0                  call sis im boy girl still faggot shut\n",
       "1                    @user @user legit nilas retarded idk\n",
       "2                                        said retard @url\n",
       "3       america another 8 years obama's ideology via h...\n",
       "4                     @user don... fucking made cry twat.\n",
       "                              ...                        \n",
       "5642                              @user @user retard :) x\n",
       "5643    i'm hole sir i'm faggot sir i'm clit sir i'm h...\n",
       "5644    (2/2) like fucking twat i'm damage heal you. r...\n",
       "5645                              bf retarded guess u r 2\n",
       "5646                   @user whats ching chong stuff mean\n",
       "Name: tweet, Length: 5647, dtype: object"
      ]
     },
     "execution_count": 5,
     "metadata": {},
     "output_type": "execute_result"
    }
   ],
   "source": [
    "en_df['tweet']"
   ]
  },
  {
   "cell_type": "code",
   "execution_count": null,
   "id": "47183dcf",
   "metadata": {},
   "outputs": [],
   "source": [
    "fr_df.head(3)"
   ]
  },
  {
   "cell_type": "code",
   "execution_count": null,
   "id": "ccde837d",
   "metadata": {},
   "outputs": [],
   "source": [
    "ar_df.head(5)"
   ]
  },
  {
   "cell_type": "code",
   "execution_count": null,
   "id": "327f960a",
   "metadata": {},
   "outputs": [],
   "source": [
    "cum = ar_df['target'].value_counts().to_frame()\n",
    "cum['HITId'] = cum.index\n",
    "cumfig, ax = plt.subplots(figsize=(30,20))\n",
    "sns.barplot(data=cum,x='HITId',y='target',ax=ax)"
   ]
  },
  {
   "cell_type": "code",
   "execution_count": null,
   "id": "dc53bf9b",
   "metadata": {},
   "outputs": [],
   "source": [
    "fr_df.columns"
   ]
  },
  {
   "cell_type": "code",
   "execution_count": null,
   "id": "fea9cb0e",
   "metadata": {},
   "outputs": [],
   "source": [
    "fr_df.describe().transpose()"
   ]
  },
  {
   "cell_type": "code",
   "execution_count": null,
   "id": "f32b692f",
   "metadata": {},
   "outputs": [],
   "source": [
    "ar_df.describe().transpose()"
   ]
  },
  {
   "cell_type": "code",
   "execution_count": null,
   "id": "4fa8ce21",
   "metadata": {},
   "outputs": [],
   "source": [
    "fr_df.isnull().sum()"
   ]
  },
  {
   "cell_type": "code",
   "execution_count": null,
   "id": "86c58fa9",
   "metadata": {},
   "outputs": [],
   "source": [
    "ar_df.isnull().sum()"
   ]
  },
  {
   "cell_type": "code",
   "execution_count": null,
   "id": "2d90bbbc",
   "metadata": {},
   "outputs": [],
   "source": [
    "fr_df.columns"
   ]
  },
  {
   "cell_type": "code",
   "execution_count": null,
   "id": "f310a6dc",
   "metadata": {},
   "outputs": [],
   "source": [
    "ar_df.columns"
   ]
  },
  {
   "cell_type": "code",
   "execution_count": null,
   "id": "869f14dc",
   "metadata": {},
   "outputs": [],
   "source": [
    "fr_df.info()"
   ]
  },
  {
   "cell_type": "markdown",
   "id": "17d136ea",
   "metadata": {},
   "source": [
    "### Analysis of the french dataset"
   ]
  },
  {
   "cell_type": "code",
   "execution_count": null,
   "id": "fdbe16b5",
   "metadata": {},
   "outputs": [],
   "source": [
    "fr_df.head()"
   ]
  },
  {
   "cell_type": "code",
   "execution_count": null,
   "id": "49a1f393",
   "metadata": {},
   "outputs": [],
   "source": [
    "#test if the data contains null values\n",
    "print('Nan value',fr_df.isnull().sum())"
   ]
  },
  {
   "cell_type": "code",
   "execution_count": null,
   "id": "454a99e5",
   "metadata": {},
   "outputs": [],
   "source": [
    "#take a look at the column of the dataframe to see the features\n",
    "fr_df.columns"
   ]
  },
  {
   "cell_type": "code",
   "execution_count": null,
   "id": "71d3adc2",
   "metadata": {},
   "outputs": [],
   "source": [
    "fr_df['sentiment'].value_counts()"
   ]
  },
  {
   "cell_type": "code",
   "execution_count": null,
   "id": "b8c64001",
   "metadata": {},
   "outputs": [],
   "source": [
    "fr_df_drop = fr_df.drop(columns=[\"directness\",\"annotator_sentiment\",\"target\",\"group\"])"
   ]
  },
  {
   "cell_type": "code",
   "execution_count": null,
   "id": "aaeda2b7",
   "metadata": {},
   "outputs": [],
   "source": [
    "fr_df_drop.head()"
   ]
  },
  {
   "cell_type": "code",
   "execution_count": null,
   "id": "0cee1304",
   "metadata": {},
   "outputs": [],
   "source": [
    "class_normal = np.where(fr_df['sentiment']=='normal')"
   ]
  },
  {
   "cell_type": "code",
   "execution_count": null,
   "id": "9cb8000c",
   "metadata": {},
   "outputs": [],
   "source": [
    "dff = fr_df.mask(fr_df['sentiment']=='normal')\n",
    "dff.count()"
   ]
  },
  {
   "cell_type": "code",
   "execution_count": null,
   "id": "09f5327a",
   "metadata": {},
   "outputs": [],
   "source": [
    "fr_df['tweet']"
   ]
  },
  {
   "cell_type": "code",
   "execution_count": null,
   "id": "4f005d8c",
   "metadata": {},
   "outputs": [],
   "source": []
  },
  {
   "cell_type": "markdown",
   "id": "4d8151ad",
   "metadata": {},
   "source": [
    "### Analyse dataset arabe"
   ]
  },
  {
   "cell_type": "code",
   "execution_count": null,
   "id": "f2a3d3af",
   "metadata": {},
   "outputs": [],
   "source": [
    "ar_df.head(100)"
   ]
  },
  {
   "cell_type": "code",
   "execution_count": null,
   "id": "878a3134",
   "metadata": {
    "scrolled": true
   },
   "outputs": [],
   "source": [
    "ar_df.isnull().sum()"
   ]
  },
  {
   "cell_type": "code",
   "execution_count": null,
   "id": "c1d17beb",
   "metadata": {},
   "outputs": [],
   "source": [
    "ar_df[ar_df['sentiment'] != 'normal']"
   ]
  },
  {
   "cell_type": "code",
   "execution_count": null,
   "id": "5c8e14ab",
   "metadata": {},
   "outputs": [],
   "source": [
    "ar_df.head(20)"
   ]
  },
  {
   "cell_type": "code",
   "execution_count": null,
   "id": "d62907af",
   "metadata": {},
   "outputs": [],
   "source": []
  },
  {
   "cell_type": "code",
   "execution_count": null,
   "id": "5704b97e",
   "metadata": {},
   "outputs": [],
   "source": []
  }
 ],
 "metadata": {
  "kernelspec": {
   "display_name": "Python 3",
   "language": "python",
   "name": "python3"
  },
  "language_info": {
   "codemirror_mode": {
    "name": "ipython",
    "version": 3
   },
   "file_extension": ".py",
   "mimetype": "text/x-python",
   "name": "python",
   "nbconvert_exporter": "python",
   "pygments_lexer": "ipython3",
   "version": "3.8.8"
  }
 },
 "nbformat": 4,
 "nbformat_minor": 5
}
